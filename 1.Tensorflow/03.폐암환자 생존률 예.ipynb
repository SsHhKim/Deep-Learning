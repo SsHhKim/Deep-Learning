{
 "cells": [
  {
   "cell_type": "code",
   "execution_count": 12,
   "metadata": {},
   "outputs": [
    {
     "data": {
      "text/plain": [
       "'2.1.0'"
      ]
     },
     "execution_count": 12,
     "metadata": {},
     "output_type": "execute_result"
    }
   ],
   "source": [
    "# 필요한 라이브러리\n",
    "import numpy as np\n",
    "import tensorflow as tf\n",
    "tf.__version__"
   ]
  },
  {
   "cell_type": "code",
   "execution_count": 13,
   "metadata": {},
   "outputs": [],
   "source": [
    "from tensorflow.keras.models import Sequential\n",
    "from tensorflow.keras.layers import Dense"
   ]
  },
  {
   "cell_type": "code",
   "execution_count": 14,
   "metadata": {},
   "outputs": [],
   "source": [
    "\n",
    "# 실행할 때마다 같은 결과를 출력하기 위한 seed 값 설정\n",
    "seed = 0\n",
    "np.random.seed(seed)\n",
    "tf.random.set_seed(seed)"
   ]
  },
  {
   "cell_type": "code",
   "execution_count": 31,
   "metadata": {},
   "outputs": [
    {
     "data": {
      "text/plain": [
       "array([[293.  ,   1.  ,   3.8 , ...,   0.  ,  62.  ,   0.  ],\n",
       "       [  1.  ,   2.  ,   2.88, ...,   0.  ,  60.  ,   0.  ],\n",
       "       [  8.  ,   2.  ,   3.19, ...,   0.  ,  66.  ,   1.  ],\n",
       "       ...,\n",
       "       [406.  ,   6.  ,   5.36, ...,   0.  ,  62.  ,   0.  ],\n",
       "       [ 25.  ,   8.  ,   4.32, ...,   0.  ,  58.  ,   1.  ],\n",
       "       [447.  ,   8.  ,   5.2 , ...,   0.  ,  49.  ,   0.  ]])"
      ]
     },
     "execution_count": 31,
     "metadata": {},
     "output_type": "execute_result"
    }
   ],
   "source": [
    "# 준비된 수술 환자 데이터를 불러들임\n",
    "Data_set = np.loadtxt(\"../dataset/ThoraricSurgery.csv\", delimiter=\",\")\n",
    "Data_set"
   ]
  },
  {
   "cell_type": "code",
   "execution_count": 32,
   "metadata": {},
   "outputs": [
    {
     "data": {
      "text/plain": [
       "((470, 17), (470,))"
      ]
     },
     "execution_count": 32,
     "metadata": {},
     "output_type": "execute_result"
    }
   ],
   "source": [
    "# 환자의 기록과 수술 결과를 X와 Y로 구분하여 저장\n",
    "X = Data_set[:, 0:17]\n",
    "Y = Data_set[:, 17]\n",
    "X.shape, Y.shape"
   ]
  },
  {
   "cell_type": "code",
   "execution_count": 33,
   "metadata": {},
   "outputs": [],
   "source": [
    "from tensorflow.keras.models import Sequential\n",
    "from tensorflow.keras.layers import Dense"
   ]
  },
  {
   "cell_type": "code",
   "execution_count": 34,
   "metadata": {},
   "outputs": [
    {
     "name": "stdout",
     "output_type": "stream",
     "text": [
      "Model: \"sequential_1\"\n",
      "_________________________________________________________________\n",
      "Layer (type)                 Output Shape              Param #   \n",
      "=================================================================\n",
      "dense_2 (Dense)              (None, 30)                540       \n",
      "_________________________________________________________________\n",
      "dense_3 (Dense)              (None, 1)                 31        \n",
      "=================================================================\n",
      "Total params: 571\n",
      "Trainable params: 571\n",
      "Non-trainable params: 0\n",
      "_________________________________________________________________\n"
     ]
    }
   ],
   "source": [
    "# 딥러닝 모델 설정\n",
    "\n",
    "model = Sequential([Dense(30, input_shape=(17, ), activation='relu'),\n",
    "                   Dense(1, activation = 'sigmoid')])\n",
    "\n",
    "model.summary()"
   ]
  },
  {
   "cell_type": "code",
   "execution_count": 35,
   "metadata": {},
   "outputs": [],
   "source": [
    "# 딥러닝 환경 설정 (오차함수, 최적화함수)\n",
    "model.compile(loss='binary_crossentropy', optimizer='adam', metrics=['accuracy'])"
   ]
  },
  {
   "cell_type": "code",
   "execution_count": 36,
   "metadata": {},
   "outputs": [
    {
     "name": "stdout",
     "output_type": "stream",
     "text": [
      "Train on 470 samples\n",
      "Epoch 1/20\n",
      "470/470 [==============================] - 1s 1ms/sample - loss: 4.2230 - accuracy: 0.6298\n",
      "Epoch 2/20\n",
      "470/470 [==============================] - 0s 151us/sample - loss: 0.6140 - accuracy: 0.8170\n",
      "Epoch 3/20\n",
      "470/470 [==============================] - 0s 96us/sample - loss: 0.4945 - accuracy: 0.8383\n",
      "Epoch 4/20\n",
      "470/470 [==============================] - 0s 96us/sample - loss: 0.4776 - accuracy: 0.8489\n",
      "Epoch 5/20\n",
      "470/470 [==============================] - 0s 99us/sample - loss: 0.4820 - accuracy: 0.8468\n",
      "Epoch 6/20\n",
      "470/470 [==============================] - 0s 101us/sample - loss: 0.4692 - accuracy: 0.8489\n",
      "Epoch 7/20\n",
      "470/470 [==============================] - 0s 100us/sample - loss: 0.4875 - accuracy: 0.8404\n",
      "Epoch 8/20\n",
      "470/470 [==============================] - 0s 96us/sample - loss: 0.5251 - accuracy: 0.8213\n",
      "Epoch 9/20\n",
      "470/470 [==============================] - 0s 97us/sample - loss: 0.4920 - accuracy: 0.8404\n",
      "Epoch 10/20\n",
      "470/470 [==============================] - 0s 99us/sample - loss: 0.4541 - accuracy: 0.8532\n",
      "Epoch 11/20\n",
      "470/470 [==============================] - 0s 99us/sample - loss: 0.4592 - accuracy: 0.8489\n",
      "Epoch 12/20\n",
      "470/470 [==============================] - 0s 98us/sample - loss: 0.4626 - accuracy: 0.8532\n",
      "Epoch 13/20\n",
      "470/470 [==============================] - 0s 102us/sample - loss: 0.4451 - accuracy: 0.8511\n",
      "Epoch 14/20\n",
      "470/470 [==============================] - 0s 101us/sample - loss: 0.4770 - accuracy: 0.8511\n",
      "Epoch 15/20\n",
      "470/470 [==============================] - 0s 100us/sample - loss: 0.4844 - accuracy: 0.8426\n",
      "Epoch 16/20\n",
      "470/470 [==============================] - 0s 97us/sample - loss: 0.4624 - accuracy: 0.8447\n",
      "Epoch 17/20\n",
      "470/470 [==============================] - 0s 98us/sample - loss: 0.4363 - accuracy: 0.8511\n",
      "Epoch 18/20\n",
      "470/470 [==============================] - 0s 98us/sample - loss: 0.4327 - accuracy: 0.8511\n",
      "Epoch 19/20\n",
      "470/470 [==============================] - 0s 100us/sample - loss: 0.4531 - accuracy: 0.8511\n",
      "Epoch 20/20\n",
      "470/470 [==============================] - 0s 102us/sample - loss: 0.4471 - accuracy: 0.8532\n"
     ]
    },
    {
     "data": {
      "text/plain": [
       "<tensorflow.python.keras.callbacks.History at 0x17fe369da08>"
      ]
     },
     "execution_count": 36,
     "metadata": {},
     "output_type": "execute_result"
    }
   ],
   "source": [
    "# 딥러닝 실행\n",
    "model.fit(X, Y, epochs=20, batch_size=10)"
   ]
  },
  {
   "cell_type": "code",
   "execution_count": 37,
   "metadata": {},
   "outputs": [
    {
     "name": "stdout",
     "output_type": "stream",
     "text": [
      "470/470 - 0s - loss: 0.4996 - accuracy: 0.8191\n",
      "\n",
      " Accuracy: 0.8191\n"
     ]
    }
   ],
   "source": [
    "# 결과 출력\n",
    "# evaluate() returns the loss value & metrics values for the model \n",
    "print(\"\\n Accuracy: %.4f\" % (model.evaluate(X, Y, verbose=2))[1])"
   ]
  },
  {
   "cell_type": "code",
   "execution_count": null,
   "metadata": {},
   "outputs": [],
   "source": []
  },
  {
   "cell_type": "code",
   "execution_count": null,
   "metadata": {},
   "outputs": [],
   "source": []
  }
 ],
 "metadata": {
  "kernelspec": {
   "display_name": "Python 3",
   "language": "python",
   "name": "python3"
  },
  "language_info": {
   "codemirror_mode": {
    "name": "ipython",
    "version": 3
   },
   "file_extension": ".py",
   "mimetype": "text/x-python",
   "name": "python",
   "nbconvert_exporter": "python",
   "pygments_lexer": "ipython3",
   "version": "3.7.7"
  }
 },
 "nbformat": 4,
 "nbformat_minor": 4
}
