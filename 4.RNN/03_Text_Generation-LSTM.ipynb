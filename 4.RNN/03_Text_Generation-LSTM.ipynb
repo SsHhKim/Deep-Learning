{
 "cells": [
  {
   "cell_type": "markdown",
   "metadata": {},
   "source": [
    "# LSTM을 이용한 텍스트 생성"
   ]
  },
  {
   "cell_type": "code",
   "execution_count": 1,
   "metadata": {},
   "outputs": [
    {
     "name": "stderr",
     "output_type": "stream",
     "text": [
      "Using TensorFlow backend.\n"
     ]
    }
   ],
   "source": [
    "import numpy as np\n",
    "import pandas as pd\n",
    "from string import punctuation\n",
    "\n",
    "from tensorflow import keras\n",
    "from keras.preprocessing.text import Tokenizer\n",
    "from keras.preprocessing.sequence import pad_sequences\n",
    "from keras.utils import to_categorical"
   ]
  },
  {
   "cell_type": "code",
   "execution_count": 15,
   "metadata": {},
   "outputs": [
    {
     "data": {
      "text/html": [
       "<div>\n",
       "<style scoped>\n",
       "    .dataframe tbody tr th:only-of-type {\n",
       "        vertical-align: middle;\n",
       "    }\n",
       "\n",
       "    .dataframe tbody tr th {\n",
       "        vertical-align: top;\n",
       "    }\n",
       "\n",
       "    .dataframe thead th {\n",
       "        text-align: right;\n",
       "    }\n",
       "</style>\n",
       "<table border=\"1\" class=\"dataframe\">\n",
       "  <thead>\n",
       "    <tr style=\"text-align: right;\">\n",
       "      <th></th>\n",
       "      <th>articleID</th>\n",
       "      <th>articleWordCount</th>\n",
       "      <th>byline</th>\n",
       "      <th>documentType</th>\n",
       "      <th>headline</th>\n",
       "      <th>keywords</th>\n",
       "      <th>multimedia</th>\n",
       "      <th>newDesk</th>\n",
       "      <th>printPage</th>\n",
       "      <th>pubDate</th>\n",
       "      <th>sectionName</th>\n",
       "      <th>snippet</th>\n",
       "      <th>source</th>\n",
       "      <th>typeOfMaterial</th>\n",
       "      <th>webURL</th>\n",
       "    </tr>\n",
       "  </thead>\n",
       "  <tbody>\n",
       "    <tr>\n",
       "      <th>0</th>\n",
       "      <td>5adf6684068401528a2aa69b</td>\n",
       "      <td>781</td>\n",
       "      <td>By JOHN BRANCH</td>\n",
       "      <td>article</td>\n",
       "      <td>Former N.F.L. Cheerleadersâ Settlement Offer...</td>\n",
       "      <td>['Workplace Hazards and Violations', 'Football...</td>\n",
       "      <td>68</td>\n",
       "      <td>Sports</td>\n",
       "      <td>0</td>\n",
       "      <td>2018-04-24 17:16:49</td>\n",
       "      <td>Pro Football</td>\n",
       "      <td>âI understand that they could meet with us, ...</td>\n",
       "      <td>The New York Times</td>\n",
       "      <td>News</td>\n",
       "      <td>https://www.nytimes.com/2018/04/24/sports/foot...</td>\n",
       "    </tr>\n",
       "    <tr>\n",
       "      <th>1</th>\n",
       "      <td>5adf653f068401528a2aa697</td>\n",
       "      <td>656</td>\n",
       "      <td>By LISA FRIEDMAN</td>\n",
       "      <td>article</td>\n",
       "      <td>E.P.A. to Unveil a New Rule. Its Effect: Less ...</td>\n",
       "      <td>['Environmental Protection Agency', 'Pruitt, S...</td>\n",
       "      <td>68</td>\n",
       "      <td>Climate</td>\n",
       "      <td>0</td>\n",
       "      <td>2018-04-24 17:11:21</td>\n",
       "      <td>Unknown</td>\n",
       "      <td>The agency plans to publish a new regulation T...</td>\n",
       "      <td>The New York Times</td>\n",
       "      <td>News</td>\n",
       "      <td>https://www.nytimes.com/2018/04/24/climate/epa...</td>\n",
       "    </tr>\n",
       "    <tr>\n",
       "      <th>2</th>\n",
       "      <td>5adf4626068401528a2aa628</td>\n",
       "      <td>2427</td>\n",
       "      <td>By PETE WELLS</td>\n",
       "      <td>article</td>\n",
       "      <td>The New Noma, Explained</td>\n",
       "      <td>['Restaurants', 'Noma (Copenhagen, Restaurant)...</td>\n",
       "      <td>66</td>\n",
       "      <td>Dining</td>\n",
       "      <td>0</td>\n",
       "      <td>2018-04-24 14:58:44</td>\n",
       "      <td>Unknown</td>\n",
       "      <td>Whatâs it like to eat at the second incarnat...</td>\n",
       "      <td>The New York Times</td>\n",
       "      <td>News</td>\n",
       "      <td>https://www.nytimes.com/2018/04/24/dining/noma...</td>\n",
       "    </tr>\n",
       "    <tr>\n",
       "      <th>3</th>\n",
       "      <td>5adf40d2068401528a2aa619</td>\n",
       "      <td>626</td>\n",
       "      <td>By JULIE HIRSCHFELD DAVIS and PETER BAKER</td>\n",
       "      <td>article</td>\n",
       "      <td>Unknown</td>\n",
       "      <td>['Macron, Emmanuel (1977- )', 'Trump, Donald J...</td>\n",
       "      <td>68</td>\n",
       "      <td>Washington</td>\n",
       "      <td>0</td>\n",
       "      <td>2018-04-24 14:35:57</td>\n",
       "      <td>Europe</td>\n",
       "      <td>President Trump welcomed President Emmanuel Ma...</td>\n",
       "      <td>The New York Times</td>\n",
       "      <td>News</td>\n",
       "      <td>https://www.nytimes.com/2018/04/24/world/europ...</td>\n",
       "    </tr>\n",
       "    <tr>\n",
       "      <th>4</th>\n",
       "      <td>5adf3d64068401528a2aa60f</td>\n",
       "      <td>815</td>\n",
       "      <td>By IAN AUSTEN and DAN BILEFSKY</td>\n",
       "      <td>article</td>\n",
       "      <td>Unknown</td>\n",
       "      <td>['Toronto, Ontario, Attack (April, 2018)', 'Mu...</td>\n",
       "      <td>68</td>\n",
       "      <td>Foreign</td>\n",
       "      <td>0</td>\n",
       "      <td>2018-04-24 14:21:21</td>\n",
       "      <td>Canada</td>\n",
       "      <td>Alek Minassian, 25, a resident of Torontoâs ...</td>\n",
       "      <td>The New York Times</td>\n",
       "      <td>News</td>\n",
       "      <td>https://www.nytimes.com/2018/04/24/world/canad...</td>\n",
       "    </tr>\n",
       "  </tbody>\n",
       "</table>\n",
       "</div>"
      ],
      "text/plain": [
       "                  articleID  articleWordCount  \\\n",
       "0  5adf6684068401528a2aa69b               781   \n",
       "1  5adf653f068401528a2aa697               656   \n",
       "2  5adf4626068401528a2aa628              2427   \n",
       "3  5adf40d2068401528a2aa619               626   \n",
       "4  5adf3d64068401528a2aa60f               815   \n",
       "\n",
       "                                      byline documentType  \\\n",
       "0                             By JOHN BRANCH      article   \n",
       "1                           By LISA FRIEDMAN      article   \n",
       "2                              By PETE WELLS      article   \n",
       "3  By JULIE HIRSCHFELD DAVIS and PETER BAKER      article   \n",
       "4             By IAN AUSTEN and DAN BILEFSKY      article   \n",
       "\n",
       "                                            headline  \\\n",
       "0  Former N.F.L. Cheerleadersâ Settlement Offer...   \n",
       "1  E.P.A. to Unveil a New Rule. Its Effect: Less ...   \n",
       "2                            The New Noma, Explained   \n",
       "3                                            Unknown   \n",
       "4                                            Unknown   \n",
       "\n",
       "                                            keywords  multimedia     newDesk  \\\n",
       "0  ['Workplace Hazards and Violations', 'Football...          68      Sports   \n",
       "1  ['Environmental Protection Agency', 'Pruitt, S...          68     Climate   \n",
       "2  ['Restaurants', 'Noma (Copenhagen, Restaurant)...          66      Dining   \n",
       "3  ['Macron, Emmanuel (1977- )', 'Trump, Donald J...          68  Washington   \n",
       "4  ['Toronto, Ontario, Attack (April, 2018)', 'Mu...          68     Foreign   \n",
       "\n",
       "   printPage              pubDate   sectionName  \\\n",
       "0          0  2018-04-24 17:16:49  Pro Football   \n",
       "1          0  2018-04-24 17:11:21       Unknown   \n",
       "2          0  2018-04-24 14:58:44       Unknown   \n",
       "3          0  2018-04-24 14:35:57        Europe   \n",
       "4          0  2018-04-24 14:21:21        Canada   \n",
       "\n",
       "                                             snippet              source  \\\n",
       "0  âI understand that they could meet with us, ...  The New York Times   \n",
       "1  The agency plans to publish a new regulation T...  The New York Times   \n",
       "2  Whatâs it like to eat at the second incarnat...  The New York Times   \n",
       "3  President Trump welcomed President Emmanuel Ma...  The New York Times   \n",
       "4  Alek Minassian, 25, a resident of Torontoâs ...  The New York Times   \n",
       "\n",
       "  typeOfMaterial                                             webURL  \n",
       "0           News  https://www.nytimes.com/2018/04/24/sports/foot...  \n",
       "1           News  https://www.nytimes.com/2018/04/24/climate/epa...  \n",
       "2           News  https://www.nytimes.com/2018/04/24/dining/noma...  \n",
       "3           News  https://www.nytimes.com/2018/04/24/world/europ...  \n",
       "4           News  https://www.nytimes.com/2018/04/24/world/canad...  "
      ]
     },
     "execution_count": 15,
     "metadata": {},
     "output_type": "execute_result"
    }
   ],
   "source": [
    "df=pd.read_csv('data/ArticlesApril2018.csv', encoding='latin1')\n",
    "df.head()"
   ]
  },
  {
   "cell_type": "code",
   "execution_count": 16,
   "metadata": {},
   "outputs": [
    {
     "name": "stdout",
     "output_type": "stream",
     "text": [
      "열의 개수:  15\n",
      "Index(['articleID', 'articleWordCount', 'byline', 'documentType', 'headline',\n",
      "       'keywords', 'multimedia', 'newDesk', 'printPage', 'pubDate',\n",
      "       'sectionName', 'snippet', 'source', 'typeOfMaterial', 'webURL'],\n",
      "      dtype='object')\n"
     ]
    }
   ],
   "source": [
    "print('열의 개수: ', len(df.columns))\n",
    "print(df.columns)"
   ]
  },
  {
   "cell_type": "code",
   "execution_count": 17,
   "metadata": {},
   "outputs": [
    {
     "data": {
      "text/plain": [
       "False"
      ]
     },
     "execution_count": 17,
     "metadata": {},
     "output_type": "execute_result"
    }
   ],
   "source": [
    "# headline 열의 데이터만 사용, Null 검사\n",
    "df['headline'].isnull().values.any()"
   ]
  },
  {
   "cell_type": "code",
   "execution_count": 18,
   "metadata": {},
   "outputs": [
    {
     "data": {
      "text/plain": [
       "['Former N.F.L. Cheerleadersâ\\x80\\x99 Settlement Offer: $1 and a Meeting With Goodell',\n",
       " 'E.P.A. to Unveil a New Rule. Its Effect: Less Science in Policymaking.',\n",
       " 'The New Noma, Explained',\n",
       " 'Unknown',\n",
       " 'Unknown']"
      ]
     },
     "execution_count": 18,
     "metadata": {},
     "output_type": "execute_result"
    }
   ],
   "source": [
    "# headline 열의 데이터로 리스트 생성\n",
    "headline=[title for title in df.headline.values]\n",
    "headline[:5]"
   ]
  },
  {
   "cell_type": "code",
   "execution_count": 19,
   "metadata": {},
   "outputs": [
    {
     "data": {
      "text/plain": [
       "1324"
      ]
     },
     "execution_count": 19,
     "metadata": {},
     "output_type": "execute_result"
    }
   ],
   "source": [
    "len(headline)"
   ]
  },
  {
   "cell_type": "code",
   "execution_count": 24,
   "metadata": {},
   "outputs": [
    {
     "data": {
      "text/plain": [
       "1214"
      ]
     },
     "execution_count": 24,
     "metadata": {},
     "output_type": "execute_result"
    }
   ],
   "source": [
    "# 노이즈 데이터('Unknown') 제거 \n",
    "headline = [title for title in headline if title != 'Unknown']\n",
    "len(headline)"
   ]
  },
  {
   "cell_type": "code",
   "execution_count": 26,
   "metadata": {},
   "outputs": [],
   "source": [
    "# 구두점 제거와 소문자화를 위한 함수\n",
    "def repreprocessing(s) :\n",
    "    s=s.encode(\"utf8\").decode(\"ascii\", 'ignore')\n",
    "    return ''.join(c for c in s if c not in punctuation).lower()"
   ]
  },
  {
   "cell_type": "code",
   "execution_count": 27,
   "metadata": {},
   "outputs": [
    {
     "data": {
      "text/plain": [
       "['former nfl cheerleaders settlement offer 1 and a meeting with goodell',\n",
       " 'epa to unveil a new rule its effect less science in policymaking',\n",
       " 'the new noma explained',\n",
       " 'how a bag of texas dirt  became a times tradition',\n",
       " 'is school a place for selfexpression']"
      ]
     },
     "execution_count": 27,
     "metadata": {},
     "output_type": "execute_result"
    }
   ],
   "source": [
    "text = [repreprocessing(x) for x in headline]\n",
    "text[:5]"
   ]
  },
  {
   "cell_type": "code",
   "execution_count": 29,
   "metadata": {},
   "outputs": [
    {
     "name": "stdout",
     "output_type": "stream",
     "text": [
      "단어 집합의 크기 : 3494\n"
     ]
    }
   ],
   "source": [
    "# 단어 집합(bocabulary)을 만들고 크기를 확인\n",
    "t = Tokenizer()\n",
    "t.fit_on_texts(text)\n",
    "vocab_size = len(t.word_index) + 1\n",
    "print('단어 집합의 크기 : %d' % vocab_size)"
   ]
  },
  {
   "cell_type": "code",
   "execution_count": 30,
   "metadata": {},
   "outputs": [
    {
     "data": {
      "text/plain": [
       "[[99, 269],\n",
       " [99, 269, 371],\n",
       " [99, 269, 371, 1115],\n",
       " [99, 269, 371, 1115, 582],\n",
       " [99, 269, 371, 1115, 582, 52],\n",
       " [99, 269, 371, 1115, 582, 52, 7],\n",
       " [99, 269, 371, 1115, 582, 52, 7, 2],\n",
       " [99, 269, 371, 1115, 582, 52, 7, 2, 372],\n",
       " [99, 269, 371, 1115, 582, 52, 7, 2, 372, 10],\n",
       " [99, 269, 371, 1115, 582, 52, 7, 2, 372, 10, 1116],\n",
       " [100, 3]]"
      ]
     },
     "execution_count": 30,
     "metadata": {},
     "output_type": "execute_result"
    }
   ],
   "source": [
    "sequences = []\n",
    "for line in text: # 1,214 개의 샘플에 대해서 샘플을 1개씩 가져온다.\n",
    "    encoded = t.texts_to_sequences([line])[0] # 각 샘플에 대한 정수 인코딩\n",
    "    for i in range(1, len(encoded)):\n",
    "        sequence = encoded[:i+1]\n",
    "        sequences.append(sequence)\n",
    "\n",
    "sequences[:11] # 11개의 샘플 출력"
   ]
  },
  {
   "cell_type": "code",
   "execution_count": 31,
   "metadata": {},
   "outputs": [
    {
     "name": "stdout",
     "output_type": "stream",
     "text": [
      "빈도수 상위 1번 단어 : the\n",
      "빈도수 상위 582번 단어 : offer\n"
     ]
    }
   ],
   "source": [
    "index_to_word = {}\n",
    "for key, value in t.word_index.items(): # 인덱스를 단어로 바꾸기 위해 index_to_word를 생성\n",
    "    index_to_word[value] = key\n",
    "\n",
    "print('빈도수 상위 1번 단어 :', index_to_word[1])\n",
    "print('빈도수 상위 582번 단어 :', index_to_word[582])"
   ]
  },
  {
   "cell_type": "code",
   "execution_count": 32,
   "metadata": {},
   "outputs": [
    {
     "name": "stdout",
     "output_type": "stream",
     "text": [
      "샘플의 최대 길이 : 24\n"
     ]
    }
   ],
   "source": [
    "max_len=max(len(s) for s in sequences)\n",
    "print('샘플의 최대 길이 :', max_len)"
   ]
  },
  {
   "cell_type": "code",
   "execution_count": 33,
   "metadata": {},
   "outputs": [
    {
     "name": "stdout",
     "output_type": "stream",
     "text": [
      "[[   0    0    0    0    0    0    0    0    0    0    0    0    0    0\n",
      "     0    0    0    0    0    0    0    0   99  269]\n",
      " [   0    0    0    0    0    0    0    0    0    0    0    0    0    0\n",
      "     0    0    0    0    0    0    0   99  269  371]\n",
      " [   0    0    0    0    0    0    0    0    0    0    0    0    0    0\n",
      "     0    0    0    0    0    0   99  269  371 1115]]\n"
     ]
    }
   ],
   "source": [
    "# 전체 샘플의 길이를 24(가장 긴 샘플의 길이)로 패딩\n",
    "# 'pre' 옵션을 주면 앞을 0으로 패딩\n",
    "sequences = pad_sequences(sequences, maxlen=max_len, padding='pre')\n",
    "print(sequences[:3])"
   ]
  },
  {
   "cell_type": "code",
   "execution_count": 34,
   "metadata": {},
   "outputs": [],
   "source": [
    "X = sequences[:,:-1]\n",
    "y = sequences[:,-1]"
   ]
  },
  {
   "cell_type": "code",
   "execution_count": 35,
   "metadata": {},
   "outputs": [],
   "source": [
    "# 레이블 데이터 y에 대해서 원-핫 인코딩을 수행\n",
    "y = to_categorical(y, num_classes=vocab_size)"
   ]
  },
  {
   "cell_type": "code",
   "execution_count": 36,
   "metadata": {},
   "outputs": [
    {
     "data": {
      "text/plain": [
       "((7803, 23), (7803, 3494))"
      ]
     },
     "execution_count": 36,
     "metadata": {},
     "output_type": "execute_result"
    }
   ],
   "source": [
    "X.shape, y.shape"
   ]
  },
  {
   "cell_type": "code",
   "execution_count": 37,
   "metadata": {},
   "outputs": [],
   "source": [
    "# 2. 모델 설계 및 학습"
   ]
  },
  {
   "cell_type": "code",
   "execution_count": 38,
   "metadata": {},
   "outputs": [],
   "source": [
    "from tensorflow import keras\n",
    "from keras.models import Sequential\n",
    "from keras.layers import Embedding, Dense, LSTM"
   ]
  },
  {
   "cell_type": "code",
   "execution_count": 39,
   "metadata": {},
   "outputs": [],
   "source": [
    "# 임베딩 벡터는 10차원, 은닉 상태 크기는 128\n",
    "embedding = Embedding(vocab_size, 10, input_length=max_len-1, name=\"Embedding_Layer\")\n",
    "lstm = LSTM(128, name=\"LSTM_Layer\")\n",
    "output = Dense(vocab_size, activation='softmax', name=\"Output_Layer\")"
   ]
  },
  {
   "cell_type": "code",
   "execution_count": 42,
   "metadata": {},
   "outputs": [
    {
     "name": "stdout",
     "output_type": "stream",
     "text": [
      "Model: \"sequential_2\"\n",
      "_________________________________________________________________\n",
      "Layer (type)                 Output Shape              Param #   \n",
      "=================================================================\n",
      "Embedding_Layer (Embedding)  (None, 23, 10)            34940     \n",
      "_________________________________________________________________\n",
      "LSTM_Layer (LSTM)            (None, 128)               71168     \n",
      "_________________________________________________________________\n",
      "Output_Layer (Dense)         (None, 3494)              450726    \n",
      "=================================================================\n",
      "Total params: 556,834\n",
      "Trainable params: 556,834\n",
      "Non-trainable params: 0\n",
      "_________________________________________________________________\n"
     ]
    }
   ],
   "source": [
    "model = Sequential()\n",
    "model.add(Embedding(vocab_size, 10, input_length=max_len-1, name=\"Embedding_Layer\"))\n",
    "model.add(LSTM(128, name=\"LSTM_Layer\"))\n",
    "model.add(Dense(vocab_size, activation='softmax', name=\"Output_Layer\"))\n",
    "model.summary()"
   ]
  },
  {
   "cell_type": "code",
   "execution_count": 43,
   "metadata": {},
   "outputs": [],
   "source": [
    "model.compile(loss='categorical_crossentropy', \n",
    "              optimizer='adam', metrics=['accuracy'])"
   ]
  },
  {
   "cell_type": "code",
   "execution_count": 44,
   "metadata": {
    "scrolled": true
   },
   "outputs": [
    {
     "name": "stderr",
     "output_type": "stream",
     "text": [
      "C:\\ProgramData\\Anaconda3\\envs\\tf2\\lib\\site-packages\\tensorflow_core\\python\\framework\\indexed_slices.py:433: UserWarning: Converting sparse IndexedSlices to a dense Tensor of unknown shape. This may consume a large amount of memory.\n",
      "  \"Converting sparse IndexedSlices to a dense Tensor of unknown shape. \"\n"
     ]
    },
    {
     "name": "stdout",
     "output_type": "stream",
     "text": [
      "Epoch 1/200\n",
      " - 5s - loss: 7.6343 - accuracy: 0.0278\n",
      "Epoch 2/200\n",
      " - 4s - loss: 7.1127 - accuracy: 0.0306\n",
      "Epoch 3/200\n",
      " - 4s - loss: 6.9724 - accuracy: 0.0359\n",
      "Epoch 4/200\n",
      " - 4s - loss: 6.8337 - accuracy: 0.0418\n",
      "Epoch 5/200\n",
      " - 4s - loss: 6.6719 - accuracy: 0.0429\n",
      "Epoch 6/200\n",
      " - 4s - loss: 6.4858 - accuracy: 0.0496\n",
      "Epoch 7/200\n",
      " - 4s - loss: 6.2824 - accuracy: 0.0545\n",
      "Epoch 8/200\n",
      " - 4s - loss: 6.0737 - accuracy: 0.0591\n",
      "Epoch 9/200\n",
      " - 4s - loss: 5.8727 - accuracy: 0.0663\n",
      "Epoch 10/200\n",
      " - 4s - loss: 5.6880 - accuracy: 0.0687\n",
      "Epoch 11/200\n",
      " - 4s - loss: 5.5073 - accuracy: 0.0722\n",
      "Epoch 12/200\n",
      " - 4s - loss: 5.3393 - accuracy: 0.0814\n",
      "Epoch 13/200\n",
      " - 4s - loss: 5.1802 - accuracy: 0.0861\n",
      "Epoch 14/200\n",
      " - 4s - loss: 5.0273 - accuracy: 0.0936\n",
      "Epoch 15/200\n",
      " - 4s - loss: 4.8816 - accuracy: 0.1043\n",
      "Epoch 16/200\n",
      " - 4s - loss: 4.7432 - accuracy: 0.1192\n",
      "Epoch 17/200\n",
      " - 4s - loss: 4.6096 - accuracy: 0.1317\n",
      "Epoch 18/200\n",
      " - 4s - loss: 4.4792 - accuracy: 0.1440\n",
      "Epoch 19/200\n",
      " - 4s - loss: 4.3578 - accuracy: 0.1653\n",
      "Epoch 20/200\n",
      " - 4s - loss: 4.2321 - accuracy: 0.1774\n",
      "Epoch 21/200\n",
      " - 4s - loss: 4.1166 - accuracy: 0.1954\n",
      "Epoch 22/200\n",
      " - 4s - loss: 4.0021 - accuracy: 0.2126\n",
      "Epoch 23/200\n",
      " - 4s - loss: 3.8896 - accuracy: 0.2311\n",
      "Epoch 24/200\n",
      " - 4s - loss: 3.7801 - accuracy: 0.2541\n",
      "Epoch 25/200\n",
      " - 4s - loss: 3.6742 - accuracy: 0.2681\n",
      "Epoch 26/200\n",
      " - 4s - loss: 3.5714 - accuracy: 0.2895\n",
      "Epoch 27/200\n",
      " - 4s - loss: 3.4697 - accuracy: 0.3040\n",
      "Epoch 28/200\n",
      " - 4s - loss: 3.3726 - accuracy: 0.3208\n",
      "Epoch 29/200\n",
      " - 4s - loss: 3.2768 - accuracy: 0.3444\n",
      "Epoch 30/200\n",
      " - 4s - loss: 3.1870 - accuracy: 0.3570\n",
      "Epoch 31/200\n",
      " - 4s - loss: 3.1024 - accuracy: 0.3718\n",
      "Epoch 32/200\n",
      " - 4s - loss: 3.0121 - accuracy: 0.3904\n",
      "Epoch 33/200\n",
      " - 4s - loss: 2.9331 - accuracy: 0.4045\n",
      "Epoch 34/200\n",
      " - 4s - loss: 2.8491 - accuracy: 0.4195\n",
      "Epoch 35/200\n",
      " - 4s - loss: 2.7726 - accuracy: 0.4353\n",
      "Epoch 36/200\n",
      " - 4s - loss: 2.7004 - accuracy: 0.4496\n",
      "Epoch 37/200\n",
      " - 4s - loss: 2.6267 - accuracy: 0.4656\n",
      "Epoch 38/200\n",
      " - 4s - loss: 2.5587 - accuracy: 0.4724\n",
      "Epoch 39/200\n",
      " - 4s - loss: 2.4921 - accuracy: 0.4883\n",
      "Epoch 40/200\n",
      " - 4s - loss: 2.4285 - accuracy: 0.5011\n",
      "Epoch 41/200\n",
      " - 4s - loss: 2.3659 - accuracy: 0.5151\n",
      "Epoch 42/200\n",
      " - 4s - loss: 2.3056 - accuracy: 0.5271\n",
      "Epoch 43/200\n",
      " - 4s - loss: 2.2500 - accuracy: 0.5344\n",
      "Epoch 44/200\n",
      " - 4s - loss: 2.1922 - accuracy: 0.5507\n",
      "Epoch 45/200\n",
      " - 4s - loss: 2.1385 - accuracy: 0.5589\n",
      "Epoch 46/200\n",
      " - 4s - loss: 2.0862 - accuracy: 0.5679\n",
      "Epoch 47/200\n",
      " - 4s - loss: 2.0337 - accuracy: 0.5789\n",
      "Epoch 48/200\n",
      " - 4s - loss: 1.9888 - accuracy: 0.5932\n",
      "Epoch 49/200\n",
      " - 4s - loss: 1.9366 - accuracy: 0.6027\n",
      "Epoch 50/200\n",
      " - 4s - loss: 1.8945 - accuracy: 0.6107\n",
      "Epoch 51/200\n",
      " - 4s - loss: 1.8499 - accuracy: 0.6190\n",
      "Epoch 52/200\n",
      " - 4s - loss: 1.8047 - accuracy: 0.6304\n",
      "Epoch 53/200\n",
      " - 4s - loss: 1.7648 - accuracy: 0.6376\n",
      "Epoch 54/200\n",
      " - 4s - loss: 1.7229 - accuracy: 0.6428\n",
      "Epoch 55/200\n",
      " - 4s - loss: 1.6846 - accuracy: 0.6545\n",
      "Epoch 56/200\n",
      " - 4s - loss: 1.6436 - accuracy: 0.6627\n",
      "Epoch 57/200\n",
      " - 4s - loss: 1.6073 - accuracy: 0.6751\n",
      "Epoch 58/200\n",
      " - 4s - loss: 1.5727 - accuracy: 0.6809\n",
      "Epoch 59/200\n",
      " - 4s - loss: 1.5381 - accuracy: 0.6887\n",
      "Epoch 60/200\n",
      " - 4s - loss: 1.5013 - accuracy: 0.6986\n",
      "Epoch 61/200\n",
      " - 4s - loss: 1.4671 - accuracy: 0.7041\n",
      "Epoch 62/200\n",
      " - 4s - loss: 1.4358 - accuracy: 0.7072\n",
      "Epoch 63/200\n",
      " - 4s - loss: 1.4042 - accuracy: 0.7170\n",
      "Epoch 64/200\n",
      " - 4s - loss: 1.3726 - accuracy: 0.7268\n",
      "Epoch 65/200\n",
      " - 4s - loss: 1.3417 - accuracy: 0.7300\n",
      "Epoch 66/200\n",
      " - 4s - loss: 1.3127 - accuracy: 0.7380\n",
      "Epoch 67/200\n",
      " - 4s - loss: 1.2836 - accuracy: 0.7438\n",
      "Epoch 68/200\n",
      " - 4s - loss: 1.2574 - accuracy: 0.7498\n",
      "Epoch 69/200\n",
      " - 4s - loss: 1.2265 - accuracy: 0.7560\n",
      "Epoch 70/200\n",
      " - 4s - loss: 1.1983 - accuracy: 0.7602\n",
      "Epoch 71/200\n",
      " - 4s - loss: 1.1717 - accuracy: 0.7639\n",
      "Epoch 72/200\n",
      " - 4s - loss: 1.1488 - accuracy: 0.7710\n",
      "Epoch 73/200\n",
      " - 4s - loss: 1.1251 - accuracy: 0.7762\n",
      "Epoch 74/200\n",
      " - 4s - loss: 1.0989 - accuracy: 0.7814\n",
      "Epoch 75/200\n",
      " - 4s - loss: 1.0749 - accuracy: 0.7852\n",
      "Epoch 76/200\n",
      " - 4s - loss: 1.0528 - accuracy: 0.7900\n",
      "Epoch 77/200\n",
      " - 4s - loss: 1.0291 - accuracy: 0.7944\n",
      "Epoch 78/200\n",
      " - 4s - loss: 1.0070 - accuracy: 0.8010\n",
      "Epoch 79/200\n",
      " - 4s - loss: 0.9852 - accuracy: 0.8029\n",
      "Epoch 80/200\n",
      " - 4s - loss: 0.9653 - accuracy: 0.8065\n",
      "Epoch 81/200\n",
      " - 4s - loss: 0.9489 - accuracy: 0.8088\n",
      "Epoch 82/200\n",
      " - 4s - loss: 0.9247 - accuracy: 0.8152\n",
      "Epoch 83/200\n",
      " - 4s - loss: 0.9075 - accuracy: 0.8157\n",
      "Epoch 84/200\n",
      " - 4s - loss: 0.8847 - accuracy: 0.8260\n",
      "Epoch 85/200\n",
      " - 4s - loss: 0.8664 - accuracy: 0.8258\n",
      "Epoch 86/200\n",
      " - 4s - loss: 0.8493 - accuracy: 0.8276\n",
      "Epoch 87/200\n",
      " - 4s - loss: 0.8331 - accuracy: 0.8335\n",
      "Epoch 88/200\n",
      " - 4s - loss: 0.8169 - accuracy: 0.8351\n",
      "Epoch 89/200\n",
      " - 4s - loss: 0.8001 - accuracy: 0.8404\n",
      "Epoch 90/200\n",
      " - 4s - loss: 0.7848 - accuracy: 0.8394\n",
      "Epoch 91/200\n",
      " - 4s - loss: 0.7698 - accuracy: 0.8453\n",
      "Epoch 92/200\n",
      " - 4s - loss: 0.7534 - accuracy: 0.8483\n",
      "Epoch 93/200\n",
      " - 4s - loss: 0.7335 - accuracy: 0.8525\n",
      "Epoch 94/200\n",
      " - 4s - loss: 0.7205 - accuracy: 0.8549\n",
      "Epoch 95/200\n",
      " - 4s - loss: 0.7068 - accuracy: 0.8552\n",
      "Epoch 96/200\n",
      " - 4s - loss: 0.6906 - accuracy: 0.8585\n",
      "Epoch 97/200\n",
      " - 4s - loss: 0.6815 - accuracy: 0.8594\n",
      "Epoch 98/200\n",
      " - 4s - loss: 0.6682 - accuracy: 0.8625\n",
      "Epoch 99/200\n",
      " - 4s - loss: 0.6526 - accuracy: 0.8677\n",
      "Epoch 100/200\n",
      " - 4s - loss: 0.6409 - accuracy: 0.8659\n",
      "Epoch 101/200\n",
      " - 4s - loss: 0.6291 - accuracy: 0.8697\n",
      "Epoch 102/200\n",
      " - 4s - loss: 0.6178 - accuracy: 0.8750\n",
      "Epoch 103/200\n",
      " - 4s - loss: 0.6052 - accuracy: 0.8779\n",
      "Epoch 104/200\n",
      " - 4s - loss: 0.5921 - accuracy: 0.8783\n",
      "Epoch 105/200\n",
      " - 4s - loss: 0.5823 - accuracy: 0.8775\n",
      "Epoch 106/200\n",
      " - 4s - loss: 0.5714 - accuracy: 0.8830\n",
      "Epoch 107/200\n",
      " - 4s - loss: 0.5590 - accuracy: 0.8848\n",
      "Epoch 108/200\n",
      " - 4s - loss: 0.5494 - accuracy: 0.8888\n",
      "Epoch 109/200\n",
      " - 4s - loss: 0.5404 - accuracy: 0.8882\n",
      "Epoch 110/200\n",
      " - 4s - loss: 0.5300 - accuracy: 0.8918\n",
      "Epoch 111/200\n",
      " - 4s - loss: 0.5222 - accuracy: 0.8902\n",
      "Epoch 112/200\n",
      " - 4s - loss: 0.5112 - accuracy: 0.8923\n",
      "Epoch 113/200\n",
      " - 4s - loss: 0.5033 - accuracy: 0.8954\n",
      "Epoch 114/200\n",
      " - 4s - loss: 0.4947 - accuracy: 0.8954\n",
      "Epoch 115/200\n",
      " - 4s - loss: 0.4865 - accuracy: 0.8956\n",
      "Epoch 116/200\n",
      " - 4s - loss: 0.4771 - accuracy: 0.9006\n",
      "Epoch 117/200\n",
      " - 4s - loss: 0.4694 - accuracy: 0.8985\n",
      "Epoch 118/200\n",
      " - 4s - loss: 0.4637 - accuracy: 0.8989\n",
      "Epoch 119/200\n",
      " - 4s - loss: 0.4545 - accuracy: 0.9040\n",
      "Epoch 120/200\n",
      " - 4s - loss: 0.4479 - accuracy: 0.9016\n",
      "Epoch 121/200\n",
      " - 4s - loss: 0.4414 - accuracy: 0.9041\n",
      "Epoch 122/200\n",
      " - 4s - loss: 0.4353 - accuracy: 0.9036\n",
      "Epoch 123/200\n",
      " - 4s - loss: 0.4273 - accuracy: 0.9057\n",
      "Epoch 124/200\n",
      " - 4s - loss: 0.4214 - accuracy: 0.9048\n",
      "Epoch 125/200\n",
      " - 4s - loss: 0.4140 - accuracy: 0.9059\n",
      "Epoch 126/200\n",
      " - 4s - loss: 0.4082 - accuracy: 0.9094\n",
      "Epoch 127/200\n",
      " - 4s - loss: 0.4024 - accuracy: 0.9086\n",
      "Epoch 128/200\n",
      " - 4s - loss: 0.3969 - accuracy: 0.9118\n",
      "Epoch 129/200\n",
      " - 4s - loss: 0.3910 - accuracy: 0.9112\n",
      "Epoch 130/200\n",
      " - 4s - loss: 0.3857 - accuracy: 0.9090\n",
      "Epoch 131/200\n",
      " - 4s - loss: 0.3818 - accuracy: 0.9108\n",
      "Epoch 132/200\n",
      " - 4s - loss: 0.3771 - accuracy: 0.9131\n",
      "Epoch 133/200\n",
      " - 4s - loss: 0.3731 - accuracy: 0.9114\n",
      "Epoch 134/200\n",
      " - 4s - loss: 0.3692 - accuracy: 0.9123\n",
      "Epoch 135/200\n",
      " - 4s - loss: 0.3847 - accuracy: 0.9103\n",
      "Epoch 136/200\n",
      " - 4s - loss: 0.3690 - accuracy: 0.9134\n",
      "Epoch 137/200\n",
      " - 4s - loss: 0.3548 - accuracy: 0.9145\n",
      "Epoch 138/200\n",
      " - 4s - loss: 0.3501 - accuracy: 0.9146\n",
      "Epoch 139/200\n",
      " - 4s - loss: 0.3449 - accuracy: 0.9140\n",
      "Epoch 140/200\n",
      " - 4s - loss: 0.3435 - accuracy: 0.9152\n",
      "Epoch 141/200\n",
      " - 4s - loss: 0.3393 - accuracy: 0.9158\n",
      "Epoch 142/200\n",
      " - 4s - loss: 0.3375 - accuracy: 0.9162\n",
      "Epoch 143/200\n",
      " - 4s - loss: 0.3340 - accuracy: 0.9140\n",
      "Epoch 144/200\n",
      " - 4s - loss: 0.3324 - accuracy: 0.9143\n",
      "Epoch 145/200\n",
      " - 4s - loss: 0.3276 - accuracy: 0.9154\n",
      "Epoch 146/200\n",
      " - 4s - loss: 0.3301 - accuracy: 0.9150\n",
      "Epoch 147/200\n",
      " - 4s - loss: 0.3499 - accuracy: 0.9122\n",
      "Epoch 148/200\n",
      " - 4s - loss: 0.3304 - accuracy: 0.9155\n",
      "Epoch 149/200\n",
      " - 4s - loss: 0.3172 - accuracy: 0.9175\n",
      "Epoch 150/200\n",
      " - 4s - loss: 0.3137 - accuracy: 0.9162\n",
      "Epoch 151/200\n",
      " - 4s - loss: 0.3115 - accuracy: 0.9182\n",
      "Epoch 152/200\n",
      " - 4s - loss: 0.3088 - accuracy: 0.9170\n",
      "Epoch 153/200\n",
      " - 4s - loss: 0.3067 - accuracy: 0.9164\n",
      "Epoch 154/200\n",
      " - 4s - loss: 0.3050 - accuracy: 0.9172\n"
     ]
    },
    {
     "name": "stdout",
     "output_type": "stream",
     "text": [
      "Epoch 155/200\n",
      " - 4s - loss: 0.3034 - accuracy: 0.9158\n",
      "Epoch 156/200\n",
      " - 4s - loss: 0.3015 - accuracy: 0.9172\n",
      "Epoch 157/200\n",
      " - 4s - loss: 0.2999 - accuracy: 0.9163\n",
      "Epoch 158/200\n",
      " - 4s - loss: 0.2983 - accuracy: 0.9163\n",
      "Epoch 159/200\n",
      " - 4s - loss: 0.2975 - accuracy: 0.9173\n",
      "Epoch 160/200\n",
      " - 4s - loss: 0.2958 - accuracy: 0.9184\n",
      "Epoch 161/200\n",
      " - 4s - loss: 0.2976 - accuracy: 0.9181\n",
      "Epoch 162/200\n",
      " - 4s - loss: 0.2941 - accuracy: 0.9152\n",
      "Epoch 163/200\n",
      " - 4s - loss: 0.2940 - accuracy: 0.9163\n",
      "Epoch 164/200\n",
      " - 4s - loss: 0.2964 - accuracy: 0.9155\n",
      "Epoch 165/200\n",
      " - 4s - loss: 0.3022 - accuracy: 0.9139\n",
      "Epoch 166/200\n",
      " - 4s - loss: 0.2929 - accuracy: 0.9155\n",
      "Epoch 167/200\n",
      " - 4s - loss: 0.2853 - accuracy: 0.9177\n",
      "Epoch 168/200\n",
      " - 4s - loss: 0.2846 - accuracy: 0.9154\n",
      "Epoch 169/200\n",
      " - 4s - loss: 0.2828 - accuracy: 0.9173\n",
      "Epoch 170/200\n",
      " - 4s - loss: 0.2828 - accuracy: 0.9173\n",
      "Epoch 171/200\n",
      " - 4s - loss: 0.2821 - accuracy: 0.9177\n",
      "Epoch 172/200\n",
      " - 4s - loss: 0.2808 - accuracy: 0.9170\n",
      "Epoch 173/200\n",
      " - 4s - loss: 0.2804 - accuracy: 0.9177\n",
      "Epoch 174/200\n",
      " - 4s - loss: 0.2806 - accuracy: 0.9161\n",
      "Epoch 175/200\n",
      " - 4s - loss: 0.2794 - accuracy: 0.9167\n",
      "Epoch 176/200\n",
      " - 4s - loss: 0.2783 - accuracy: 0.9167\n",
      "Epoch 177/200\n",
      " - 4s - loss: 0.2818 - accuracy: 0.9155\n",
      "Epoch 178/200\n",
      " - 4s - loss: 0.2772 - accuracy: 0.9161\n",
      "Epoch 179/200\n",
      " - 4s - loss: 0.2761 - accuracy: 0.9161\n",
      "Epoch 180/200\n",
      " - 4s - loss: 0.2748 - accuracy: 0.9162\n",
      "Epoch 181/200\n",
      " - 4s - loss: 0.2733 - accuracy: 0.9172\n",
      "Epoch 182/200\n",
      " - 4s - loss: 0.2736 - accuracy: 0.9159\n",
      "Epoch 183/200\n",
      " - 4s - loss: 0.2724 - accuracy: 0.9153\n",
      "Epoch 184/200\n",
      " - 4s - loss: 0.2732 - accuracy: 0.9157\n",
      "Epoch 185/200\n",
      " - 4s - loss: 0.2729 - accuracy: 0.9157\n",
      "Epoch 186/200\n",
      " - 4s - loss: 0.2946 - accuracy: 0.9116\n",
      "Epoch 187/200\n",
      " - 4s - loss: 0.3066 - accuracy: 0.9099\n",
      "Epoch 188/200\n",
      " - 4s - loss: 0.2752 - accuracy: 0.9146\n",
      "Epoch 189/200\n",
      " - 4s - loss: 0.2746 - accuracy: 0.9148\n",
      "Epoch 190/200\n",
      " - 4s - loss: 0.2690 - accuracy: 0.9185\n",
      "Epoch 191/200\n",
      " - 4s - loss: 0.2681 - accuracy: 0.9170\n",
      "Epoch 192/200\n",
      " - 4s - loss: 0.2673 - accuracy: 0.9164\n",
      "Epoch 193/200\n",
      " - 4s - loss: 0.2677 - accuracy: 0.9173\n",
      "Epoch 194/200\n",
      " - 4s - loss: 0.2665 - accuracy: 0.9185\n",
      "Epoch 195/200\n",
      " - 4s - loss: 0.2668 - accuracy: 0.9162\n",
      "Epoch 196/200\n",
      " - 4s - loss: 0.2680 - accuracy: 0.9152\n",
      "Epoch 197/200\n",
      " - 4s - loss: 0.2661 - accuracy: 0.9162\n",
      "Epoch 198/200\n",
      " - 4s - loss: 0.2653 - accuracy: 0.9159\n",
      "Epoch 199/200\n",
      " - 4s - loss: 0.2662 - accuracy: 0.9176\n",
      "Epoch 200/200\n",
      " - 4s - loss: 0.2649 - accuracy: 0.9161\n"
     ]
    }
   ],
   "source": [
    "history = model.fit(X, y, epochs=200, verbose=2)"
   ]
  },
  {
   "cell_type": "code",
   "execution_count": null,
   "metadata": {},
   "outputs": [],
   "source": []
  },
  {
   "cell_type": "code",
   "execution_count": 45,
   "metadata": {},
   "outputs": [],
   "source": [
    "def sentence_generation(model, t, current_word, n): # 모델, 토크나이저, 현재 단어, 반복할 횟수\n",
    "    init_word = current_word # 처음 들어온 단어도 마지막에 같이 출력하기위해 저장\n",
    "    sentence = ''\n",
    "    for _ in range(n): # n번 반복\n",
    "        encoded = t.texts_to_sequences([current_word])[0] # 현재 단어에 대한 정수 인코딩\n",
    "        encoded = pad_sequences([encoded], maxlen=23, padding='pre') # 데이터에 대한 패딩\n",
    "        result = model.predict_classes(encoded, verbose=0)\n",
    "          # 입력한 X(현재 단어)에 대해서 y를 예측하고 y(예측한 단어)를 result에 저장.\n",
    "        for word, index in t.word_index.items(): \n",
    "            if index == result: # 만약 예측한 단어와 인덱스와 동일한 단어가 있다면\n",
    "                break # 해당 단어가 예측 단어이므로 break\n",
    "        current_word = current_word + ' '  + word # 현재 단어 + ' ' + 예측 단어를 현재 단어로 변경\n",
    "        sentence = sentence + ' ' + word # 예측 단어를 문장에 저장\n",
    "\n",
    "    sentence = init_word + sentence\n",
    "    return sentence"
   ]
  },
  {
   "cell_type": "code",
   "execution_count": 46,
   "metadata": {},
   "outputs": [
    {
     "name": "stdout",
     "output_type": "stream",
     "text": [
      "i want to be rich and im not sorry he tv\n"
     ]
    }
   ],
   "source": [
    "print(sentence_generation(model, t, 'i', 10))\n",
    "# 임의의 단어 'i'에 대해서 10개의 단어를 추가 생성"
   ]
  },
  {
   "cell_type": "code",
   "execution_count": 47,
   "metadata": {},
   "outputs": [
    {
     "name": "stdout",
     "output_type": "stream",
     "text": [
      "how to make a crossword puzzle project point against you episodes\n"
     ]
    }
   ],
   "source": [
    "print(sentence_generation(model, t, 'how', 10))\n",
    "# 임의의 단어 'how'에 대해서 10개의 단어를 추가 생성"
   ]
  },
  {
   "cell_type": "code",
   "execution_count": 48,
   "metadata": {},
   "outputs": [
    {
     "name": "stdout",
     "output_type": "stream",
     "text": [
      "former judge to review files seized in searches night money case\n"
     ]
    }
   ],
   "source": [
    "print(sentence_generation(model, t, 'former', 10))"
   ]
  },
  {
   "cell_type": "code",
   "execution_count": null,
   "metadata": {},
   "outputs": [],
   "source": []
  },
  {
   "cell_type": "code",
   "execution_count": null,
   "metadata": {},
   "outputs": [],
   "source": []
  }
 ],
 "metadata": {
  "kernelspec": {
   "display_name": "Python 3",
   "language": "python",
   "name": "python3"
  },
  "language_info": {
   "codemirror_mode": {
    "name": "ipython",
    "version": 3
   },
   "file_extension": ".py",
   "mimetype": "text/x-python",
   "name": "python",
   "nbconvert_exporter": "python",
   "pygments_lexer": "ipython3",
   "version": "3.7.7"
  }
 },
 "nbformat": 4,
 "nbformat_minor": 4
}
