{
 "cells": [
  {
   "cell_type": "code",
   "execution_count": 79,
   "metadata": {},
   "outputs": [],
   "source": [
    "import numpy as np\n",
    "import pandas as pd\n",
    "from string import punctuation\n",
    "\n",
    "from tensorflow import keras\n",
    "from keras.preprocessing.text import Tokenizer\n",
    "from keras.preprocessing.sequence import pad_sequences\n",
    "from keras.utils import to_categorical"
   ]
  },
  {
   "cell_type": "code",
   "execution_count": 80,
   "metadata": {},
   "outputs": [
    {
     "data": {
      "text/html": [
       "<div>\n",
       "<style scoped>\n",
       "    .dataframe tbody tr th:only-of-type {\n",
       "        vertical-align: middle;\n",
       "    }\n",
       "\n",
       "    .dataframe tbody tr th {\n",
       "        vertical-align: top;\n",
       "    }\n",
       "\n",
       "    .dataframe thead th {\n",
       "        text-align: right;\n",
       "    }\n",
       "</style>\n",
       "<table border=\"1\" class=\"dataframe\">\n",
       "  <thead>\n",
       "    <tr style=\"text-align: right;\">\n",
       "      <th></th>\n",
       "      <th>abstract</th>\n",
       "      <th>articleID</th>\n",
       "      <th>articleWordCount</th>\n",
       "      <th>byline</th>\n",
       "      <th>documentType</th>\n",
       "      <th>headline</th>\n",
       "      <th>keywords</th>\n",
       "      <th>multimedia</th>\n",
       "      <th>newDesk</th>\n",
       "      <th>printPage</th>\n",
       "      <th>pubDate</th>\n",
       "      <th>sectionName</th>\n",
       "      <th>snippet</th>\n",
       "      <th>source</th>\n",
       "      <th>typeOfMaterial</th>\n",
       "      <th>webURL</th>\n",
       "    </tr>\n",
       "  </thead>\n",
       "  <tbody>\n",
       "    <tr>\n",
       "      <th>0</th>\n",
       "      <td>NaN</td>\n",
       "      <td>5906b3197c459f24986dd003</td>\n",
       "      <td>2412</td>\n",
       "      <td>By IAN JOHNSON</td>\n",
       "      <td>article</td>\n",
       "      <td>My Beijing: The Sacred City</td>\n",
       "      <td>['Travel and Vacations', 'Beijing (China)', 'R...</td>\n",
       "      <td>3</td>\n",
       "      <td>Travel</td>\n",
       "      <td>1</td>\n",
       "      <td>2017-05-01 04:01:21</td>\n",
       "      <td>Unknown</td>\n",
       "      <td>This metropolis was once a total work of art, ...</td>\n",
       "      <td>The New York Times</td>\n",
       "      <td>News</td>\n",
       "      <td>https://www.nytimes.com/2017/05/01/travel/beij...</td>\n",
       "    </tr>\n",
       "    <tr>\n",
       "      <th>1</th>\n",
       "      <td>NaN</td>\n",
       "      <td>5906b3297c459f24986dd004</td>\n",
       "      <td>2318</td>\n",
       "      <td>By EMMA G. FITZSIMMONS</td>\n",
       "      <td>article</td>\n",
       "      <td>6 Million Riders a Day, 1930s Technology</td>\n",
       "      <td>['Subways', 'Delays (Transportation)', 'Transi...</td>\n",
       "      <td>68</td>\n",
       "      <td>Metro</td>\n",
       "      <td>1</td>\n",
       "      <td>2017-05-01 04:01:33</td>\n",
       "      <td>Unknown</td>\n",
       "      <td>New Yorkâs subway is struggling with old inf...</td>\n",
       "      <td>The New York Times</td>\n",
       "      <td>News</td>\n",
       "      <td>https://www.nytimes.com/2017/05/01/nyregion/ne...</td>\n",
       "    </tr>\n",
       "    <tr>\n",
       "      <th>2</th>\n",
       "      <td>NaN</td>\n",
       "      <td>5906ceec7c459f24986dd021</td>\n",
       "      <td>1795</td>\n",
       "      <td>By MARC TRACY</td>\n",
       "      <td>article</td>\n",
       "      <td>Seeking a Cross-Border Conference</td>\n",
       "      <td>['Cetys University', 'College Athletics', 'Nat...</td>\n",
       "      <td>3</td>\n",
       "      <td>Sports</td>\n",
       "      <td>1</td>\n",
       "      <td>2017-05-01 06:00:05</td>\n",
       "      <td>Unknown</td>\n",
       "      <td>Cetys University is making an ambitious bid to...</td>\n",
       "      <td>The New York Times</td>\n",
       "      <td>News</td>\n",
       "      <td>https://www.nytimes.com/2017/05/01/sports/mexi...</td>\n",
       "    </tr>\n",
       "    <tr>\n",
       "      <th>3</th>\n",
       "      <td>NaN</td>\n",
       "      <td>5906cfa77c459f24986dd022</td>\n",
       "      <td>213</td>\n",
       "      <td>By SHANNON DOYNE</td>\n",
       "      <td>article</td>\n",
       "      <td>Questions for: âDespite the âYuck Factor,â...</td>\n",
       "      <td>[]</td>\n",
       "      <td>3</td>\n",
       "      <td>Learning</td>\n",
       "      <td>0</td>\n",
       "      <td>2017-05-01 06:03:03</td>\n",
       "      <td>Unknown</td>\n",
       "      <td>How are leeches used to treat various medical ...</td>\n",
       "      <td>The New York Times</td>\n",
       "      <td>News</td>\n",
       "      <td>https://www.nytimes.com/2017/05/01/learning/qu...</td>\n",
       "    </tr>\n",
       "    <tr>\n",
       "      <th>4</th>\n",
       "      <td>NaN</td>\n",
       "      <td>5906e1c07c459f24986dd039</td>\n",
       "      <td>1342</td>\n",
       "      <td>By JASON STANLEY</td>\n",
       "      <td>article</td>\n",
       "      <td>Who Is a âCriminalâ?</td>\n",
       "      <td>['Illegal Immigration', 'Traffic and Parking V...</td>\n",
       "      <td>3</td>\n",
       "      <td>OpEd</td>\n",
       "      <td>0</td>\n",
       "      <td>2017-05-01 07:20:26</td>\n",
       "      <td>Unknown</td>\n",
       "      <td>Justice Roberts was right. The Trump administr...</td>\n",
       "      <td>The New York Times</td>\n",
       "      <td>Op-Ed</td>\n",
       "      <td>https://www.nytimes.com/2017/05/01/opinion/who...</td>\n",
       "    </tr>\n",
       "  </tbody>\n",
       "</table>\n",
       "</div>"
      ],
      "text/plain": [
       "  abstract                 articleID  articleWordCount  \\\n",
       "0      NaN  5906b3197c459f24986dd003              2412   \n",
       "1      NaN  5906b3297c459f24986dd004              2318   \n",
       "2      NaN  5906ceec7c459f24986dd021              1795   \n",
       "3      NaN  5906cfa77c459f24986dd022               213   \n",
       "4      NaN  5906e1c07c459f24986dd039              1342   \n",
       "\n",
       "                   byline documentType  \\\n",
       "0          By IAN JOHNSON      article   \n",
       "1  By EMMA G. FITZSIMMONS      article   \n",
       "2           By MARC TRACY      article   \n",
       "3        By SHANNON DOYNE      article   \n",
       "4        By JASON STANLEY      article   \n",
       "\n",
       "                                            headline  \\\n",
       "0                        My Beijing: The Sacred City   \n",
       "1           6 Million Riders a Day, 1930s Technology   \n",
       "2                  Seeking a Cross-Border Conference   \n",
       "3  Questions for: âDespite the âYuck Factor,â...   \n",
       "4                           Who Is a âCriminalâ?   \n",
       "\n",
       "                                            keywords  multimedia   newDesk  \\\n",
       "0  ['Travel and Vacations', 'Beijing (China)', 'R...           3    Travel   \n",
       "1  ['Subways', 'Delays (Transportation)', 'Transi...          68     Metro   \n",
       "2  ['Cetys University', 'College Athletics', 'Nat...           3    Sports   \n",
       "3                                                 []           3  Learning   \n",
       "4  ['Illegal Immigration', 'Traffic and Parking V...           3      OpEd   \n",
       "\n",
       "   printPage              pubDate sectionName  \\\n",
       "0          1  2017-05-01 04:01:21     Unknown   \n",
       "1          1  2017-05-01 04:01:33     Unknown   \n",
       "2          1  2017-05-01 06:00:05     Unknown   \n",
       "3          0  2017-05-01 06:03:03     Unknown   \n",
       "4          0  2017-05-01 07:20:26     Unknown   \n",
       "\n",
       "                                             snippet              source  \\\n",
       "0  This metropolis was once a total work of art, ...  The New York Times   \n",
       "1  New Yorkâs subway is struggling with old inf...  The New York Times   \n",
       "2  Cetys University is making an ambitious bid to...  The New York Times   \n",
       "3  How are leeches used to treat various medical ...  The New York Times   \n",
       "4  Justice Roberts was right. The Trump administr...  The New York Times   \n",
       "\n",
       "  typeOfMaterial                                             webURL  \n",
       "0           News  https://www.nytimes.com/2017/05/01/travel/beij...  \n",
       "1           News  https://www.nytimes.com/2017/05/01/nyregion/ne...  \n",
       "2           News  https://www.nytimes.com/2017/05/01/sports/mexi...  \n",
       "3           News  https://www.nytimes.com/2017/05/01/learning/qu...  \n",
       "4          Op-Ed  https://www.nytimes.com/2017/05/01/opinion/who...  "
      ]
     },
     "execution_count": 80,
     "metadata": {},
     "output_type": "execute_result"
    }
   ],
   "source": [
    "df=pd.read_csv('data/ArticlesMay2017.csv', encoding='latin')\n",
    "df.head()"
   ]
  },
  {
   "cell_type": "code",
   "execution_count": 81,
   "metadata": {},
   "outputs": [
    {
     "name": "stdout",
     "output_type": "stream",
     "text": [
      "열의 개수:  16\n",
      "Index(['abstract', 'articleID', 'articleWordCount', 'byline', 'documentType',\n",
      "       'headline', 'keywords', 'multimedia', 'newDesk', 'printPage', 'pubDate',\n",
      "       'sectionName', 'snippet', 'source', 'typeOfMaterial', 'webURL'],\n",
      "      dtype='object')\n"
     ]
    }
   ],
   "source": [
    "print('열의 개수: ', len(df.columns))\n",
    "print(df.columns)"
   ]
  },
  {
   "cell_type": "code",
   "execution_count": 82,
   "metadata": {},
   "outputs": [
    {
     "data": {
      "text/plain": [
       "False"
      ]
     },
     "execution_count": 82,
     "metadata": {},
     "output_type": "execute_result"
    }
   ],
   "source": [
    "# headline 열의 데이터만 사용, Null 검사\n",
    "df['headline'].isnull().values.any()"
   ]
  },
  {
   "cell_type": "code",
   "execution_count": 83,
   "metadata": {},
   "outputs": [
    {
     "data": {
      "text/plain": [
       "['My Beijing: The Sacred City',\n",
       " '6 Million Riders a Day, 1930s Technology',\n",
       " 'Seeking a Cross-Border Conference',\n",
       " 'Questions for: â\\x80\\x98Despite the â\\x80\\x9cYuck Factor,â\\x80\\x9d Leeches Are Big in Russian Medicineâ\\x80\\x99',\n",
       " 'Who Is a â\\x80\\x98Criminalâ\\x80\\x99?']"
      ]
     },
     "execution_count": 83,
     "metadata": {},
     "output_type": "execute_result"
    }
   ],
   "source": [
    "# headline 열의 데이터로 리스트 생성\n",
    "headline = [title for title in df.headline.values]\n",
    "headline[:5]"
   ]
  },
  {
   "cell_type": "code",
   "execution_count": 84,
   "metadata": {},
   "outputs": [
    {
     "data": {
      "text/plain": [
       "996"
      ]
     },
     "execution_count": 84,
     "metadata": {},
     "output_type": "execute_result"
    }
   ],
   "source": [
    "len(headline)"
   ]
  },
  {
   "cell_type": "code",
   "execution_count": 85,
   "metadata": {},
   "outputs": [
    {
     "data": {
      "text/plain": [
       "935"
      ]
     },
     "execution_count": 85,
     "metadata": {},
     "output_type": "execute_result"
    }
   ],
   "source": [
    "# 노이즈 데이터('Unknown') 제거\n",
    "headline = [title for title in headline if title != 'Unknown']\n",
    "len(headline)"
   ]
  },
  {
   "cell_type": "code",
   "execution_count": 86,
   "metadata": {},
   "outputs": [],
   "source": [
    "# 구두점 제거와 소문자화를 위한 함수\n",
    "def repreprocessing(s):\n",
    "    s=s.encode(\"utf8\").decode(\"ascii\", 'ignore')\n",
    "    return ''.join(c for c in s if c not in punctuation).lower()"
   ]
  },
  {
   "cell_type": "code",
   "execution_count": 87,
   "metadata": {},
   "outputs": [
    {
     "data": {
      "text/plain": [
       "['my beijing the sacred city',\n",
       " '6 million riders a day 1930s technology',\n",
       " 'seeking a crossborder conference',\n",
       " 'questions for despite the yuck factor leeches are big in russian medicine',\n",
       " 'who is a criminal']"
      ]
     },
     "execution_count": 87,
     "metadata": {},
     "output_type": "execute_result"
    }
   ],
   "source": [
    "text = [repreprocessing(x) for x in headline]\n",
    "text[:5]"
   ]
  },
  {
   "cell_type": "code",
   "execution_count": 110,
   "metadata": {},
   "outputs": [
    {
     "name": "stdout",
     "output_type": "stream",
     "text": [
      "단어 집합의 크기 : 2653\n"
     ]
    }
   ],
   "source": [
    "# 단어 집합(vocabulary)을 만들고 크기를 확인\n",
    "t = Tokenizer()\n",
    "t.fit_on_texts(text)\n",
    "vocab_size = len(t.word_index) + 1\n",
    "print('단어 집합의 크기 : %d' % vocab_size)"
   ]
  },
  {
   "cell_type": "code",
   "execution_count": null,
   "metadata": {},
   "outputs": [],
   "source": []
  },
  {
   "cell_type": "code",
   "execution_count": 89,
   "metadata": {},
   "outputs": [
    {
     "name": "stdout",
     "output_type": "stream",
     "text": [
      "{'the': 1, 'a': 2, 'to': 3, 'of': 4, 'in': 5, 'for': 6, 'and': 7, 'trump': 8, 'is': 9, 'on': 10, 'new': 11, 'how': 12, 'with': 13, 'you': 14, 'at': 15, 'an': 16, 'season': 17, 'what': 18, 'it': 19, 'its': 20, 'york': 21, 'episode': 22, 'trumps': 23, 'from': 24, 'as': 25, 'be': 26, 'not': 27, 'are': 28, 'may': 29, 'when': 30, 'but': 31, 'after': 32, 'about': 33, '3': 34, 'today': 35, 'this': 36, 'us': 37, 'recap': 38, 'by': 39, 'we': 40, 'comey': 41, 'house': 42, 'questions': 43, 'health': 44, 'president': 45, 'bill': 46, 'that': 47, 'my': 48, 'too': 49, 'get': 50, 'was': 51, 'life': 52, 'or': 53, 'will': 54, 'why': 55, 'your': 56, 'city': 57, 'dont': 58, 'care': 59, 'more': 60, 'do': 61, 'can': 62, 'has': 63, 'no': 64, 'up': 65, 'time': 66, 'out': 67, 'into': 68, 'better': 69, 'war': 70, 'his': 71, 'their': 72, 'says': 73, 'american': 74, 'love': 75, 'one': 76, 'gop': 77, '5': 78, 'climate': 79, 'should': 80, 'donald': 81, 'getting': 82, 'mr': 83, 'james': 84, 'like': 85, 'first': 86, 'have': 87, 'right': 88, 'republicans': 89, 'our': 90, 'subway': 91, 'over': 92, 'contest': 93, 'who': 94, 'whats': 95, 'going': 96, 'winner': 97, 'than': 98, 'call': 99, 'white': 100, 'french': 101, 'home': 102, 'pay': 103, 'all': 104, 'future': 105, 'two': 106, 'her': 107, 'if': 108, 'go': 109, 'macron': 110, 'times': 111, 'world': 112, 'editorial': 113, '6': 114, 'power': 115, 'say': 116, 'north': 117, 'much': 118, 'really': 119, 'own': 120, 'handmaids': 121, 'tale': 122, 'americans': 123, 'just': 124, 'takes': 125, 'mindful': 126, 'way': 127, 'where': 128, 'back': 129, 'attack': 130, 'china': 131, 'off': 132, 'he': 133, 'could': 134, 'south': 135, 'firing': 136, 'fbi': 137, 'i': 138, 'body': 139, 'big': 140, 'picture': 141, 'women': 142, 'they': 143, 'real': 144, 'change': 145, 'korea': 146, 'vs': 147, 'political': 148, 'great': 149, 'money': 150, 'deal': 151, 'now': 152, 'voice': 153, 'high': 154, 'crisis': 155, 'children': 156, 'so': 157, 'race': 158, 'good': 159, 'debate': 160, 'fargo': 161, 'less': 162, 'looking': 163, 'take': 164, 'cant': 165, 'death': 166, 'does': 167, 'kushners': 168, 'food': 169, '2': 170, 'news': 171, 'open': 172, 'plan': 173, 'russia': 174, 'pain': 175, 'want': 176, 'bad': 177, 'budget': 178, 'day': 179, 'revised': 180, '2017': 181, 'media': 182, 'dream': 183, 'police': 184, 'seeing': 185, 'injury': 186, 'risks': 187, 'best': 188, 'saul': 189, '4': 190, 'while': 191, 'vietnam': 192, 'lead': 193, 'book': 194, 'did': 195, 'calls': 196, 'come': 197, 'attacks': 198, 'rise': 199, 'america': 200, 'readers': 201, 'past': 202, 'hate': 203, 'learn': 204, 'election': 205, 'red': 206, 'mets': 207, 'year': 208, 'study': 209, 'save': 210, 'action': 211, 'classic': 212, 'would': 213, 'need': 214, 'use': 215, 'man': 216, 'act': 217, 'make': 218, 'wrong': 219, 'friday': 220, 'mailbag': 221, 'cbo': 222, 'market': 223, 'student': 224, 'variety': 225, 'family': 226, 'chinese': 227, 'fall': 228, 'leftovers': 229, 'under': 230, 'help': 231, 'social': 232, 'sports': 233, 'were': 234, 'look': 235, 'again': 236, 'justice': 237, 'talk': 238, 'summer': 239, 'child': 240, 'blame': 241, 'letter': 242, 'history': 243, 'still': 244, 'me': 245, 'democracy': 246, 'work': 247, 'states': 248, 'colleges': 249, 'said': 250, 'free': 251, 'behind': 252, 'math': 253, 'peaks': 254, 'win': 255, 'poverty': 256, '7': 257, 'language': 258, 'hit': 259, 'without': 260, 'suicide': 261, 'experts': 262, 'see': 263, 'cause': 264, 'fatal': 265, 'students': 266, 'street': 267, 'another': 268, '100': 269, 'miles': 270, 'full': 271, 'americas': 272, 'young': 273, 'effect': 274, 'abortion': 275, 'science': 276, 'goes': 277, 'putin': 278, 'chef': 279, 'gender': 280, 'staying': 281, 'making': 282, 'bar': 283, 'faces': 284, 'play': 285, 'tell': 286, 'pass': 287, 'risk': 288, 'center': 289, 'people': 290, 'enough': 291, 'rules': 292, 'add': 293, 'trumpcares': 294, 'close': 295, 'empire': 296, 'ivanka': 297, 'presidents': 298, 'turned': 299, 'down': 300, 'crime': 301, 'once': 302, 'senate': 303, 'test': 304, 'disaster': 305, 'problem': 306, 'ride': 307, 'remember': 308, 'books': 309, 'country': 310, 'europe': 311, 'republic': 312, 'schools': 313, 'missing': 314, 'teaching': 315, 'lessons': 316, 'democrats': 317, 'near': 318, 'wont': 319, 'met': 320, 'ask': 321, 'college': 322, 'hacking': 323, 'france': 324, 'frances': 325, 'party': 326, 'la': 327, 'confederate': 328, 'elects': 329, 'road': 330, 'republican': 331, 'mother': 332, 'left': 333, 'hes': 334, 'meal': 335, 'taking': 336, 'flynn': 337, 'paris': 338, 'benefits': 339, 'person': 340, 'secrets': 341, 'read': 342, 'obama': 343, 'front': 344, 'charge': 345, 'amid': 346, 'inquiry': 347, 'heart': 348, 'master': 349, 'needs': 350, 'west': 351, 'system': 352, 'liberty': 353, 'director': 354, 'against': 355, 'live': 356, 'roils': 357, 'cheap': 358, 'blood': 359, 'favorite': 360, 'him': 361, 'between': 362, 'shot': 363, 'dear': 364, 'troubles': 365, 'role': 366, 'force': 367, 'inside': 368, 'dies': 369, 'daunting': 370, 'trade': 371, 'question': 372, 'hackers': 373, 'global': 374, 'stand': 375, 'united': 376, 'security': 377, 'google': 378, 'legal': 379, 'baby': 380, 'maybe': 381, 'then': 382, 'teachers': 383, 'point': 384, 'room': 385, 'grand': 386, 'twin': 387, 'meat': 388, 'eat': 389, 'wage': 390, 'black': 391, 'terror': 392, 'looks': 393, 'here': 394, 'activists': 395, 'becomes': 396, 'short': 397, 'bombing': 398, 'top': 399, 'appeal': 400, 'nato': 401, 'court': 402, 'kushner': 403, 'embrace': 404, 'accord': 405, 'million': 406, 'riders': 407, 'despite': 408, 'russian': 409, 'medicine': 410, 'europes': 411, 'cost': 412, 'speech': 413, 'being': 414, 'pitch': 415, '1': 416, 'patients': 417, 'medical': 418, 'wall': 419, 'transit': 420, 'reporter': 421, 'cut': 422, 'liberal': 423, 'australia': 424, 'texas': 425, 'shooting': 426, 'most': 427, 'ties': 428, 'put': 429, 'bird': 430, 'coming': 431, 'cry': 432, 'window': 433, 'le': 434, 'restaurant': 435, 'chicken': 436, 'cream': 437, 'days': 438, 'blue': 439, 'stands': 440, 'school': 441, 'choice': 442, 'works': 443, 'novel': 444, 'something': 445, 'badly': 446, 'battle': 447, 'lines': 448, 'outside': 449, 'door': 450, 'last': 451, 'navigating': 452, 'forest': 453, 'comet': 454, 'bright': 455, 'woman': 456, 'uncertainty': 457, 'marching': 458, 'ferry': 459, 'prize': 460, 'brexit': 461, 'covered': 462, 'syria': 463, 'crucial': 464, 'crossword': 465, 'patch': 466, 'ann': 467, 'clinton': 468, 'struggling': 469, 'stopping': 470, 'search': 471, 'dad': 472, 'along': 473, 'worth': 474, 'reach': 475, '9': 476, 'bus': 477, 'medicaid': 478, 'state': 479, 'crazy': 480, 'parents': 481, '13': 482, 'unleash': 483, 'return': 484, 'island': 485, 'doctors': 486, 'office': 487, 'childs': 488, 'presidential': 489, 'leader': 490, 'votes': 491, 'fasting': 492, 'nutrition': 493, 'fruit': 494, 'christian': 495, 'nervous': 496, 'rich': 497, 'billions': 498, 'common': 499, 'name': 500, 'teams': 501, 'league': 502, 'seats': 503, 'space': 504, 'damage': 505, 'team': 506, 'fear': 507, 'many': 508, 'let': 509, 'breathe': 510, 'prisoner': 511, 'heres': 512, 'distance': 513, 'travel': 514, 'movie': 515, 'tv': 516, 'show': 517, 'trail': 518, 'border': 519, 'punish': 520, 'wealthy': 521, 'poor': 522, 'drugs': 523, 'steroids': 524, 'trumpcare': 525, 'granted': 526, 'telling': 527, 'revival': 528, 'theres': 529, 'afford': 530, 'preexisting': 531, 'matter': 532, 'defense': 533, 'phone': 534, 'victory': 535, 'broken': 536, 'fiery': 537, 'debut': 538, 'low': 539, 'mean': 540, 'flavors': 541, 'union': 542, 'story': 543, 'fine': 544, 'citing': 545, 'locked': 546, 'campaign': 547, 'failed': 548, 'debt': 549, 'coop': 550, 'project': 551, 'puzzle': 552, 'final': 553, 'players': 554, 'remains': 555, 'de': 556, 'doctor': 557, 'southern': 558, 'letters': 559, 'monuments': 560, 'harvey': 561, 'modern': 562, 'steady': 563, 'train': 564, 'ahead': 565, 'drastic': 566, 'conservative': 567, 'girls': 568, 'finale': 569, 'rises': 570, 'human': 571, '8': 572, 'review': 573, 'marriage': 574, 'lost': 575, 'remain': 576, 'place': 577, 'drug': 578, 'sway': 579, 'vote': 580, 'beat': 581, 'taiwan': 582, 'annual': 583, 'meeting': 584, 'surprise': 585, 'mans': 586, 'doing': 587, 'prosecutors': 588, 'tougher': 589, 'stance': 590, 'fraternity': 591, 'hazing': 592, 'deaths': 593, 'tiny': 594, 'long': 595, 'business': 596, 'lesson': 597, 'water': 598, 'same': 599, 'sentences': 600, 'chief': 601, 'them': 602, 'national': 603, 'investigate': 604, 'blasphemy': 605, 'challenge': 606, 'meets': 607, 'eye': 608, 'stay': 609, 'together': 610, 'side': 611, 'feast': 612, 'step': 613, 'start': 614, 'yanks': 615, 'disability': 616, 'choose': 617, 'easy': 618, 'talking': 619, 'bring': 620, 'second': 621, 'plans': 622, 'include': 623, 'knees': 624, 'arthritis': 625, 'text': 626, 'david': 627, 'write': 628, 'ticking': 629, 'clock': 630, 'next': 631, '22': 632, 'billion': 633, 'months': 634, 'warning': 635, 'religious': 636, 'tribute': 637, 'learned': 638, 'feel': 639, 'pet': 640, 'moment': 641, 'prime': 642, 'tax': 643, 'cuts': 644, 'daughter': 645, 'cooking': 646, 'shifts': 647, 'calling': 648, 'got': 649, 'washington': 650, 'town': 651, 'mothers': 652, 'club': 653, 'beyond': 654, 'coach': 655, 'thats': 656, 'millions': 657, 'private': 658, 'used': 659, 'didnt': 660, 'boys': 661, 'aim': 662, 'praising': 663, 'fun': 664, 'marathon': 665, 'stirs': 666, 'there': 667, 'tool': 668, 'nsa': 669, 'sweetness': 670, 'called': 671, 'staff': 672, 'gets': 673, 'classroom': 674, 'motherhood': 675, 'safe': 676, 'acrostic': 677, 'warns': 678, 'malware': 679, 'chasing': 680, 'deadly': 681, 'experience': 682, 'segregation': 683, 'invites': 684, 'dangerous': 685, 'justices': 686, 'central': 687, 'wines': 688, 'period': 689, 'expose': 690, 'russians': 691, 'gave': 692, 'ban': 693, 'brick': 694, 'grades': 695, 'mind': 696, 'moving': 697, 'keeping': 698, 'danger': 699, 'healthy': 700, 'sharapova': 701, 'age': 702, 'skin': 703, 'mice': 704, 'port': 705, 'fight': 706, 'major': 707, 'things': 708, 'solution': 709, '11': 710, 'youre': 711, 'lives': 712, 'middle': 713, 'walk': 714, 'kids': 715, 'men': 716, 'three': 717, 'tests': 718, 'special': 719, 'counsel': 720, 'cab': 721, 'end': 722, 'agents': 723, 'always': 724, 'traveling': 725, 'expert': 726, 'dog': 727, 'ideas': 728, 'before': 729, 'divorce': 730, 'anecdotes': 731, 'east': 732, 'trip': 733, 'flood': 734, 'breaking': 735, 'already': 736, 'turning': 737, 'happy': 738, 'cover': 739, 'made': 740, 'oil': 741, 'giving': 742, 'match': 743, 'rent': 744, 'five': 745, 'years': 746, 'deposit': 747, 'falling': 748, 'internet': 749, 'rural': 750, 'india': 751, 'statue': 752, 'guidelines': 753, 'greek': 754, 'cuomo': 755, 'ethics': 756, 'sleep': 757, 'cities': 758, 'reject': 759, 'voters': 760, 'truckers': 761, 'episodes': 762, '12': 763, 'came': 764, 'britain': 765, 'finding': 766, 'remembering': 767, 'extends': 768, 'keep': 769, 'through': 770, 'rising': 771, 'square': 772, 'walks': 773, 'disclose': 774, 'knee': 775, 'cruelty': 776, 'isnt': 777, 'lack': 778, 'advisers': 779, 'flaws': 780, 'bullpen': 781, 'ariana': 782, 'grande': 783, 'taste': 784, 'cure': 785, 'politics': 786, 'manchester': 787, 'assault': 788, 'living': 789, 'dirty': 790, 'away': 791, 'some': 792, 'tempt': 793, 'pact': 794, 'fix': 795, 'idea': 796, 'tiananmen': 797, 'decision': 798, 'beijing': 799, 'sacred': 800, '1930s': 801, 'technology': 802, 'seeking': 803, 'crossborder': 804, 'conference': 805, 'yuck': 806, 'factor': 807, 'leeches': 808, 'criminal': 809, 'antidote': 810, 'populism': 811, 'degradation': 812, 'awful': 813, 'garbles': 814, 'pregnant': 815, 'serious': 816, 'whooping': 817, 'cough': 818, 'wonderland': 819, 'riding': 820, 'london': 821, 'tube': 822, 'avocado': 823, 'cutting': 824, 'yourself': 825, 'fictional': 826, 'alarm': 827, 'claims': 828, 'bias': 829, 'espn': 830, 'crumbling': 831, 'account': 832, 'officers': 833, '15yearold': 834, 'adults': 835, 'favor': 836, 'sex': 837, 'ed': 838, 'feels': 839, 'bind': 840, 'bettertasting': 841, 'everyones': 842, 'critic': 843, 'st': 844, 'felix': 845, 'embraces': 846, 'despot': 847, 'per': 848, 'hour': 849, 'overture': 850, 'manipulator': 851, 'pulitzer': 852, 'shudders': 853, 'muses': 854, 'rallying': 855, 'zika': 856, 'twins': 857, 'virus': 858, 'coucou': 859, 'named': 860, 'beard': 861, 'awards': 862, 'ice': 863, 'field': 864, 'disunion': 865, 'vouchers': 866, 'written': 867, 'idealistic': 868, 'determined': 869, 'slovaks': 870, 'anticorruption': 871, 'crusade': 872, 'gain': 873, 'pursuing': 874, 'superfood': 875, 'expansionists': 876, 'clinic': 877, 'kentucky': 878, '280': 879, 'scaffolding': 880, 'shines': 881, 'fantastic': 882, 'fantastical': 883, 'cool': 884, 'bordering': 885, 'dismay': 886, 'politicizing': 887, 'feedback': 888, 'phones': 889, 'least': 890, 'likely': 891, 'tabloids': 892, 'inky': 893, 'fingerprints': 894, 'wake': 895, 'avoid': 896, 'shutdown': 897, 'later': 898, 'agree': 899, 'pursue': 900, 'ceasefire': 901, 'scrambles': 902, 'shuns': 903, 'oneday': 904, 'internship': 905, 'vegetable': 906, 'flamethrowers': 907, 'coulter': 908, 'campus': 909, 'crossroads': 910, 'unprepared': 911, 'lone': 912, 'wolves': 913, '38': 914, 'pizza': 915, 'exclusive': 916, 'elusive': 917, 'treachery': 918, 'night': 919, 'nessie': 920, 'toast': 921, 'german': 922, 'bank': 923, 'industry': 924, 'reverse': 925, 'tuan': 926, 'flashier': 927, 'cricket': 928, 'specter': 929, 'doping': 930, 'department': 931, 'deserves': 932, 'fox': 933, 'european': 934, 'shaming': 935, 'lunch': 936, 'hookup': 937, 'reasons': 938, 'raising': 939, 'awareness': 940, 'teenage': 941, 'glamorizing': 942, 'caregivers': 943, 'bret': 944, 'stephens': 945, 'fury': 946, 'fbis': 947, 'disclosure': 948, 'jolted': 949, 'assembly': 950, 'required': 951, 'labour': 952, 'brink': 953, 'hamiltons': 954, 'caribbean': 955, 'visits': 956, 'commercials': 957, 'prepare': 958, 'automated': 959, 'dieting': 960, 'magic': 961, 'diabetes': 962, 'immoral': 963, 'preference': 964, 'refugees': 965, 'anger': 966, 'stage': 967, 'rivals': 968, 'notsolazy': 969, 'saturday': 970, 'mildly': 971, 'nauseous': 972, 'extra': 973, 'word': 974, 'bull': 975, 'champions': 976, 'planes': 977, 'airlines': 978, 'reduce': 979, 'shows': 980, 'winter': 981, 'driving': 982, 'hazard': 983, 'ghosts': 984, 'draw': 985, 'yanagita': 986, 'opponents': 987, 'bully': 988, 'pulpit': 989, 'senators': 990, 'unintended': 991, 'consequences': 992, 'penn': 993, 'station': 994, 'modernday': 995, 'harriet': 996, 'tubman': 997, 'ear': 998, 'agenda': 999, 'enemy': 1000, 'enemies': 1001, 'pop': 1002, 'childhood': 1003, 'handstand': 1004, 'preparing': 1005, 'poignant': 1006, 'paper': 1007, 'victims': 1008, 'ocean': 1009, 'beckons': 1010, 'newspapers': 1011, 'streamed': 1012, 'benefit': 1013, 'hives': 1014, 'passed': 1015, 'seafood': 1016, 'cocktails': 1017, 'shock': 1018, 'intimate': 1019, 'portrait': 1020, 'blurred': 1021, 'loving': 1022, 'feeling': 1023, 'im': 1024, 'only': 1025, 'ahca': 1026, 'father': 1027, 'pen': 1028, 'servicebased': 1029, 'policing': 1030, 'elevator': 1031, 'bury': 1032, 'whining': 1033, 'libraries': 1034, 'fining': 1035, 'reality': 1036, 'condition': 1037, 'instructions': 1038, 'old': 1039, 'passes': 1040, 'measure': 1041, 'repeal': 1042, 'replace': 1043, 'affordable': 1044, 'hurting': 1045, 'relationships': 1046, 'endpaper': 1047, 'homemade': 1048, 'company': 1049, 'joining': 1050, 'bridgeandtunnel': 1051, 'crowd': 1052, 'cheers': 1053, 'stirred': 1054, 'hornets': 1055, 'nest': 1056, 'promise': 1057, 'columnist': 1058, 'hiring': 1059, 'sends': 1060, 'jobless': 1061, 'rate': 1062, '10year': 1063, 'forger': 1064, 'losses': 1065, '2010': 1066, 'midterms': 1067, 'tending': 1068, 'daughters': 1069, 'crown': 1070, 'jersey': 1071, 'employment': 1072, 'mediterranean': 1073, 'enlivened': 1074, 'ramps': 1075, 'unorthodox': 1076, 'asparagus': 1077, 'disregarded': 1078, 'ignored': 1079, 'farmers': 1080, 'shopping': 1081, 'tom': 1082, 'colicchio': 1083, 'survival': 1084, '495': 1085, 'signature': 1086, 'shoe': 1087, 'headshakes': 1088, 'headline': 1089, 'asylum': 1090, 'rarely': 1091, '2nd': 1092, 'nominee': 1093, 'army': 1094, 'secretary': 1095, 'withdraws': 1096, 'misleading': 1097, 'leaving': 1098, 'massive': 1099, 'sox': 1100, 'racism': 1101, 'adam': 1102, 'jones': 1103, 'wheres': 1104, 'blowout': 1105, 'collectible': 1106, 'quotations': 1107, 'trilliondollar': 1108, 'mounting': 1109, 'renovation': 1110, 'frustrating': 1111, 'neighbors': 1112, 'greatest': 1113, 'minutes': 1114, 'sport': 1115, 'split': 1116, 'decisions': 1117, 'pounce': 1118, 'path': 1119, 'retake': 1120, 'gives': 1121, 'jolt': 1122, 'chaotic': 1123, 'sister': 1124, 'highlights': 1125, 'investors': 1126, 'keeps': 1127, 'band': 1128, 'fading': 1129, 'star': 1130, 'spurs': 1131, 'et': 1132, 'dfense': 1133, 'rpublique': 1134, 'excandidates': 1135, 'stuck': 1136, 'hillary': 1137, 'clintons': 1138, 'absolution': 1139, 'hazardous': 1140, 'cliff': 1141, 'facebook': 1142, 'miserable': 1143, 'censorship': 1144, 'entrant': 1145, 'factcheck': 1146, 'biz': 1147, 'hidden': 1148, 'radicalism': 1149, 'taxes': 1150, 'duality': 1151, 'quality': 1152, 'starts': 1153, 'c': 1154, 'ends': 1155, 'd': 1156, 'tempers': 1157, 'flare': 1158, 'towering': 1159, 'monument': 1160, 'jesus': 1161, 'mao': 1162, 'disciplined': 1163, 'marlins': 1164, 'fillin': 1165, 'shunning': 1166, 'emergent': 1167, 'far': 1168, 'emmanuel': 1169, 'movement': 1170, 'initialism': 1171, 'bland': 1172, 'strangers': 1173, 'cookies': 1174, 'hope': 1175, 'measures': 1176, 'attention': 1177, 'announce': 1178, 'slate': 1179, 'nominees': 1180, 'federal': 1181, 'courts': 1182, 'boko': 1183, 'haram': 1184, 'releases': 1185, '82': 1186, 'wait': 1187, 'anguish': 1188, 'disappearing': 1189, 'alien': 1190, 'predator': 1191, 'rikers': 1192, 'tumult': 1193, 'monitor': 1194, 'accused': 1195, 'spying': 1196, 'seersucker': 1197, 'civility': 1198, 'must': 1199, 'support': 1200, 'rights': 1201, '1984': 1202, 'wrapped': 1203, 'wish': 1204, 'reason': 1205, 'skeptical': 1206, 'lower': 1207, 'breast': 1208, 'cancer': 1209, 'birth': 1210, 'seniors': 1211, 'shun': 1212, 'treasures': 1213, 'statues': 1214, 'removed': 1215, 'medicare': 1216, 'incentive': 1217, 'leads': 1218, 'greater': 1219, 'hospitalizations': 1220, 'keith': 1221, 'olbermann': 1222, 'cable': 1223, 'newss': 1224, 'standardbearer': 1225, 'boom': 1226, 'machu': 1227, 'picchu': 1228, 'little': 1229, 'tallying': 1230, 'blocked': 1231, 'presses': 1232, 'join': 1233, 'assemblys': 1234, 'whiskey': 1235, 'yet': 1236, 'cook': 1237, 'marry': 1238, 'harry': 1239, 'frozen': 1240, 'peas': 1241, 'witness': 1242, 'recounts': 1243, 'onto': 1244, 'tracks': 1245, 'maple': 1246, 'startup': 1247, 'delivered': 1248, 'data': 1249, 'crunchers': 1250, 'yorkers': 1251, 'misery': 1252, 'misfortune': 1253, 'aplenty': 1254, 'golden': 1255, 'visas': 1256, 'shift': 1257, 'knew': 1258, 'lied': 1259, 'exofficial': 1260, 'testifies': 1261, 'filled': 1262, 'bubbles': 1263, 'con': 1264, 'underdog': 1265, 'borrowed': 1266, 'fidget': 1267, 'spinners': 1268, 'johnson': 1269, 'westmoreland': 1270, 'selling': 1271, 'versus': 1272, 'whiff': 1273, 'tap': 1274, 'contamination': 1275, 'reporting': 1276, 'finds': 1277, 'employer': 1278, 'coverage': 1279, 'va': 1280, 'tries': 1281, 'approach': 1282, 'bloomsbury': 1283, 'those': 1284, 'toilets': 1285, 'fit': 1286, 'society': 1287, 'overdose': 1288, 'worry': 1289, 'stock': 1290, 'weirdly': 1291, 'calm': 1292, 'theory': 1293, 'outreach': 1294, 'extras': 1295, 'claim': 1296, 'spotlight': 1297, 'scaling': 1298, 'sees': 1299, 'agriculture': 1300, 'irish': 1301, 'stephen': 1302, 'fry': 1303, 'thin': 1304, 'defying': 1305, 'turkey': 1306, 'arm': 1307, 'kurds': 1308, 'syrian': 1309, 'provocative': 1310, 'designs': 1311, 'apologizes': 1312, 'monacos': 1313, 'glows': 1314, 'statin': 1315, 'effects': 1316, 'driveable': 1317, 'fires': 1318, 'ugly': 1319, 'relievers': 1320, 'lenience': 1321, 'era': 1322, 'ending': 1323, 'soaring': 1324, 'arent': 1325, 'needed': 1326, 'game': 1327, '10': 1328, 'puppet': 1329, 'paige': 1330, 'lying': 1331, 'nuggs': 1332, 'owning': 1333, 'princeling': 1334, 'wing': 1335, 'stasis': 1336, 'filthy': 1337, 'metaphor': 1338, 'rome': 1339, 'heather': 1340, 'thompson': 1341, 'thinks': 1342, 'unfair': 1343, 'hard': 1344, 'weather': 1345, 'wife': 1346, 'moms': 1347, 'funeral': 1348, 'teenagers': 1349, 'adult': 1350, 'mentors': 1351, 'noisy': 1352, 'signal': 1353, 'shower': 1354, 'wild': 1355, 'drags': 1356, 'uptight': 1357, 'foil': 1358, 'welcome': 1359, 'henry': 1360, 'thoreaus': 1361, 'walking': 1362, 'complicit': 1363, 'sense': 1364, 'deepens': 1365, 'defends': 1366, 'fired': 1367, 'rare': 1368, 'libel': 1369, 'suit': 1370, 'which': 1371, 'tech': 1372, 'overlords': 1373, 'capital': 1374, 'critics': 1375, 'lundqvist': 1376, 'rangers': 1377, 'hear': 1378, 'ginobili': 1379, 'channels': 1380, 'younger': 1381, 'self': 1382, 'abnormal': 1383, 'comeys': 1384, 'weigh': 1385, 'seduction': 1386, 'deep': 1387, 'throat': 1388, 'snap': 1389, 'loses': 1390, 'since': 1391, 'ipo': 1392, 'cannings': 1393, 'tells': 1394, 'around': 1395, 'axed': 1396, 'page': 1397, 'a1': 1398, 'music': 1399, 'order': 1400, 'face': 1401, 'glory': 1402, 'lasting': 1403, 'insulting': 1404, 'intelligence': 1405, 'phonetically': 1406, 'speaking': 1407, 'wolf': 1408, 'clothing': 1409, 'sephora': 1410, 'thrives': 1411, 'retail': 1412, 'imperils': 1413, 'fortunes': 1414, 'planets': 1415, 'banker': 1416, 'deputy': 1417, 'attorney': 1418, 'general': 1419, 'equal': 1420, 'footing': 1421, 'breastfed': 1422, 'parliament': 1423, 'thinners': 1424, 'supplements': 1425, 'had': 1426, 'stroke': 1427, 'thrills': 1428, 'mood': 1429, 'booster': 1430, 'well': 1431, 'illustrated': 1432, 'childbirth': 1433, 'harder': 1434, 'adopt': 1435, 'recommend': 1436, 'current': 1437, 'therapists': 1438, 'secret': 1439, 'oneman': 1440, '3ring': 1441, 'circus': 1442, 'pump': 1443, '1908': 1444, 'harrowing': 1445, 'maritime': 1446, 'rescue': 1447, 'told': 1448, 'seas': 1449, 'outpost': 1450, 'bronx': 1451, 'storebranded': 1452, 'credit': 1453, 'cards': 1454, 'buoy': 1455, 'retailers': 1456, 'mask': 1457, 'rationale': 1458, 'showboat': 1459, 'analyzing': 1460, 'relationship': 1461, 'press': 1462, 'icy': 1463, 'mountain': 1464, 'title': 1465, 'saddest': 1466, 'census': 1467, 'rightwing': 1468, 'hysteria': 1469, 'lady': 1470, 'confidante': 1471, 'reshape': 1472, 'evolving': 1473, 'lad': 1474, 'sword': 1475, 'brute': 1476, 'wink': 1477, 'musical': 1478, 'both': 1479, 'cult': 1480, 'abusers': 1481, 'unpunished': 1482, 'joke': 1483, 'impressionists': 1484, 'anyone': 1485, 'congress': 1486, 'stan': 1487, 'weston': 1488, 'sent': 1489, 'gi': 1490, 'joe': 1491, 'childhoods': 1492, '84': 1493, 'dinner': 1494, 'demanded': 1495, 'loyalty': 1496, 'demurred': 1497, 'trumprussia': 1498, 'nexus': 1499, 'boring': 1500, 'billboard': 1501, 'chart': 1502, 'compete': 1503, 'judas': 1504, 'betrayal': 1505, 'rappers': 1506, 'antimissile': 1507, 'brigitte': 1508, 'liberator': 1509, 'poking': 1510, 'ardent': 1511, 'courtship': 1512, 'olympic': 1513, 'rings': 1514, 'economic': 1515, 'woes': 1516, 'greet': 1517, 'koreas': 1518, 'healing': 1519, 'guardrails': 1520, 'dance': 1521, 'mom': 1522, 'hand': 1523, 'sanitizers': 1524, 'illness': 1525, 'signs': 1526, 'compromise': 1527, 'bluster': 1528, 'tapes': 1529, 'immortal': 1530, 'fingertips': 1531, 'liberals': 1532, 'taken': 1533, 'green': 1534, 'garnish': 1535, 'complaint': 1536, 'purell': 1537, 'touring': 1538, 'patrol': 1539, 'king': 1540, 'kong': 1541, 'fantasy': 1542, 'impeachment': 1543, 'crackdown': 1544, 'forprofit': 1545, 'idle': 1546, 'terrible': 1547, 'tilting': 1548, 'titan': 1549, 'pros': 1550, 'opposite': 1551, 'bills': 1552, 'insults': 1553, 'scramble': 1554, 'defuse': 1555, 'cyberattack': 1556, 'taxpayers': 1557, 'bolder': 1558, 'government': 1559, 'smaller': 1560, 'conquered': 1561, 'gap': 1562, 'boxes': 1563, 'unsteady': 1564, 'obstructing': 1565, 'sticks': 1566, 'fork': 1567, 'mode': 1568, 'u': 1569, 'ur': 1570, 'professor': 1571, 'oval': 1572, 'etiquette': 1573, 'guide': 1574, 'grandbabies': 1575, 'reward': 1576, 'places': 1577, 'everyone': 1578, 'hacked': 1579, 'bump': 1580, 'button': 1581, 'aftershock': 1582, 'feared': 1583, 'complexity': 1584, 'tuition': 1585, 'tennessee': 1586, 'tutor': 1587, 'part': 1588, 'persons': 1589, 'psyche': 1590, 'edging': 1591, 'cures': 1592, 'scourges': 1593, 'surreal': 1594, 'ship': 1595, 'fools': 1596, 'gertrude': 1597, 'alice': 1598, 'genius': 1599, 'formal': 1600, 'interacting': 1601, 'professors': 1602, 'cyberattacks': 1603, 'impact': 1604, 'worsen': 1605, 'wave': 1606, 'ransomware': 1607, 'meaning': 1608, 'culprits': 1609, 'flight': 1610, 'madness': 1611, 'mutiny': 1612, 'fume': 1613, 'fingers': 1614, 'falters': 1615, '15': 1616, 'marathons': 1617, 'nearby': 1618, 'residents': 1619, 'runners': 1620, 'such': 1621, 'thing': 1622, 'emergency': 1623, 'tips': 1624, 'biking': 1625, 'thwart': 1626, 'strict': 1627, 'voter': 1628, 'id': 1629, 'law': 1630, 'unevenly': 1631, 'hurt': 1632, 'blacks': 1633, 'comes': 1634, 'hiding': 1635, 'terrorism': 1636, 'cooperation': 1637, 'informants': 1638, 'fate': 1639, 'hangs': 1640, 'balance': 1641, 'pie': 1642, 'tied': 1643, 'diseases': 1644, 'allys': 1645, 'shell': 1646, 'snackhattan': 1647, 'fraudulent': 1648, 'voterfraud': 1649, 'panel': 1650, 'leading': 1651, 'computer': 1652, 'clues': 1653, 'frequent': 1654, 'culprit': 1655, 'dogtired': 1656, 'womans': 1657, 'fortune': 1658, 'ruin': 1659, 'seeks': 1660, 'planned': 1661, 'parenthood': 1662, 'mojo': 1663, 'took': 1664, '14': 1665, 'pooched': 1666, 'false': 1667, 'bestiary': 1668, 'veep': 1669, 'housecat': 1670, 'mystery': 1671, 'geography': 1672, 'skill': 1673, 'citizen': 1674, 'toward': 1675, 'yogurt': 1676, 'bones': 1677, 'supermarket': 1678, 'done': 1679, 'tattlers': 1680, 'pork': 1681, 'starting': 1682, 'israelis': 1683, 'refuses': 1684, 'admit': 1685, 'mexican': 1686, 'appealed': 1687, 'halt': 1688, 'aide': 1689, 'cells': 1690, 'babies': 1691, 'trials': 1692, 'prompt': 1693, 'whatifs': 1694, 'authority': 1695, 'albany': 1696, 'fish': 1697, 'case': 1698, 'blow': 1699, 'obstruct': 1700, 'revealing': 1701, 'overthinking': 1702, '25th': 1703, 'amendment': 1704, 'removing': 1705, 'monster': 1706, 'creativity': 1707, 'scheduled': 1708, 'wheelchair': 1709, 'accidentally': 1710, 'killed': 1711, 'contact': 1712, 'charlamagne': 1713, 'tha': 1714, 'god': 1715, 'loves': 1716, 'privilege': 1717, 'muscles': 1718, 'weak': 1719, 'pink': 1720, 'dots': 1721, 'summoning': 1722, 'brandname': 1723, 'rooster': 1724, 'kites': 1725, 'hermit': 1726, 'crabs': 1727, 'fred': 1728, 'everlasting': 1729, 'mongooses': 1730, 'lab': 1731, 'rat': 1732, 'snake': 1733, 'popularitys': 1734, 'rough': 1735, 'crosscurrents': 1736, 'suburb': 1737, 'concussion': 1738, 'raise': 1739, 'beards': 1740, 'desirable': 1741, 'offset': 1742, 'drop': 1743, 'tourism': 1744, 'mowing': 1745, 'lawn': 1746, 'officials': 1747, 'erdogan': 1748, 'forces': 1749, 'brutal': 1750, 'protesters': 1751, '850000': 1752, 'thousand': 1753, 'western': 1754, 'know': 1755, 'limits': 1756, 'tactic': 1757, 'statements': 1758, 'obstruction': 1759, 'fda': 1760, 'inaccurate': 1761, 'poisoning': 1762, 'settling': 1763, 'fashion': 1764, 'rivalry': 1765, 'nashville': 1766, 'columbus': 1767, 'basquiats': 1768, 'latest': 1769, 'barely': 1770, 'famous': 1771, 'rightly': 1772, 'till': 1773, 'influence': 1774, 'nbas': 1775, 'upstreamed': 1776, 'hailing': 1777, 'avenue': 1778, 'delegation': 1779, 'federations': 1780, 'snub': 1781, 'immigration': 1782, 'arrests': 1783, 'sharply': 1784, 'carry': 1785, 'mandate': 1786, 'blasio': 1787, 'stick': 1788, 'run': 1789, 'late': 1790, 'nation': 1791, 'raised': 1792, 'upon': 1793, 'sitting': 1794, 'threatened': 1795, 'israel': 1796, 'shoulders': 1797, 'animals': 1798, 'vaccines': 1799, 'measles': 1800, 'encounters': 1801, 'hot': 1802, 'each': 1803, 'other': 1804, 'because': 1805, 'share': 1806, 'openmarriage': 1807, 'stories': 1808, 'tales': 1809, 'flippers': 1810, 'led': 1811, 'housing': 1812, 'bubble': 1813, 'festival': 1814, 'cancel': 1815, 'mindfulness': 1816, 'ailes': 1817, 'rage': 1818, 'guest': 1819, 'post': 1820, 'civic': 1821, 'coffeehouse': 1822, 'sake': 1823, 'jailed': 1824, 'wives': 1825, 'fought': 1826, 'vermouth': 1827, 'ready': 1828, 'whet': 1829, 'appetite': 1830, 'mueller': 1831, 'interrupting': 1832, 'gang': 1833, 'killings': 1834, 'anxiety': 1835, 'yields': 1836, 'laughs': 1837, 'winners': 1838, 'fourth': 1839, 'correspondents': 1840, 'pack': 1841, 'wanted': 1842, 'kept': 1843, '110': 1844, 'weapons': 1845, 'sale': 1846, 'saudi': 1847, 'arabia': 1848, 'personal': 1849, 'touch': 1850, 'become': 1851, 'reaction': 1852, 'recent': 1853, 'puerto': 1854, 'ricos': 1855, 'fiscal': 1856, 'ruins': 1857, 'push': 1858, 'statehood': 1859, 'talent': 1860, 'vacuum': 1861, 'causing': 1862, 'prayer': 1863, 'loss': 1864, 'learning': 1865, '52117': 1866, 'spilled': 1867, 'beans': 1868, 'monochrome': 1869, 'renegade': 1870, 'mission': 1871, 'react': 1872, 'peeking': 1873, 'nike': 1874, 'renting': 1875, 'revived': 1876, 'assange': 1877, 'rape': 1878, 'dropped': 1879, 'rigs': 1880, 'reefs': 1881, 'spectators': 1882, 'behaving': 1883, 'absolutism': 1884, 'insect': 1885, 'mysteries': 1886, 'fighters': 1887, 'flew': 1888, 'measured': 1889, 'duterte': 1890, 'xi': 1891, 'warned': 1892, 'sea': 1893, 'ruling': 1894, 'creamy': 1895, 'burrata': 1896, 'springtime': 1897, 'stop': 1898, 'changes': 1899, 'antarctica': 1900, 'weeks': 1901, 'strawberry': 1902, 'showstopper': 1903, '500': 1904, 'rental': 1905, 'admitted': 1906, 'dismissal': 1907, 'eased': 1908, 'pressure': 1909, 'simple': 1910, 'jobs': 1911, 'easier': 1912, 'wrecked': 1913, 'conservatism': 1914, 'paradoxical': 1915, 'journey': 1916, 'watch': 1917, 'leap': 1918, 'paul': 1919, 'ryans': 1920, 'discontent': 1921, 'winnable': 1922, 'speeches': 1923, 'campuses': 1924, 'backed': 1925, 'roommate': 1926, 'upevent': 1927, 'info': 1928, 'puns': 1929, 'anagrams': 1930, 'pruitts': 1931, 'epa': 1932, 'boon': 1933, 'gas': 1934, 'womens': 1935, 'early': 1936, 'dreams': 1937, 'trumpgate': 1938, 'watergate': 1939, 'journalism': 1940, 'blockbuster': 1941, 'scoops': 1942, '4yearolds': 1943, 'establishment': 1944, 'sellout': 1945, 'israels': 1946, 'checkpoints': 1947, 'presidency': 1948, 'survive': 1949, 'aside': 1950, 'washingtons': 1951, 'blazing': 1952, 'inferno': 1953, 'misquoting': 1954, 'scripture': 1955, 'turns': 1956, 'suits': 1957, 'warriors': 1958, 'agassi': 1959, 'djokovic': 1960, 'wasnt': 1961, 'islam': 1962, 'promoting': 1963, 'soured': 1964, 'uber': 1965, 'camping': 1966, 'aid': 1967, 'chinas': 1968, 'gift': 1969, 'germany': 1970, 'giant': 1971, 'marx': 1972, 'emotional': 1973, 'undertones': 1974, 'lurk': 1975, 'liverpools': 1976, 'uplifting': 1977, 'coda': 1978, 'muhammad': 1979, 'ali': 1980, 'actors': 1981, 'kitchen': 1982, 'pediatricians': 1983, 'advise': 1984, 'juice': 1985, 'anarchists': 1986, 'fill': 1987, 'services': 1988, 'void': 1989, 'faltering': 1990, 'governance': 1991, 'ai': 1992, 'unfreeing': 1993, 'workers': 1994, 'anniversary': 1995, 'coup': 1996, 'hurts': 1997, '24': 1998, 'thai': 1999, 'military': 2000, 'hospital': 2001, 'expectations': 2002, 'earning': 2003, 'saving': 2004, 'spending': 2005, 'challenges': 2006, 'query': 2007, 'stern': 2008, 'reply': 2009, 'pollen': 2010, 'counts': 2011, 'scores': 2012, 'avoiding': 2013, 'trans': 2014, 'fats': 2015, 'adolescent': 2016, 'birding': 2017, 'stresses': 2018, 'palestinian': 2019, 'collateral': 2020, 'defending': 2021, 'urban': 2022, 'legend': 2023, 'mostly': 2024, 'missile': 2025, 'informative': 2026, 'districts': 2027, 'carolina': 2028, 'packing': 2029, 'italienne': 2030, 'identity': 2031, 'cuddly': 2032, 'bears': 2033, 'kangaroos': 2034, 'very': 2035, 'lonely': 2036, 'plate': 2037, 'misled': 2038, 'pentagon': 2039, 'interviewing': 2040, 'crossroad': 2041, 'nightmare': 2042, 'hamlet': 2043, 'poised': 2044, 'worlds': 2045, 'style': 2046, 'concert': 2047, 'blast': 2048, 'lollipop': 2049, 'guild': 2050, 'rides': 2051, 'proposal': 2052, 'curtails': 2053, 'efforts': 2054, 'figure': 2055, 'skating': 2056, 'event': 2057, 'jimmy': 2058, 'backward': 2059, 'romance': 2060, 'riyadh': 2061, 'accept': 2062, 'ole': 2063, 'miss': 2064, 'senates': 2065, 'strategy': 2066, 'shhh': 2067, 'alienated': 2068, 'edge': 2069, 'alert': 2070, 'hits': 2071, 'level': 2072, 'kushnerville': 2073, 'fighting': 2074, 'california': 2075, 'florida': 2076, 'scott': 2077, 'joplin': 2078, 'discovers': 2079, 'muslims': 2080, 'bullets': 2081, 'doors': 2082, 'silence': 2083, 'pulling': 2084, 'trigger': 2085, 'kindergarten': 2086, 'anticonspiracy': 2087, 'advances': 2088, 'japan': 2089, 'governor': 2090, 'drops': 2091, 'sentence': 2092, 'graduating': 2093, 'maryland': 2094, 'sets': 2095, 'furor': 2096, 'bride': 2097, 'joy': 2098, 'judgment': 2099, 'infection': 2100, 'jamaican': 2101, 'beef': 2102, 'patty': 2103, 'decade': 2104, 'ill': 2105, 'rockies': 2106, 'savoring': 2107, 'possibilities': 2108, 'roster': 2109, 'aged': 2110, 'searing': 2111, 'truth': 2112, 'spy': 2113, 'loved': 2114, 'gen': 2115, 'xers': 2116, 'steps': 2117, 'fray': 2118, 'hell': 2119, 'chocolate': 2120, 'austerity': 2121, 'stays': 2122, 'eloquence': 2123, 'nonsensical': 2124, 'milkshakes': 2125, 'terrorists': 2126, 'target': 2127, 'scheming': 2128, 'plumber': 2129, 'suffer': 2130, 'angry': 2131, 'zillows': 2132, 'estimates': 2133, 'improving': 2134, 'superstar': 2135, 'armenia': 2136, 'image': 2137, 'price': 2138, 'denial': 2139, 'rusting': 2140, 'ours': 2141, 'requirement': 2142, 'ignites': 2143, 'fairness': 2144, 'janet': 2145, 'mock': 2146, 'wants': 2147, 'yearbooks': 2148, 'charity': 2149, 'exploits': 2150, 'employees': 2151, 'mondrian': 2152, 'aleppo': 2153, 'tested': 2154, 'tethered': 2155, 'fire': 2156, 'score': 2157, 'hunt': 2158, 'bombers': 2159, 'accomplices': 2160, 'libya': 2161, 'brisk': 2162, 'slow': 2163, 'dementia': 2164, 'swimming': 2165, '2300000': 2166, 'tampon': 2167, 'makers': 2168, 'ingredients': 2169, 'historic': 2170, 'preserved': 2171, 'revitalized': 2172, 'alan': 2173, 'yang': 2174, 'none': 2175, 'creator': 2176, 'jeff': 2177, 'sweet': 2178, 'son': 2179, 'crossing': 2180, 'box': 2181, 'someone': 2182, 'believe': 2183, 'surf': 2184, 'sand': 2185, 'lots': 2186, 'fiber': 2187, 'phony': 2188, 'leadership': 2189, 'talked': 2190, 'ways': 2191, 'report': 2192, 'reveals': 2193, 'barbara': 2194, 'smith': 2195, 'conrad': 2196, 'singer': 2197, 'integration': 2198, 'dispute': 2199, '79': 2200, 'unexpected': 2201, 'analyzes': 2202, 'foresees': 2203, 'problems': 2204, 'stretched': 2205, 'candidate': 2206, 'attacked': 2207, 'trailblazers': 2208, 'declaration': 2209, 'ray': 2210, 'loser': 2211, 'aversion': 2212, 'ethical': 2213, 'scrutiny': 2214, 'married': 2215, 'gops': 2216, 'hypocrisy': 2217, 'hall': 2218, 'fame': 2219, 'alone': 2220, 'throwaway': 2221, 'terrace': 2222, 'dust': 2223, 'pot': 2224, 'vague': 2225, 'misstep': 2226, 'pronouns': 2227, 'yankees': 2228, 'wins': 2229, 'extend': 2230, 'ticket': 2231, 'sales': 2232, 'john': 2233, 'shields': 2234, 'running': 2235, 'adventure': 2236, 'hong': 2237, 'kongs': 2238, 'maclehose': 2239, 'psychedelic': 2240, 'birthday': 2241, 'succeed': 2242, 'affair': 2243, 'message': 2244, 'condemns': 2245, 'deeply': 2246, 'troubling': 2247, 'leaks': 2248, 'complaints': 2249, 'tuning': 2250, 'carnage': 2251, 'memory': 2252, 'floral': 2253, 'bloom': 2254, 'rioja': 2255, 'struggles': 2256, 'define': 2257, 'fourstar': 2258, 'blowhard': 2259, 'fog': 2260, 'rejects': 2261, 'sessions': 2262, 'vows': 2263, 'checking': 2264, 'democracys': 2265, 'pulse': 2266, 'plank': 2267, 'grateful': 2268, 'dead': 2269, 'welcoming': 2270, 'presents': 2271, 'contrasts': 2272, 'lovers': 2273, 'she': 2274, 'upends': 2275, 'montana': 2276, 'scene': 2277, 'photos': 2278, 'outcry': 2279, 'pickup': 2280, 'basketball': 2281, 'backup': 2282, 'quarterback': 2283, 'tackling': 2284, 'taboo': 2285, 'song': 2286, 'spotlights': 2287, 'requiring': 2288, 'safety': 2289, 'netting': 2290, 'shouldnt': 2291, 'dancing': 2292, 'kellermans': 2293, 'kill': 2294, 'fails': 2295, 'contempt': 2296, 'four': 2297, 'narratives': 2298, 'arms': 2299, 'deals': 2300, 'peace': 2301, 'misfits': 2302, 'developing': 2303, 'liking': 2304, 'g': 2305, 'j': 2306, 'm': 2307, 'z': 2308, 'perfect': 2309, 'puff': 2310, 'stereotypes': 2311, 'foiled': 2312, 'move': 2313, 'l': 2314, 'executive': 2315, 'infantrys': 2316, 'shoulder': 2317, 'heavy': 2318, 'gear': 2319, 'weight': 2320, 'tongue': 2321, 'nothing': 2322, 'trust': 2323, 'network': 2324, '150': 2325, 'devoted': 2326, 'fans': 2327, 'reduced': 2328, 'newark': 2329, 'forced': 2330, 'unasked': 2331, 'growth': 2332, '34': 2333, 'tour': 2334, 'bringing': 2335, 'motley': 2336, 'site': 2337, 'goliath': 2338, 'nourishing': 2339, 'fast': 2340, 'consider': 2341, 'pence': 2342, 'try': 2343, 'mezcal': 2344, 'veterans': 2345, 'tragedy': 2346, 'rambling': 2347, 'menu': 2348, 'reversal': 2349, 'waivers': 2350, 'exlobbyists': 2351, 'triumph': 2352, 'nondisaster': 2353, 'mulled': 2354, 'channel': 2355, 'peddler': 2356, 'literature': 2357, 'issue': 2358, 'stamps': 2359, 'withholding': 2360, 'endorsement': 2361, '54': 2362, 'fell': 2363, 'leukemia': 2364, 'reaffirmed': 2365, 'handtohand': 2366, 'combat': 2367, 'forget': 2368, 'fireworks': 2369, 'onfield': 2370, 'drama': 2371, 'revives': 2372, 'cup': 2373, 'cameras': 2374, 'badge': 2375, 'discomforts': 2376, '35000': 2377, 'feet': 2378, 'bottom': 2379, 'line': 2380, 'comparisons': 2381, 'jordan': 2382, 'viewership': 2383, 'sheridan': 2384, 'expressway': 2385, 'shortcut': 2386, 'strain': 2387, 'bombs': 2388, 'korean': 2389, 'urgency': 2390, 'candy': 2391, 'heir': 2392, 'ruined': 2393, 'teeth': 2394, 'praise': 2395, 'causes': 2396, 'conditions': 2397, 'vietnams': 2398, 'unhealed': 2399, 'wounds': 2400, 'energy': 2401, 'gateway': 2402, 'degenerate': 2403, 'groundhog': 2404, 'temptation': 2405, 'positive': 2406, 'results': 2407, 'als': 2408, 'diagnosis': 2409, 'dire': 2410, 'charges': 2411, 'taiwanese': 2412, 'activist': 2413, 'subversion': 2414, 'proud': 2415, 'graduate': 2416, 'gooden': 2417, 'ceremony': 2418, 'iowa': 2419, 'rests': 2420, 'immigrants': 2421, 'scourge': 2422, 'plagiarized': 2423, 'code': 2424, 'inquiries': 2425, 'turn': 2426, 'ally': 2427, 'brains': 2428, 'manuel': 2429, 'noriega': 2430, 'strongman': 2431, 'ousted': 2432, 'panama': 2433, '83': 2434, 'stood': 2435, 'antimuslim': 2436, 'paid': 2437, 'womenonly': 2438, 'screenings': 2439, 'wonder': 2440, 'houses': 2441, 'naacp': 2442, 'politicians': 2443, 'pick': 2444, 'lyndon': 2445, 'johnsons': 2446, 'jared': 2447, 'knotty': 2448, 'clan': 2449, 'princeton': 2450, 'pleasantest': 2451, 'yawning': 2452, 'class': 2453, 'divide': 2454, 'geometry': 2455, 'blocks': 2456, 'prek': 2457, 'fat': 2458, 'shots': 2459, 'asian': 2460, 'misnomer': 2461, 'affirmative': 2462, 'misses': 2463, 'custody': 2464, 'memorializing': 2465, 'memorial': 2466, 'lets': 2467, 'highproof': 2468, 'shaking': 2469, 'replacements': 2470, 'mindset': 2471, 'savored': 2472, 'reading': 2473, 'aloud': 2474, 'having': 2475, 'carton': 2476, 'eating': 2477, 'dumpling': 2478, 'hunters': 2479, 'ground': 2480, 'fewer': 2481, 'peaches': 2482, 'aghast': 2483, 'murder': 2484, 'park': 2485, 'spitting': 2486, 'hatred': 2487, 'worse': 2488, 'wenger': 2489, 'set': 2490, 'arsenal': 2491, 'shetland': 2492, 'pony': 2493, 'politely': 2494, 'firmly': 2495, 'quickly': 2496, 'assumes': 2497, 'attitude': 2498, 'surroundings': 2499, 'find': 2500, 'unlikely': 2501, 'fixture': 2502, 'tug': 2503, 'easily': 2504, 'provoked': 2505, 'types': 2506, 'woodss': 2507, 'stumble': 2508, 'chance': 2509, 'deus': 2510, 'ex': 2511, 'kimmy': 2512, 'among': 2513, 'worst': 2514, 'afghan': 2515, 'parenting': 2516, 'skills': 2517, 'die': 2518, 'insult': 2519, 'trying': 2520, 'manchurian': 2521, 'emirate': 2522, 'think': 2523, '50': 2524, 'halls': 2525, 'sleeps': 2526, 'floor': 2527, 'small': 2528, 'antidotes': 2529, 'cabin': 2530, 'fever': 2531, 'pregnancy': 2532, 'reform': 2533, 'prison': 2534, 'upgrade': 2535, 'workout': 2536, 'caffeine': 2537, 'awesome': 2538, 'break': 2539, 'kelly': 2540, 'makes': 2541, 'pillar': 2542, 'nbcs': 2543, 'mosquito': 2544, 'enduring': 2545, 'chess': 2546, 'polls': 2547, 'awaits': 2548, '1900000': 2549, 'riverfront': 2550, 'culdesac': 2551, 'downtown': 2552, 'jack': 2553, 'pershing': 2554, 'commander': 2555, 'fanboy': 2556, 'hero': 2557, 'fare': 2558, 'dates': 2559, 'costs': 2560, 'delay': 2561, 'village': 2562, 'tune': 2563, 'bleecker': 2564, 'blues': 2565, 'gee': 2566, 'familiar': 2567, 'gays': 2568, 'urged': 2569, 'margaret': 2570, 'arena': 2571, 'harsh': 2572, 'words': 2573, 'painin': 2574, 'february': 2575, 'thaw': 2576, 'flea': 2577, 'expected': 2578, 'testify': 2579, 'talks': 2580, 'weighs': 2581, 'reviving': 2582, 'curbs': 2583, 'cuba': 2584, 'trips': 2585, 'paycheck': 2586, 'shaky': 2587, 'income': 2588, 'angst': 2589, 'cowboys': 2590, 'beauty': 2591, 'ramadan': 2592, 'unearthing': 2593, 'trove': 2594, 'rulebenders': 2595, 'require': 2596, 'oh': 2597, 'multiplying': 2598, 'complexities': 2599, 'democratic': 2600, 'gotten': 2601, 'motive': 2602, 'manhattan': 2603, 'regret': 2604, 'clause': 2605, 'cases': 2606, 'academic': 2607, 'dishonesty': 2608, 'clandestine': 2609, 'coded': 2610, 'correspondence': 2611, 'captain': 2612, 'meddled': 2613, 'earth': 2614, 'sensing': 2615, 'echo': 2616, 'tumultuous': 2617, 'spectacle': 2618, 'holding': 2619, 'allergy': 2620, 'prevalence': 2621, 'alternative': 2622, 'chondroitin': 2623, 'eases': 2624, 'daily': 2625, 'michael': 2626, 'barbaro': 2627, 'prompts': 2628, '160': 2629, 'images': 2630, 'inspire': 2631, 'writing': 2632, 'abandoning': 2633, 'reckless': 2634, 'refresher': 2635, 'course': 2636, 'fright': 2637, 'conscience': 2638, 'wartime': 2639, 'utter': 2640, 'disgraceful': 2641, 'exit': 2642, 'proven': 2643, 'hire': 2644, 'yes': 2645, 'gratuitous': 2646, 'destruction': 2647, 'petty': 2648, 'bail': 2649, 'bucking': 2650, 'these': 2651, 'companies': 2652}\n"
     ]
    }
   ],
   "source": [
    "print(t.word_index)"
   ]
  },
  {
   "cell_type": "code",
   "execution_count": 90,
   "metadata": {},
   "outputs": [
    {
     "name": "stdout",
     "output_type": "stream",
     "text": [
      "138\n"
     ]
    }
   ],
   "source": [
    "print(t.word_index['i'])"
   ]
  },
  {
   "cell_type": "code",
   "execution_count": 91,
   "metadata": {
    "scrolled": true
   },
   "outputs": [
    {
     "name": "stdout",
     "output_type": "stream",
     "text": [
      "['  two red bull teams in champions league rules say ', '100 days', '11 questions to ask before getting a divorce', '1908  a harrowing maritime rescue told from the high seas', '4yearolds dont act like this', '6 million riders a day 1930s technology', '9 letters starts with c ends with d', 'a 110 billion weapons sale to saudi arabia has kushners personal touch', 'a 500 rental deposit in the city its a deal', 'a bestiary of the mind', 'a bettertasting bird', 'a call to action winners from our fourth annual student editorial contest', 'a christian abortion doctor', 'a college scourge of plagiarized language this time in code', 'a common word but not a common name', 'a coop renovation project is frustrating to neighbors', 'a cry for help as a witness recounts a mans fall onto the subway tracks', 'a disaster wrapped in victory', 'a disgraceful exit from the paris pact', 'a doctors unexpected call', 'a driveable feast', 'a fantastic fantastical book for the new cool woman in my life', 'a feast for actors with one in the kitchen', 'a flashier cricket faces the specter of doping', 'a fourstar blowhard in the fog of war', 'a fraudulent voterfraud panel', 'a french lesson for the american media news versus the whiff of it', 'a grand central bar comes out of hiding', 'a green thats good for more than garnish', 'a hamlet poised between two worlds', 'a hero for our times', 'a high bar to reach', 'a historic house in a preserved revitalized port city', 'a history of healing', 'a letter to the deputy attorney general', 'a long walk off a short plank', 'a man needs his nuggs', 'a medicare drug incentive that leads to greater hospitalizations', 'a more perfect cream puff', 'a murder at college park', 'a musical thats both cult and classic', 'a new entrant in the factcheck biz', 'a new hope for europes road ahead', 'a nourishing fast', 'a oneday crossword internship', 'a oneman  3ring circus', 'a patrol called king kong', 'a prayer for donald trump', 'a proven way to win in business have a daughter and hire women', 'a rambling menu to tempt and tempt again', 'a rare libel suit against the times', 'a reduced rent to live and work in newark', 'a revival where less is more', 'a riverfront house in a culdesac near downtown', 'a search for dad along with nessie', 'a steady if bland voice', 'a suicide therapists secret past', 'a superstar for united but always in armenia', 'a surreal experience', 'a syrian plan worth a look', 'a taste of home in one pot', 'a towering monument to jesus in the city of mao', 'a trilliondollar student debt with mounting risks', 'a trip to the city', 'a trump plan for the middle east', 'a vegetable patch of his own', 'a warning on trumps religious liberty order', 'a wild child drags along her uptight foil', 'a womans fortune and her ruin', 'a year of picture prompts over 160 images to inspire writing', 'abortion is about more than money', 'abusers unpunished', 'action at a distance', 'after 54 years we fell in love after five months i got leukemia', 'after a concussion take a walk', 'after a loss learning to be happy again', 'after awesome break kelly makes her debut as pillar of nbcs plans', 'after boko haram releases 82 girls parents wait in anguish', 'after divorce giving our kids custody of the home', 'after harvey is disciplined the marlins punish his fillin', 'after stand on gays new name urged for margaret court arena', 'after woodss stumble a chance to stand up', 'aftershock feared as us warns of malware attacks complexity', 'agassi to coach djokovic at french open', 'ailes turned rage into a news empire', 'alan yang a master of none creator on season 2 chef jeff and that final shot', 'aleppo after the fall', 'all it takes is a story and someone to believe it', 'all of the sweetness less of the work', 'alternative medicine chondroitin eases knee pain', 'americans lets talk', 'americas political disunion', 'an als diagnosis remains dire', 'an antidote to europes populism', 'an ardent courtship for the olympic rings', 'an aversion to ethical scrutiny', 'an election review theres reason to be skeptical of a comey effect', 'an elevator ride to remember', 'an expert in fear', 'an immoral preference for christian refugees', 'an industry in reverse', 'an inside joke between two impressionists', 'an intimate portrait with blurred lines', 'an ocean beckons where newspapers once streamed', 'an outpost of island cooking in the bronx', 'an unorthodox union for asparagus', 'analyzing the relationship between the press and the president a lesson plan', 'anarchists fill services void left by faltering greek governance', 'anecdotes on anecdotes', 'anger takes center stage as french rivals debate', 'angry over zillows estimates win a prize for improving them', 'another twin peaks puzzle how to make that pie', 'anticonspiracy bill advances in japan', 'are men with beards more desirable', 'are womenonly screenings of wonder woman a novel idea  or a problem', 'are you the same person on social media as you are in real life', 'ariana grande', 'arms deals wont bring peace', 'as east meets west coffeehouse becomes sake bar', 'as pollen counts rise test scores fall', 'as taxpayers get bolder government gets smaller', 'as we live and breathe', 'assange rape inquiry is dropped but his legal troubles remain daunting', 'assault charge against republican upends montana house race', 'assembly required', 'at 495 a signature shoe  is met with headshakes', 'at italienne an identity crisis', 'at some schools the teachers pet walks the halls and sleeps on the floor', 'australia feels its ties to us put it in a bind', 'bad wines are bad wines period', 'barbara smith conrad singer at center of integration dispute dies at 79', 'barely famous and rightly till now', 'basquiats latest moment', 'battle lines outside the door of the last abortion clinic in kentucky', 'behind the cover 52117', 'better call saul season 3 episode 4 recap chicken vs ice cream', 'better call saul season 3 episode 5 the long con', 'better call saul season 3 episode 6 brick by brick', 'better call saul season 3 episode 7 recap jimmy goes backward', 'bill clinton didnt want his new york times crossword to be boring', 'billions season 2 finale recap alien vs predator', 'black jack pershing commander and fanboy', 'blocked by china taiwan presses to join the world health assemblys annual meeting', 'blood in the water', 'body image', 'body infection risk rises in summer', 'body steroids dont help knees', 'bombing on anniversary of coup hurts 24 at thai military hospital', 'books for those who love sports or just love to read about them', 'boys injury spotlights bill requiring safety netting', 'brains', 'bret stephens takes on climate change readers unleash their fury', 'brexit imperils fortunes of the planets banker', 'brigitte macron liberator', 'bringing a motley family together', 'brisk walks may slow dementia', 'britain on edge as terror alert hits top level', 'bucking trump these cities states and companies embrace accord', 'budget proposal curtails efforts against poverty', 'bus pass', 'camping aid', 'can creativity be scheduled', 'can dad bring his second wife to moms funeral', 'can labour return from the brink', 'can we talk', 'cant get there from grand central', 'carnage memory and manchester', 'cbo analyzes the republican health bill and foresees problems', 'cbo report reveals trumpcares fatal flaws', 'center of a blowout', 'challenge for trump in shaking up staff finding replacements', 'charlamagne tha god loves telling middle america about black privilege', 'chasing after the kushners in china', 'chasing cures for deadly scourges and getting in our own way', 'cheap thrills', 'checking democracys pulse', 'chef at a crossroads', 'childs play is good for all of us', 'chinas gift to germany a giant statue of marx', 'chinese fighters flew too close us says', 'chinese rappers take aim at american antimissile system in south korea', 'chinese student graduating in maryland sets off a furor by praising the us', 'claims of liberal media bias hit espn too', 'clandestine phone calls and coded correspondence', 'classic mediterranean flavors enlivened by ramps', 'climate of unintended consequences', 'clinton attacks trump as struggling and unprepared', 'clock ticking security experts scramble to defuse cyberattack', 'close encounters', 'comey expected to testify about his talks with trump', 'comey stands by fbis disclosure that jolted race', 'comey wanted president kept at a distance', 'confederate monuments fall and tempers flare', 'conscience in wartime and its utter lack', 'consider president pence', 'cooking in my own voice', 'coop window boxes look unsteady are they safe and legal', 'court rejects revised travel ban as sessions vows appeal to top', 'cowboys may ride off into it', 'crackdown on forprofit colleges is said to go idle under trump team', 'crisis or stasis', 'crosscurrents of suburb and city', 'cuomo steps into transit fray with ideas for after summer of hell', 'dance mom', 'dangerous times for trump and the nation', 'data crunchers ask new yorkers how are the police doing', 'daunting economic woes greet south koreas new leader', 'david and goliath in vietnam', 'de blasio says to stick to the subway but dont blame him if you run late', 'deadly bombing  is among worst of afghan war', 'dear book club its you not me', 'dear match book what books are best savored by reading aloud', 'defying turkey us will arm kurds in syria', 'degradation of the language', 'democracy it turns out suits the warriors just fine', 'democrats pounce seeing path to retake house', 'deposit is in  but colleges keep calling', 'designs that do more than meets the eye', 'despite the fading of star players the spurs future remains bright', 'developing a liking for the letters g j m and z', 'did mr trump obstruct justice', 'did tabloids cause brexit its covered with inky fingerprints', 'did trump unleash the next deep throat', 'dieting no magic in fasting', 'dirty dancing where kellermans came to life', 'disability and the right to choose', 'discomforts at 35000 feet they start at the bottom line', 'do hand sanitizers really cut down on illness', 'doctor who', 'does geography skill make you a better citizen', 'does wrong mindset lead to poverty or does poverty come first', 'dog meat festival may have to cancel the dog activists say', 'donald trump discovers muslims', 'donald trump does not surprise', 'donald trump is lying again now about james comey', 'donald trump our ai president', 'donald trump the gateway degenerate', 'donald trump vs womens health', 'donald trumps insult to history', 'dont be complicit republicans', 'dont let facebook make you miserable', 'dont punish crime victims', 'dont see a baby bump maybe the button then', 'dont take the senate for granted on health care', 'dream houses', 'drug lenience of obama era may be ending', 'drugs are statin side effects real', 'drugs hives may not need steroids', 'duality quality', 'duterte says xi warned  of war over sea ruling', 'early dreams of trumpgate', 'eat chocolate for the heart', 'eat food allergy prevalence', 'eat yogurt for healthy bones', 'editorial contest winner  a psychedelic cure', 'editorial contest winner  in nothing we trust', 'editorial contest winner  reform the prison then the prisoner', 'editorial contest winner  stopping bullets with locked doors and silence is already pulling the trigger', 'editorial contest winner  the asian misnomer what the affirmative action debate misses', 'editorial contest winner  the collateral damage of defending democracy', 'election review why crucial state polls turned out to be wrong', 'emotional undertones lurk in liverpools uplifting coda', 'empire of dust', 'endpaper homemade', 'everyones a critic on st felix street', 'executive pay race to the top', 'face of yanks glory days will get a lasting tribute', 'false front', 'fargo season 3 episode 3 recap the yanagita effect', 'fargo season 3 episode 4 recap a wolf in cheap clothing', 'fargo season 3 episode 5 once upon a time ', 'fargo season 3 episode 6 ray the loser', 'fargo season 3 episode 7 the world is wrong', 'farmers market shopping with the chef tom colicchio', 'fasting and food for ramadan', 'fatal concert blast is called terror', 'fbi director axed page a1 too', 'fbi firing roils capital as trump calls out critics', 'fda warns of inaccurate blood tests for lead poisoning in children and mothers', 'february thaw at the flea market', 'fewer peaches the south is aghast', 'fidget spinners', 'fiery speeches on campuses  backed by a conservative force', 'fighting trump on climate california becomes a global force', 'figure skating event', 'filled with tiny bubbles', 'finding my florida', 'first night in america', 'five years of antarctica in two weeks', 'floral flavors in full bloom', 'for a young bride joy  and judgment', 'for better and for worse wenger looks set to stay at arsenal', 'for dumpling hunters new ground to cover', 'for mets its injury after injury year after year', 'for pregnant women getting serious about whooping cough', 'forest kindergarten', 'forget fireworks onfield drama revives the cup', 'france elects emmanuel macron', 'france elects macron president shunning an emergent far right', 'frances first lady a confidante and coach may reshape an evolving role', 'fred everlasting', 'free agents', 'free tuition tennessee could tutor new york', 'french federations snub of sharapova invites debate', 'french open refuses to admit sharapova', 'french toast  worth staying at home for', 'friday mailbag a columnist has a fiery debut and another goes missing', 'friday mailbag is the times praising the president  or poking fun', 'friday mailbag manchester stereotypes and social security math', 'friday mailbag spilled beans monochrome faces and renegade readers', 'from cab fare to court dates the costs of a subway delay', 'from cheap seats on earth sensing a tiny echo of a tumultuous spectacle', 'from manipulator to pulitzer winner', 'from prisoner to modernday harriet tubman', 'from veep season 6 episode 2', 'full employment is near what does it mean for pay', 'gee he looks familiar', 'geometry lessons vs fun with blocks study stirs prek debate', 'gertrude and alice and love and genius', 'get dogtired', 'get married get healthy maybe not', 'getting used to new surroundings', 'ginobili channels  his younger self', 'giving creamy burrata a springtime match', 'going  beyond  bad trump', 'gop cheers a big victory  has it stirred a hornets nest', 'gop foiled on health bill may move on', 'gop leader says revised care bill has votes to pass', 'gop scrambles as crucial voice shuns care bill', 'gop will reject  presidents budget but austerity stays', 'governor drops appeal of blasphemy sentence', 'grandbabies the great reward', 'great comet shines bright', 'guest post  ideas for student civic action in a time of social uncertainty', 'hackers use tool taken from nsa in global attack', 'hacking gives final jolt  to frances chaotic race', 'hamiltons caribbean island', 'harsh words about trade cause painin the south', 'has the democratic party gotten too rich for its own good', 'hate the subway blame cuomo', 'have pop will travel', 'having your carton and eating it too', 'he can cook too so why not marry harry', 'he was on blood thinners and supplements could he still have had a stroke', 'health care bill passed by house faces senate test', 'heart pain relievers and heart risks', 'heather ann thompson thinks the justice system is unfair', 'here try some mezcal but not too much', 'hillary clintons absolution', 'hiring rise sends us jobless rate to a 10year low', 'his dream was my nightmare', 'home to an underdog on borrowed time', 'house republicans go off the cliff', 'house rules', 'how a candy heir ruined teeth', 'how abnormal was comeys firing experts weigh in', 'how censorship works', 'how colleges know what you can afford and the limits of that tactic', 'how easy  or hard  is it for you to say no when you want to', 'how formal should students be when interacting with their teachers and professors', 'how google conquered the american classroom', 'how i got the shot on an icy mountain', 'how i learned comey was out', 'how marching for science risks politicizing it', 'how not  to fight  trump', 'how sephora thrives amid a retail crisis', 'how tales of flippers led to a housing bubble', 'how the left can get its  mojo back', 'how to age in place plan ahead', 'how to be mindful at the doctors office', 'how to be mindful holding a baby', 'how to be mindful mowing the lawn', 'how to be mindful while swimming', 'how to be mindful while taking a shower', 'how to cut an avocado without cutting yourself', 'how to fix  the health bill', 'how to lower breast cancer risk', 'how to make a company right a wrong', 'how to prepare for an automated future learn how to learn', 'how to read the cbo score of the health bill like an expert', 'how to save the naacp', 'how to say new life in german', 'how trump may save the republic', 'how we beat the house  in tallying the health care vote', 'how we really die', 'hunt for bombers accomplices extends to libya', 'i accidentally killed a child may i contact the family', 'if liberals hate trump hes doing it right', 'if life has you down do a handstand', 'if this were an overdose would you help', 'if youre in a wheelchair segregation lives', 'immigration arrests rise sharply as agents carry out a trump mandate', 'immortal fingertips', 'in a first china charges a taiwanese activist with subversion', 'in a private dinner trump demanded loyalty comey demurred', 'in bad taste', 'in bloomsbury country', 'in china the party  keeps the band going', 'in computer attacks clues point to frequent culprit north korea', 'in fat city he calls the shots', 'in fictional suicide health experts say they see a real cause for alarm', 'in macron a defense of the republic', 'in new guidelines pediatricians advise no fruit juice at all in childs first year', 'in praise of lost causes', 'in reversal white house will disclose ethics waivers for exlobbyists', 'in rural iowa a future rests on immigrants', 'in search of home', 'in shift prosecutors are taking a tougher stance in fraternity hazing deaths', 'infantrys first women shoulder heavy gear and weight of history', 'inquiries turn to why kushner met a putin ally', 'insect mysteries', 'inside the daily with michael barbaro', 'instructions on where to go', 'interrupting  gang killings', 'interviewing truckers at a crossroad', 'irish police investigate but dont charge stephen fry for blasphemy', 'is 13 reasons why raising awareness about teenage suicide or glamorizing it', 'is a regret clause a good idea for cases of academic dishonesty', 'is it love at first site', 'is nato getting too big to succeed', 'is the dream in australia crumbling', 'is the internet broken', 'is the supermarket done for', 'is trump obstructing justice', 'is your phone love hurting your relationships', 'it made me into a person with a mission readers react to motherhood', 'it was forced on me child marriage in the us', 'its all  about the contempt', 'its chicken  or fish', 'its very lonely to have your own plate', 'ivanka trumps collectible quotations', 'jamaican beef patty extends its reach', 'james comey is mildly nauseous about the election its not enough', 'janet mock wants you to learn from her experience', 'jared kushner and the knotty politics of clan', 'johnson westmoreland and the selling of vietnam', 'joining the bridgeandtunnel crowd', 'judas tax cuts and the great betrayal', 'just how great was that comet', 'justices reject 2 districts in north carolina citing packing of black voters', 'justices thwart strict voter id law that unevenly hurt blacks', 'keith olbermann was once cable newss liberal standardbearer now hes missing its boom times', 'kushner is said to have mulled russia channel', 'kushners role in white house is under strain', 'kushners sister highlights family ties in pitch to wealthy chinese investors', 'kushnerville', 'le coucou named best new restaurant at james beard awards', 'leadership isnt free', 'leaving college going to war', 'let penn station breathe', 'letter of complaint purell', 'letter says flynn misled pentagon', 'libraries are fining children who cant afford to be without books', 'life away from the l', 'life behind israels checkpoints', 'life will bury you but theres no use whining', 'living it up with the grateful dead', 'locked up for being poor', 'look before you leap', 'looking for a favorite and falling short', 'looking for lessons in the democrats losses in the 2010 midterms', 'looking for that loving feeling', 'lovers troubles when she becomes he', 'lundqvist and the rangers may hear a ticking clock', 'lyndon johnsons living room war', 'machu picchu with little money and less time', 'macron campaign says it was hit by massive hacking attack', 'macron et la dfense de la rpublique', 'making change at the bank', 'making history with breastfed meal in parliament', 'making skin cells into babies trials in mice prompt whatifs', 'malware case is major blow for the nsa', 'manuel noriega strongman ousted in panama dies at 83', 'many ask for asylum but its rarely granted', 'maple the new york startup has delivered its last meal', 'math problem', 'maybe private russian hackers meddled in election putin says', 'meal of the decade ill pass', 'medical misfits', 'meeting muhammad ali', 'mets find unlikely fixture for bullpen', 'millions more still lack care in revised bill', 'misery and misfortune aplenty', 'misquoting scripture', 'modern movement initialism', 'monacos future glows if it can stay together', 'mondrian  was no square', 'more seniors shun marriage', 'most adults favor sex ed most students dont get it', 'mother tongue', 'motherhood has role in the gender pay gap', 'mothers day', 'moving and sitting', 'moving toward democracy but keeping women in danger', 'mr met ', 'mr popularitys rough patch', 'mr right could be under the frozen peas', 'mr trump embraces another despot', 'mr trump establishment  sellout', 'mr trumps paradoxical journey', 'mueller could be good for trump', 'my beijing the sacred city', 'my family didnt accept me ole miss did', 'my medicaid my life', 'navigating a city forest 280 miles of scaffolding', 'navigating the emergency room', 'nbas past  could be its future', 'nervous rich people on a notsolazy saturday', 'new sentences', 'new sentences', 'new village tune bleecker street blues', 'new york city transit reporter in wonderland riding the london tube', 'new york today birding by subway', 'new york today feedback on the ferry', 'new york today happy birthday mr president', 'new york today hes your ferry captain', 'new york today how to adopt a pet', 'new york today how to beat the hackers', 'new york today its getting hot out here', 'new york today memorializing after memorial day', 'new york today mosquito season', 'new york today past presidential visits', 'new york today preparing for president trump', 'new york today remembering scott joplin', 'new york today tips for biking to work', 'new york today toilets fit for high society', 'new york today treasures left not lost on the subway', 'new york today welcome back liberty', 'new york today what do restaurant grades mean', 'no country for this old man', 'no cuddly bears or kangaroos here', 'no google is not a bird promoting the internet in rural india', 'no such thing as a math person', 'noisy knees may signal arthritis', 'north korea missile test was short but informative south says', 'north korean tests add urgency for us to fix flaws in defense', 'not for the first time harvey apologizes', 'not just us', 'nutrition fiber may help knee arthritis', 'nutrition fruit and diabetes risk', 'obama sees new front in climate change battle agriculture', 'of mice and mindfulness', 'off to soaring start yanks arent looking down', 'officials blame erdogan security forces for brutal attack on washington protesters', 'oh dear the trumps keep multiplying', 'on better than equal footing', 'on climate look to china and india', 'on new planes american airlines will add seats and reduce space', 'on the billboard chart', 'on the power of being awful', 'on turning 100', 'one subway stop changes the rent', 'open secrets', 'open strawberry season with a showstopper', 'oval office etiquette a gop guide', 'owning your own future', 'parenting skills', 'paris deal benefits business', 'part of a persons psyche', 'paul ryans discontent', 'peddler of religious literature', 'peeking inside  a nike project  is this legal', 'period activists want tampon makers to disclose ingredients', 'petty crime daunting bail', 'phonetically speaking', 'pickup basketball with a backup quarterback', 'places everyone', 'plan to become one', 'poignant paper trail from the border', 'police embrace use of body cameras to show the human side of the badge', 'police in texas change account in officers fatal shooting of 15yearold', 'politely but firmly frances macron quickly assumes a presidential attitude', 'political anxiety yields laughs', 'pooched out', 'pork is just the starting point', 'port authority wage campaign shifts as union takes fight to albany', 'poverty is the issue not food stamps', 'power players behind  a gooden ceremony', 'president shifts rationale for firing fbi director calling him a showboat', 'president trump fails nato', 'president trump is the enemy of their enemies', 'princeton the pleasantest country club takes on the yawning class divide', 'pros opposite', 'proud of my graduate but missing my mother', 'provocative voice for southern food', 'pruitts epa is boon to oil and gas', 'question raised', 'questions for alone on the open road truckers feel like throwaway people', 'questions for americas tap water too much contamination not enough reporting study finds', 'questions for amid puerto ricos fiscal ruins a new push for statehood', 'questions for cyberattacks impact could worsen in second wave of ransomware', 'questions for despite the yuck factor leeches are big in russian medicine', 'questions for fbi director james comey is fired by trump', 'questions for house passes measure to repeal and replace the affordable care act', 'questions for how google took over the classroom', 'questions for ivanka trump has the presidents ear heres her agenda', 'questions for prosecutors taking tougher stance in fraternity hazing deaths', 'questions for shaming children so parents will pay the school lunch bill', 'questions for the motive in a manhattan shooting the statue of liberty', 'questions for three men stood up to antimuslim attack two paid with their lives', 'questions for young idealistic but determined slovaks lead anticorruption crusade', 'race spectators behaving badly', 'rallying cry', 'red meat for blue states', 'red meat tied to 8 diseases', 'red sox racism and adam jones', 'refresher course', 'remembering tiananmen with a highproof tribute', 'renting by the room revived', 'reporter says gop house candidate attacked him', 'republican death wish', 'republicans  party like  its 1984', 'republicans disregarded the cbo but it wont be ignored', 'republicans dont feel your pain', 'return to cities an urban legend mostly', 'revealing what you may not care to tell', 'riders fume and point fingers as subway falters', 'rikers tumult rises monitor accused of spying', 'rioja struggles to define its best', 'road trip through rusting and rising america', 'rockies are savoring possibilities of roster aged to its prime', 'romance in riyadh', 'rulebenders require new rules', 'running for adventure on hong kongs maclehose trail', 'russians talked of ways to sway trump advisers', 'scaling past death', 'scheming for a better life', 'school choice  works while  vouchers dont', 'science needs a solution for the temptation of positive results', 'seafood cocktails to shock you back to life', 'secrets that trump gave russia are said to come from israelis', 'seeing an injury coming at 100 miles per hour', 'seeking a crossborder conference', 'seersucker and civility', 'segregation in new york schools', 'senate gop is edging back from president', 'senators save the empire', 'sense of crisis deepens as trump defends fbi firing', 'servicebased policing', 'settling a fashion rivalry  nashville vs columbus', 'shell take snackhattan', 'sheridan expressway shortcut', 'shetland pony grand national', 'should confederate statues be removed or remain in place', 'should girls and boys sports teams compete in the same league', 'should i expose a charity that exploits its employees', 'should students get grades 13 and 14 free of charge', 'should yearbooks include political news', 'should your baby sleep in a box', 'signs of compromise on trade after a season of bluster', 'simple jobs made easier with the right tool', 'small town big antidotes for cabin fever', 'snap loses 22 billion in 2 months since ipo', 'social media', 'something needed to play the game', 'soured on uber', 'south korea elects voice of outreach to north', 'special counsel will investigate russia influence', 'spitting in the eye of hatred', 'stan weston who sent gi joe marching into the childhoods of millions dies at 84', 'staying out when you shouldnt have', 'staying power', 'steady paycheck shaky income rising angst', 'step right up time to go on an ugly ride', 'still a classic beauty', 'stopping the lone wolves', 'storebranded credit cards buoy struggling retailers but mask their pain', 'strangers and cookies on a train', 'stretched bullpen is breaking for the mets', 'summoning brandname terror', 'surf sand and lots of skin', 'surprise it has no whiskey yet', 'sweetness and fright', 'tackling a major taboo through song', 'taiwan looks to offset a drop in tourism from china', 'talking about the weather', 'talking milkshakes on the train', 'teaching with marathon', 'teaching with the forger', 'teaching with turning oil rigs into reefs', 'tell us what commercials do you love hate or love to hate', 'tending my daughters crown', 'terrace house', 'terrorism then cooperation an informants fate hangs in the balance', 'tested and tethered by time fire and flood', 'texas seeks medicaid money it gave up over planned parenthood ban', 'text to text  henry david thoreaus walking and time to write go outside', 'the  alienated  mind', 'the 25th amendment solution for removing trump', 'the absolutism of donald trump', 'the age of modern mexican', 'the americans season 5 episode 10 recap puppet master paige', 'the americans season 5 episode 11 youre a monster', 'the americans season 5 episode 12 recap suffer the children', 'the americans season 5 episode 9 recap tuan on the bus', 'the americans season 5 finale recap deus ex kimmy', 'the assault on colleges  and the american dream', 'the benefits of a mindful pregnancy', 'the benefits of avoiding trans fats', 'the birth of a mother', 'the bombing the crime scene photos and the outcry', 'the broken promise of choice in new york city high schools', 'the caregivers', 'the census and rightwing hysteria', 'the challenge of getting thin', 'the comey  cannings  easy tells', 'the complexities of james comey', 'the cost of a speech', 'the cost of preexisting conditions', 'the culprits behind white flight', 'the danger of overthinking things', 'the daughter care system', 'the death and life of jersey city', 'the death and life of john shields', 'the enduring appeal of seeing trump as chess master in chief', 'the european crisis', 'the expansionists', 'the fantasy of impeachment', 'the filthy metaphor of rome', 'the firing of james comey', 'the flynn affair', 'the four american narratives', 'the gops hypocrisy  hall of fame', 'the great vietnam war novel was not written by an american', 'the greatest two minutes in sport', 'the groundhog day war', 'the guardrails of democracy', 'the handmaids tale and ours', 'the handmaids tale episode 4 recap survival lessons', 'the handmaids tale episode 5 recap a seduction', 'the handmaids tale episode 6 recap trade delegation', 'the handmaids tale episode 7 crossing the border', 'the handmaids tale season 1 episode 3 gender treachery', 'the harder they come ', 'the health care bills insults to women', 'the health care disaster is really about taxes', 'the hermit crabs', 'the hidden radicalism of southern food', 'the hookup', 'the housecat mystery', 'the kites', 'the kushners and their golden visas', 'the leftovers season 3 episode 4 disappearing act', 'the leftovers season 3 episode 5 recap ship of fools', 'the leftovers season 3 episode 6 recap the end is near', 'the leftovers season 3 episode 7 recap bombs away', 'the lollipop guild rides again', 'the man who measured teachers', 'the man who wrecked conservatism', 'the manchurian president', 'the meaning of our confederate monuments', 'the mongooses', 'the music next door', 'the new study that shows trumpcares damage', 'the one contest james cant win comparisons with jordan', 'the phones we love too much', 'the power of ariana grande and her network of 150 million devoted fans', 'the power of trumps bully pulpit', 'the price of disability denial', 'the princeling in the west wing', 'the real power of journalism blockbuster scoops', 'the real problem with the ahca', 'the reality of a preexisting condition', 'the revival of europe', 'the rise of the 38 pizza exclusive and elusive', 'the rooster', 'the science of adolescent sleep', 'the searing truth', 'the senates health care strategy shhh', 'the special counsel america needs', 'the spy best loved by gen xers', 'the state department deserves better', 'the stock market is weirdly calm heres a theory of why', 'the story was fine the headline less so', 'the superfood effect', 'the talent vacuum', 'the team that opponents fear to play', 'the trumpcare disaster', 'the trumprussia nexus', 'the unasked question why is wage growth so high', 'the unfreeing  of american  workers', 'the way it used to be', 'the way they kill now', 'this is eloquence remember that', 'this nervous city', 'this wasnt a speech about islam', 'three thousand miles from the western front', 'tilting right  tv news titan  roils its staff', 'title for washington saddest sports town', 'to a plumber', 'to raise better kids say no', 'to win at home democrats put aside washingtons blazing inferno', 'too much blame to go around', 'touring the united states one marathon at a time', 'trailblazers declaration', 'trump  cant add things up', 'trump  la mode', 'trump abandoning global climate accord', 'trump admitted  dismissal at fbi eased pressure', 'trump advisers wage tug of war on climate deal', 'trump and  the tattlers', 'trump and putin  agree to pursue  syria ceasefire', 'trump appealed to comey to halt inquiry into aide', 'trump condemns deeply troubling leaks on attack after complaints in britain', 'trump crazy like a fox  or just crazy', 'trump fires comey amid russia inquiry', 'trump garbles pitch on a revised health bill', 'trump hazardous to our health', 'trump in wake of deal to avoid a shutdown now calls for one later', 'trump is insulting our intelligence', 'trump is said to expose allys secrets to russians', 'trump is terrible at firing', 'trump overture to north korea is full of risks', 'trump says we need to prime the pump with tax cuts do we really', 'trump sticks a fork in comey', 'trump stirs a new question are there tapes', 'trump stresses palestinian deal', 'trump to announce a slate of conservative nominees to the federal courts', 'trump weighs reviving curbs on cuba trips', 'trumpcare is already causing pain', 'trumpcares cruelty reaffirmed', 'trumps  energy low and dirty', 'trumps 2nd nominee for army secretary withdraws citing misleading attacks', 'trumps act  of gratuitous destruction', 'trumps body language tour', 'trumps budget takes aim at my sweet son', 'trumps budget the math is phony but the cruelty isnt', 'trumps handtohand combat', 'trumps madness invites mutiny', 'trumps message to nato is pay up not all for one', 'trumps nonsensical budget', 'trumps reckless climate decision', 'trumps statements are not an obstruction of justice', 'trumps take on keeping  us safe', 'trumps triumph a nondisaster', 'trumps troubles go way beyond russia', 'trumps united  american emirate', 'trying to embrace a cure', 'twin peaks season 3 episodes 12 back in style', 'twin peaks season 3 episodes 34 recap falling in space', 'two excandidates stuck in time', 'u cant talk to ur professor like this', 'uncertainty bordering on dismay', 'under gop bill  employer coverage may change too', 'unearthing a trove from tiananmen', 'upgrade a workout with caffeine', 'upstreamed while hailing a cab on west end avenue', 'us veterans use greek tragedy to tell us about war', 'us withholding its endorsement on climate pact', 'va chief tries new approach seeing patients', 'vaccines traveling get a measles shot', 'vague guidelines lead to a misstep on gender pronouns', 'variety acrostic', 'variety acrostic', 'variety puns and anagrams', 'variety puzzle split decisions', 'vermouth is ready to whet your appetite', 'vietnams unhealed wounds', 'viewership peaks', 'wall street shudders as trump muses', 'warning for easily provoked types', 'was vietnam winnable', 'watch out world trump is coming', 'way too many trumps', 'we choose each other over and over because we want to readers share their openmarriage stories', 'we must support human rights', 'we still need james comey', 'wealthy people benefit the poor much less so', 'welcoming trump and obama to europe presents a study in contrasts', 'well illustrated childbirth', 'were bad at death can we talk', 'what are your expectations about earning saving and spending money', 'what book would you recommend for americas current political moment', 'what childhood classic would you like to see turned into a movie or tv show', 'what do you gain from pursuing something you do really really badly', 'what do you think you would learn from traveling to all 50 states', 'what do you want to read this summer', 'what has  failed in france', 'what have you learned from animals', 'what im telling you and only you', 'what is your favorite sports movie', 'what is your reaction to the recent flood of breaking political news', 'what should teenagers summer plans include adult mentors', 'what to remember about watergate', 'what trump threatened in israel', 'what white house correspondents pack', 'what you get for  1900000', 'what you get for  2300000', 'what you get for  850000', 'whats going on in this picture  may 1 2017', 'whats going on in this picture  may 15 2017', 'whats going on in this picture  may 22 2017', 'whats going on in this picture  may 8 2017', 'whats the matter with europe', 'whats the matter with republicans', 'whats your favorite mood booster', 'when a child is leading the world', 'when a roommate wont pay upevent info', 'when activists were jailed their wives fought back', 'when flamethrowers like ann coulter come to campus', 'when ghosts draw you close', 'when patients hit a medical wall', 'when politicians pick their voters', 'when politics  roils market tuning out may pay off', 'when terrorists target children', 'when the lab rat is a snake', 'when the prize money goes to the least likely', 'when the war came home', 'when will republicans stand up to trump', 'where in the world', 'where the extras claim the spotlight', 'wheres ivanka when we need her', 'which tech overlords can you live without', 'white house challenges query on ethics and gets stern reply', 'white house knew flynn lied exofficial testifies', 'white on the field blue in the stands', 'who is a criminal', 'why a hacking attack failed to sway the french vote for president', 'why marathons are more dangerous for nearby residents than runners', 'why my father votes for le pen', 'why republicans are always looking over their shoulders', 'why should we worry about the national debt', 'why the world is getting hacked', 'why were this mans muscles weak and his body covered with pink dots', 'will anyone in congress step up to save the republic', 'will the  presidency survive this president', 'will the extra billions be enough', 'winter driving hazard', 'with drastic measures mets call attention to drastic times', 'work requirement ignites fairness debate', 'world awaits presidents decision on us future in paris accord', 'yankees wins do not extend to ticket sales', 'yes you can write more than one letter in a square', 'young lad big sword brute force wink', 'zika twins a window into much more than a virus']\n"
     ]
    }
   ],
   "source": [
    "text.sort()\n",
    "print(text)"
   ]
  },
  {
   "cell_type": "code",
   "execution_count": 111,
   "metadata": {
    "scrolled": true
   },
   "outputs": [
    {
     "name": "stdout",
     "output_type": "stream",
     "text": [
      "i accidentally killed a child may i contact the family\n"
     ]
    }
   ],
   "source": [
    "print(text[386])"
   ]
  },
  {
   "cell_type": "code",
   "execution_count": 93,
   "metadata": {
    "scrolled": true
   },
   "outputs": [
    {
     "data": {
      "text/plain": [
       "[[106, 206],\n",
       " [106, 206, 975],\n",
       " [106, 206, 975, 501],\n",
       " [106, 206, 975, 501, 5],\n",
       " [106, 206, 975, 501, 5, 976],\n",
       " [106, 206, 975, 501, 5, 976, 502],\n",
       " [106, 206, 975, 501, 5, 976, 502, 292],\n",
       " [106, 206, 975, 501, 5, 976, 502, 292, 116],\n",
       " [269, 438],\n",
       " [710, 43],\n",
       " [710, 43, 3]]"
      ]
     },
     "execution_count": 93,
     "metadata": {},
     "output_type": "execute_result"
    }
   ],
   "source": [
    "sequences = []\n",
    "for line in text: # 1,214 개의 샘플에 대해서 샘플을 1개씩 가져온다.\n",
    "    encoded = t.texts_to_sequences([line])[0] # 각 샘플에 대한 정수 인코딩\n",
    "    for i in range(1, len(encoded)):\n",
    "        sequence = encoded[:i+1]\n",
    "        sequences.append(sequence)\n",
    "\n",
    "sequences[:11] # 11개의 샘플 출력"
   ]
  },
  {
   "cell_type": "code",
   "execution_count": 94,
   "metadata": {},
   "outputs": [
    {
     "name": "stdout",
     "output_type": "stream",
     "text": [
      "빈도수 상위 1번 단어 : the\n",
      "빈도수 상위 582번 단어 : taiwan\n"
     ]
    }
   ],
   "source": [
    "index_to_word = {}\n",
    "for key, value in t.word_index.items(): # 인덱스를 단어로 바꾸기 위해 index_to_word를 생성\n",
    "    index_to_word[value] = key\n",
    "\n",
    "print('빈도수 상위 1번 단어 :', index_to_word[1])\n",
    "print('빈도수 상위 582번 단어 :', index_to_word[582])"
   ]
  },
  {
   "cell_type": "code",
   "execution_count": 95,
   "metadata": {},
   "outputs": [
    {
     "name": "stdout",
     "output_type": "stream",
     "text": [
      "샘플의 최대 길이 : 16\n"
     ]
    }
   ],
   "source": [
    "max_len = max(len(s) for s in sequences)\n",
    "print('샘플의 최대 길이 :', max_len)"
   ]
  },
  {
   "cell_type": "code",
   "execution_count": 96,
   "metadata": {},
   "outputs": [
    {
     "name": "stdout",
     "output_type": "stream",
     "text": [
      "[[  0   0   0   0   0   0   0   0   0   0   0   0   0   0 106 206]\n",
      " [  0   0   0   0   0   0   0   0   0   0   0   0   0 106 206 975]\n",
      " [  0   0   0   0   0   0   0   0   0   0   0   0 106 206 975 501]]\n"
     ]
    }
   ],
   "source": [
    "# 전체 샘플의 길이를 24(가장 긴 샘플의 길이)로 패딩\n",
    "# 'pre' 옵션을 주면 앞을 0으로 패딩\n",
    "sequences = pad_sequences(sequences, maxlen=max_len, padding='pre')\n",
    "print(sequences[:3])"
   ]
  },
  {
   "cell_type": "code",
   "execution_count": 97,
   "metadata": {},
   "outputs": [],
   "source": [
    "x = sequences[:,:-1]\n",
    "y = sequences[:,-1]"
   ]
  },
  {
   "cell_type": "code",
   "execution_count": 98,
   "metadata": {},
   "outputs": [],
   "source": [
    "# 레이블 데이터 y에 대해서 원-핫 인코딩을 수행\n",
    "y = to_categorical(y, num_classes=vocab_size)"
   ]
  },
  {
   "cell_type": "code",
   "execution_count": 99,
   "metadata": {},
   "outputs": [
    {
     "data": {
      "text/plain": [
       "((5501, 15), (5501, 2653))"
      ]
     },
     "execution_count": 99,
     "metadata": {},
     "output_type": "execute_result"
    }
   ],
   "source": [
    "x.shape, y.shape"
   ]
  },
  {
   "cell_type": "markdown",
   "metadata": {},
   "source": [
    "## 2. 모델 설계 및 학습"
   ]
  },
  {
   "cell_type": "code",
   "execution_count": 100,
   "metadata": {},
   "outputs": [],
   "source": [
    "from tensorflow import keras\n",
    "from keras.models import Sequential\n",
    "from keras.layers import Embedding, Dense, LSTM"
   ]
  },
  {
   "cell_type": "code",
   "execution_count": 101,
   "metadata": {},
   "outputs": [
    {
     "name": "stdout",
     "output_type": "stream",
     "text": [
      "Model: \"sequential_2\"\n",
      "_________________________________________________________________\n",
      "Layer (type)                 Output Shape              Param #   \n",
      "=================================================================\n",
      "Embedding_Layer (Embedding)  (None, 15, 10)            26530     \n",
      "_________________________________________________________________\n",
      "LSTM_Layer (LSTM)            (None, 128)               71168     \n",
      "_________________________________________________________________\n",
      "Output_Layer (Dense)         (None, 2653)              342237    \n",
      "=================================================================\n",
      "Total params: 439,935\n",
      "Trainable params: 439,935\n",
      "Non-trainable params: 0\n",
      "_________________________________________________________________\n"
     ]
    }
   ],
   "source": [
    "# 임베딩 벡터는 10차원, 은닉 상태 크기는 128\n",
    "model = Sequential()\n",
    "model.add(Embedding(vocab_size, 10, input_length=max_len-1, \n",
    "                    name=\"Embedding_Layer\"))\n",
    "model.add(LSTM(128, name=\"LSTM_Layer\"))\n",
    "model.add(Dense(vocab_size, activation='softmax', name=\"Output_Layer\"))\n",
    "model.summary()"
   ]
  },
  {
   "cell_type": "code",
   "execution_count": 102,
   "metadata": {},
   "outputs": [],
   "source": [
    "model.compile(loss='categorical_crossentropy', \n",
    "              optimizer='adam', metrics=['accuracy'])"
   ]
  },
  {
   "cell_type": "code",
   "execution_count": 103,
   "metadata": {},
   "outputs": [
    {
     "name": "stderr",
     "output_type": "stream",
     "text": [
      "C:\\ProgramData\\Anaconda3\\envs\\tf2\\lib\\site-packages\\tensorflow_core\\python\\framework\\indexed_slices.py:433: UserWarning: Converting sparse IndexedSlices to a dense Tensor of unknown shape. This may consume a large amount of memory.\n",
      "  \"Converting sparse IndexedSlices to a dense Tensor of unknown shape. \"\n"
     ]
    },
    {
     "name": "stdout",
     "output_type": "stream",
     "text": [
      "Epoch 1/200\n",
      " - 2s - loss: 7.4983 - accuracy: 0.0334\n",
      "Epoch 2/200\n",
      " - 2s - loss: 7.0002 - accuracy: 0.0369\n",
      "Epoch 3/200\n",
      " - 2s - loss: 6.8756 - accuracy: 0.0369\n",
      "Epoch 4/200\n",
      " - 2s - loss: 6.7753 - accuracy: 0.0396\n",
      "Epoch 5/200\n",
      " - 2s - loss: 6.6665 - accuracy: 0.0474\n",
      "Epoch 6/200\n",
      " - 2s - loss: 6.5402 - accuracy: 0.0484\n",
      "Epoch 7/200\n",
      " - 2s - loss: 6.3966 - accuracy: 0.0509\n",
      "Epoch 8/200\n",
      " - 2s - loss: 6.2294 - accuracy: 0.0544\n",
      "Epoch 9/200\n",
      " - 2s - loss: 6.0528 - accuracy: 0.0571\n",
      "Epoch 10/200\n",
      " - 2s - loss: 5.8736 - accuracy: 0.0627\n",
      "Epoch 11/200\n",
      " - 2s - loss: 5.7039 - accuracy: 0.0682\n",
      "Epoch 12/200\n",
      " - 2s - loss: 5.5427 - accuracy: 0.0767\n",
      "Epoch 13/200\n",
      " - 2s - loss: 5.3862 - accuracy: 0.0796\n",
      "Epoch 14/200\n",
      " - 2s - loss: 5.2344 - accuracy: 0.0893\n",
      "Epoch 15/200\n",
      " - 2s - loss: 5.0896 - accuracy: 0.0938\n",
      "Epoch 16/200\n",
      " - 2s - loss: 4.9486 - accuracy: 0.0983\n",
      "Epoch 17/200\n",
      " - 2s - loss: 4.8140 - accuracy: 0.1103\n",
      "Epoch 18/200\n",
      " - 2s - loss: 4.6844 - accuracy: 0.1223\n",
      "Epoch 19/200\n",
      " - 2s - loss: 4.5549 - accuracy: 0.1383\n",
      "Epoch 20/200\n",
      " - 2s - loss: 4.4325 - accuracy: 0.1492\n",
      "Epoch 21/200\n",
      " - 2s - loss: 4.3148 - accuracy: 0.1596\n",
      "Epoch 22/200\n",
      " - 2s - loss: 4.2005 - accuracy: 0.1834\n",
      "Epoch 23/200\n",
      " - 2s - loss: 4.0876 - accuracy: 0.1925\n",
      "Epoch 24/200\n",
      " - 2s - loss: 3.9764 - accuracy: 0.2111\n",
      "Epoch 25/200\n",
      " - 2s - loss: 3.8726 - accuracy: 0.2276\n",
      "Epoch 26/200\n",
      " - 2s - loss: 3.7663 - accuracy: 0.2507\n",
      "Epoch 27/200\n",
      " - 2s - loss: 3.6664 - accuracy: 0.2616\n",
      "Epoch 28/200\n",
      " - 2s - loss: 3.5689 - accuracy: 0.2812\n",
      "Epoch 29/200\n",
      " - 2s - loss: 3.4747 - accuracy: 0.2981\n",
      "Epoch 30/200\n",
      " - 2s - loss: 3.3818 - accuracy: 0.3165\n",
      "Epoch 31/200\n",
      " - 2s - loss: 3.2920 - accuracy: 0.3339\n",
      "Epoch 32/200\n",
      " - 2s - loss: 3.2054 - accuracy: 0.3496\n",
      "Epoch 33/200\n",
      " - 2s - loss: 3.1197 - accuracy: 0.3656\n",
      "Epoch 34/200\n",
      " - 2s - loss: 3.0365 - accuracy: 0.3770\n",
      "Epoch 35/200\n",
      " - 2s - loss: 2.9596 - accuracy: 0.3957\n",
      "Epoch 36/200\n",
      " - 2s - loss: 2.8806 - accuracy: 0.4132\n",
      "Epoch 37/200\n",
      " - 2s - loss: 2.8052 - accuracy: 0.4259\n",
      "Epoch 38/200\n",
      " - 2s - loss: 2.7351 - accuracy: 0.4412\n",
      "Epoch 39/200\n",
      " - 2s - loss: 2.6654 - accuracy: 0.4488\n",
      "Epoch 40/200\n",
      " - 2s - loss: 2.5952 - accuracy: 0.4672\n",
      "Epoch 41/200\n",
      " - 2s - loss: 2.5334 - accuracy: 0.4797\n",
      "Epoch 42/200\n",
      " - 2s - loss: 2.4693 - accuracy: 0.4952\n",
      "Epoch 43/200\n",
      " - 2s - loss: 2.4082 - accuracy: 0.5052\n",
      "Epoch 44/200\n",
      " - 2s - loss: 2.3516 - accuracy: 0.5226\n",
      "Epoch 45/200\n",
      " - 2s - loss: 2.2940 - accuracy: 0.5286\n",
      "Epoch 46/200\n",
      " - 2s - loss: 2.2360 - accuracy: 0.5464\n",
      "Epoch 47/200\n",
      " - 2s - loss: 2.1811 - accuracy: 0.5588\n",
      "Epoch 48/200\n",
      " - 2s - loss: 2.1299 - accuracy: 0.5644\n",
      "Epoch 49/200\n",
      " - 2s - loss: 2.0858 - accuracy: 0.5746\n",
      "Epoch 50/200\n",
      " - 2s - loss: 2.0326 - accuracy: 0.5852\n",
      "Epoch 51/200\n",
      " - 2s - loss: 1.9834 - accuracy: 0.5999\n",
      "Epoch 52/200\n",
      " - 2s - loss: 1.9382 - accuracy: 0.6041\n",
      "Epoch 53/200\n",
      " - 2s - loss: 1.8926 - accuracy: 0.6161\n",
      "Epoch 54/200\n",
      " - 2s - loss: 1.8519 - accuracy: 0.6270\n",
      "Epoch 55/200\n",
      " - 2s - loss: 1.8116 - accuracy: 0.6355\n",
      "Epoch 56/200\n",
      " - 2s - loss: 1.7692 - accuracy: 0.6401\n",
      "Epoch 57/200\n",
      " - 2s - loss: 1.7292 - accuracy: 0.6455\n",
      "Epoch 58/200\n",
      " - 2s - loss: 1.6911 - accuracy: 0.6539\n",
      "Epoch 59/200\n",
      " - 2s - loss: 1.6517 - accuracy: 0.6632\n",
      "Epoch 60/200\n",
      " - 2s - loss: 1.6164 - accuracy: 0.6726\n",
      "Epoch 61/200\n",
      " - 2s - loss: 1.5799 - accuracy: 0.6761\n",
      "Epoch 62/200\n",
      " - 2s - loss: 1.5476 - accuracy: 0.6895\n",
      "Epoch 63/200\n",
      " - 2s - loss: 1.5119 - accuracy: 0.6937\n",
      "Epoch 64/200\n",
      " - 2s - loss: 1.4814 - accuracy: 0.6966\n",
      "Epoch 65/200\n",
      " - 2s - loss: 1.4474 - accuracy: 0.7084\n",
      "Epoch 66/200\n",
      " - 2s - loss: 1.4179 - accuracy: 0.7170\n",
      "Epoch 67/200\n",
      " - 2s - loss: 1.3869 - accuracy: 0.7188\n",
      "Epoch 68/200\n",
      " - 2s - loss: 1.3585 - accuracy: 0.7259\n",
      "Epoch 69/200\n",
      " - 2s - loss: 1.3300 - accuracy: 0.7319\n",
      "Epoch 70/200\n",
      " - 2s - loss: 1.3034 - accuracy: 0.7391\n",
      "Epoch 71/200\n",
      " - 2s - loss: 1.2763 - accuracy: 0.7433\n",
      "Epoch 72/200\n",
      " - 2s - loss: 1.2482 - accuracy: 0.7455\n",
      "Epoch 73/200\n",
      " - 2s - loss: 1.2276 - accuracy: 0.7522\n",
      "Epoch 74/200\n",
      " - 2s - loss: 1.1988 - accuracy: 0.7586\n",
      "Epoch 75/200\n",
      " - 2s - loss: 1.1746 - accuracy: 0.7639\n",
      "Epoch 76/200\n",
      " - 2s - loss: 1.1499 - accuracy: 0.7695\n",
      "Epoch 77/200\n",
      " - 2s - loss: 1.1285 - accuracy: 0.7710\n",
      "Epoch 78/200\n",
      " - 2s - loss: 1.1048 - accuracy: 0.7751\n",
      "Epoch 79/200\n",
      " - 2s - loss: 1.0827 - accuracy: 0.7800\n",
      "Epoch 80/200\n",
      " - 2s - loss: 1.0633 - accuracy: 0.7842\n",
      "Epoch 81/200\n",
      " - 2s - loss: 1.0435 - accuracy: 0.7864\n",
      "Epoch 82/200\n",
      " - 2s - loss: 1.0245 - accuracy: 0.7924\n",
      "Epoch 83/200\n",
      " - 2s - loss: 1.0058 - accuracy: 0.7953\n",
      "Epoch 84/200\n",
      " - 2s - loss: 0.9852 - accuracy: 0.8000\n",
      "Epoch 85/200\n",
      " - 2s - loss: 0.9690 - accuracy: 0.8013\n",
      "Epoch 86/200\n",
      " - 2s - loss: 0.9491 - accuracy: 0.8031\n",
      "Epoch 87/200\n",
      " - 2s - loss: 0.9315 - accuracy: 0.8086\n",
      "Epoch 88/200\n",
      " - 2s - loss: 0.9157 - accuracy: 0.8093\n",
      "Epoch 89/200\n",
      " - 2s - loss: 0.8977 - accuracy: 0.8148\n",
      "Epoch 90/200\n",
      " - 2s - loss: 0.8827 - accuracy: 0.8182\n",
      "Epoch 91/200\n",
      " - 2s - loss: 0.8664 - accuracy: 0.8206\n",
      "Epoch 92/200\n",
      " - 2s - loss: 0.8530 - accuracy: 0.8208\n",
      "Epoch 93/200\n",
      " - 2s - loss: 0.8374 - accuracy: 0.8240\n",
      "Epoch 94/200\n",
      " - 2s - loss: 0.8216 - accuracy: 0.8268\n",
      "Epoch 95/200\n",
      " - 2s - loss: 0.8080 - accuracy: 0.8309\n",
      "Epoch 96/200\n",
      " - 2s - loss: 0.7949 - accuracy: 0.8318\n",
      "Epoch 97/200\n",
      " - 2s - loss: 0.7790 - accuracy: 0.8337\n",
      "Epoch 98/200\n",
      " - 2s - loss: 0.7666 - accuracy: 0.8377\n",
      "Epoch 99/200\n",
      " - 2s - loss: 0.7573 - accuracy: 0.8375\n",
      "Epoch 100/200\n",
      " - 2s - loss: 0.7410 - accuracy: 0.8437\n",
      "Epoch 101/200\n",
      " - 2s - loss: 0.7282 - accuracy: 0.8453\n",
      "Epoch 102/200\n",
      " - 2s - loss: 0.7174 - accuracy: 0.8482\n",
      "Epoch 103/200\n",
      " - 2s - loss: 0.7047 - accuracy: 0.8497\n",
      "Epoch 104/200\n",
      " - 2s - loss: 0.6971 - accuracy: 0.8511\n",
      "Epoch 105/200\n",
      " - 2s - loss: 0.6881 - accuracy: 0.8520\n",
      "Epoch 106/200\n",
      " - 2s - loss: 0.6732 - accuracy: 0.8500\n",
      "Epoch 107/200\n",
      " - 2s - loss: 0.6605 - accuracy: 0.8589\n",
      "Epoch 108/200\n",
      " - 2s - loss: 0.6497 - accuracy: 0.8588\n",
      "Epoch 109/200\n",
      " - 2s - loss: 0.6410 - accuracy: 0.8608\n",
      "Epoch 110/200\n",
      " - 2s - loss: 0.6303 - accuracy: 0.8633\n",
      "Epoch 111/200\n",
      " - 2s - loss: 0.6218 - accuracy: 0.8653\n",
      "Epoch 112/200\n",
      " - 2s - loss: 0.6115 - accuracy: 0.8657\n",
      "Epoch 113/200\n",
      " - 2s - loss: 0.6033 - accuracy: 0.8697\n",
      "Epoch 114/200\n",
      " - 2s - loss: 0.5935 - accuracy: 0.8680\n",
      "Epoch 115/200\n",
      " - 2s - loss: 0.5892 - accuracy: 0.8691\n",
      "Epoch 116/200\n",
      " - 2s - loss: 0.5823 - accuracy: 0.8720\n",
      "Epoch 117/200\n",
      " - 2s - loss: 0.5719 - accuracy: 0.8720\n",
      "Epoch 118/200\n",
      " - 2s - loss: 0.5805 - accuracy: 0.8704\n",
      "Epoch 119/200\n",
      " - 2s - loss: 0.5690 - accuracy: 0.8728\n",
      "Epoch 120/200\n",
      " - 2s - loss: 0.5489 - accuracy: 0.8764\n",
      "Epoch 121/200\n",
      " - 2s - loss: 0.5385 - accuracy: 0.8775\n",
      "Epoch 122/200\n",
      " - 2s - loss: 0.5312 - accuracy: 0.8766\n",
      "Epoch 123/200\n",
      " - 2s - loss: 0.5239 - accuracy: 0.8789\n",
      "Epoch 124/200\n",
      " - 2s - loss: 0.5173 - accuracy: 0.8795\n",
      "Epoch 125/200\n",
      " - 2s - loss: 0.5115 - accuracy: 0.8791\n",
      "Epoch 126/200\n",
      " - 2s - loss: 0.5053 - accuracy: 0.8824\n",
      "Epoch 127/200\n",
      " - 2s - loss: 0.4974 - accuracy: 0.8826\n",
      "Epoch 128/200\n",
      " - 2s - loss: 0.4928 - accuracy: 0.8815\n",
      "Epoch 129/200\n",
      " - 2s - loss: 0.4870 - accuracy: 0.8853\n",
      "Epoch 130/200\n",
      " - 2s - loss: 0.4807 - accuracy: 0.8873\n",
      "Epoch 131/200\n",
      " - 2s - loss: 0.4745 - accuracy: 0.8857\n",
      "Epoch 132/200\n",
      " - 2s - loss: 0.4698 - accuracy: 0.8873\n",
      "Epoch 133/200\n",
      " - 2s - loss: 0.4656 - accuracy: 0.8889\n",
      "Epoch 134/200\n",
      " - 2s - loss: 0.4680 - accuracy: 0.8846\n",
      "Epoch 135/200\n",
      " - 2s - loss: 0.4745 - accuracy: 0.8837\n",
      "Epoch 136/200\n",
      " - 2s - loss: 0.4709 - accuracy: 0.8857\n",
      "Epoch 137/200\n",
      " - 2s - loss: 0.4610 - accuracy: 0.8842\n",
      "Epoch 138/200\n",
      " - 2s - loss: 0.4424 - accuracy: 0.8889\n",
      "Epoch 139/200\n",
      " - 2s - loss: 0.4352 - accuracy: 0.8897\n",
      "Epoch 140/200\n",
      " - 2s - loss: 0.4311 - accuracy: 0.8895\n",
      "Epoch 141/200\n",
      " - 2s - loss: 0.4271 - accuracy: 0.8915\n",
      "Epoch 142/200\n",
      " - 2s - loss: 0.4236 - accuracy: 0.8906\n",
      "Epoch 143/200\n",
      " - 2s - loss: 0.4190 - accuracy: 0.8922\n",
      "Epoch 144/200\n",
      " - 2s - loss: 0.4165 - accuracy: 0.8920\n",
      "Epoch 145/200\n",
      " - 2s - loss: 0.4130 - accuracy: 0.8915\n",
      "Epoch 146/200\n",
      " - 2s - loss: 0.4077 - accuracy: 0.8931\n",
      "Epoch 147/200\n",
      " - 2s - loss: 0.4044 - accuracy: 0.8926\n",
      "Epoch 148/200\n",
      " - 2s - loss: 0.4020 - accuracy: 0.8929\n",
      "Epoch 149/200\n",
      " - 2s - loss: 0.4001 - accuracy: 0.8924\n",
      "Epoch 150/200\n",
      " - 2s - loss: 0.3963 - accuracy: 0.8926\n",
      "Epoch 151/200\n",
      " - 2s - loss: 0.3924 - accuracy: 0.8940\n",
      "Epoch 152/200\n",
      " - 2s - loss: 0.3913 - accuracy: 0.8931\n",
      "Epoch 153/200\n",
      " - 2s - loss: 0.3876 - accuracy: 0.8926\n",
      "Epoch 154/200\n",
      " - 2s - loss: 0.3845 - accuracy: 0.8940\n"
     ]
    },
    {
     "name": "stdout",
     "output_type": "stream",
     "text": [
      "Epoch 155/200\n",
      " - 2s - loss: 0.3826 - accuracy: 0.8940\n",
      "Epoch 156/200\n",
      " - 2s - loss: 0.3797 - accuracy: 0.8953\n",
      "Epoch 157/200\n",
      " - 2s - loss: 0.3769 - accuracy: 0.8951\n",
      "Epoch 158/200\n",
      " - 2s - loss: 0.3740 - accuracy: 0.8931\n",
      "Epoch 159/200\n",
      " - 2s - loss: 0.3719 - accuracy: 0.8955\n",
      "Epoch 160/200\n",
      " - 2s - loss: 0.3703 - accuracy: 0.8964\n",
      "Epoch 161/200\n",
      " - 2s - loss: 0.3675 - accuracy: 0.8975\n",
      "Epoch 162/200\n",
      " - 2s - loss: 0.3661 - accuracy: 0.8964\n",
      "Epoch 163/200\n",
      " - 2s - loss: 0.3659 - accuracy: 0.8960\n",
      "Epoch 164/200\n",
      " - 2s - loss: 0.3699 - accuracy: 0.8933\n",
      "Epoch 165/200\n",
      " - 2s - loss: 0.3853 - accuracy: 0.8889\n",
      "Epoch 166/200\n",
      " - 2s - loss: 0.3789 - accuracy: 0.8913\n",
      "Epoch 167/200\n",
      " - 2s - loss: 0.3615 - accuracy: 0.8935\n",
      "Epoch 168/200\n",
      " - 2s - loss: 0.3559 - accuracy: 0.8953\n",
      "Epoch 169/200\n",
      " - 2s - loss: 0.3534 - accuracy: 0.8957\n",
      "Epoch 170/200\n",
      " - 2s - loss: 0.3522 - accuracy: 0.8942\n",
      "Epoch 171/200\n",
      " - 2s - loss: 0.3492 - accuracy: 0.8977\n",
      "Epoch 172/200\n",
      " - 2s - loss: 0.3498 - accuracy: 0.8955\n",
      "Epoch 173/200\n",
      " - 2s - loss: 0.3477 - accuracy: 0.8946\n",
      "Epoch 174/200\n",
      " - 2s - loss: 0.3459 - accuracy: 0.8964\n",
      "Epoch 175/200\n",
      " - 2s - loss: 0.3452 - accuracy: 0.8964\n",
      "Epoch 176/200\n",
      " - 2s - loss: 0.3436 - accuracy: 0.8964\n",
      "Epoch 177/200\n",
      " - 2s - loss: 0.3427 - accuracy: 0.8951\n",
      "Epoch 178/200\n",
      " - 2s - loss: 0.3420 - accuracy: 0.8962\n",
      "Epoch 179/200\n",
      " - 2s - loss: 0.3403 - accuracy: 0.8957\n",
      "Epoch 180/200\n",
      " - 2s - loss: 0.3401 - accuracy: 0.8964\n",
      "Epoch 181/200\n",
      " - 2s - loss: 0.3380 - accuracy: 0.8964\n",
      "Epoch 182/200\n",
      " - 2s - loss: 0.3372 - accuracy: 0.8958\n",
      "Epoch 183/200\n",
      " - 2s - loss: 0.3363 - accuracy: 0.8969\n",
      "Epoch 184/200\n",
      " - 2s - loss: 0.3352 - accuracy: 0.8978\n",
      "Epoch 185/200\n",
      " - 2s - loss: 0.3339 - accuracy: 0.8964\n",
      "Epoch 186/200\n",
      " - 2s - loss: 0.3350 - accuracy: 0.8946\n",
      "Epoch 187/200\n",
      " - 2s - loss: 0.3340 - accuracy: 0.8958\n",
      "Epoch 188/200\n",
      " - 2s - loss: 0.3338 - accuracy: 0.8940\n",
      "Epoch 189/200\n",
      " - 2s - loss: 0.3326 - accuracy: 0.8964\n",
      "Epoch 190/200\n",
      " - 2s - loss: 0.3320 - accuracy: 0.8953\n",
      "Epoch 191/200\n",
      " - 2s - loss: 0.3309 - accuracy: 0.8966\n",
      "Epoch 192/200\n",
      " - 2s - loss: 0.3624 - accuracy: 0.8884\n",
      "Epoch 193/200\n",
      " - 2s - loss: 0.3573 - accuracy: 0.8918\n",
      "Epoch 194/200\n",
      " - 2s - loss: 0.3384 - accuracy: 0.8957\n",
      "Epoch 195/200\n",
      " - 2s - loss: 0.3298 - accuracy: 0.8958\n",
      "Epoch 196/200\n",
      " - 2s - loss: 0.3273 - accuracy: 0.8937\n",
      "Epoch 197/200\n",
      " - 2s - loss: 0.3261 - accuracy: 0.8966\n",
      "Epoch 198/200\n",
      " - 2s - loss: 0.3253 - accuracy: 0.8942\n",
      "Epoch 199/200\n",
      " - 2s - loss: 0.3253 - accuracy: 0.8966\n",
      "Epoch 200/200\n",
      " - 2s - loss: 0.3253 - accuracy: 0.8951\n"
     ]
    }
   ],
   "source": [
    "history = model.fit(x, y, epochs=200, verbose=2)"
   ]
  },
  {
   "cell_type": "code",
   "execution_count": 104,
   "metadata": {},
   "outputs": [],
   "source": [
    "## 3. 모델 검증"
   ]
  },
  {
   "cell_type": "code",
   "execution_count": 126,
   "metadata": {},
   "outputs": [],
   "source": [
    "def sentence_generation(model, t, current_word, n): # 모델, 토크나이저, 현재 단어, 반복할 횟수\n",
    "    init_word = current_word # 처음 들어온 단어도 마지막에 같이 출력하기위해 저장\n",
    "    sentence = ''\n",
    "    for _ in range(n): # n번 반복\n",
    "        encoded = t.texts_to_sequences([current_word])[0] # 현재 단어에 대한 정수 인코딩\n",
    "        encoded = pad_sequences([encoded], maxlen=15, padding='pre') # 데이터에 대한 패딩\n",
    "        result = model.predict_classes(encoded, verbose=0)\n",
    "          # 입력한 X(현재 단어)에 대해서 y를 예측하고 y(예측한 단어)를 result에 저장.\n",
    "        for word, index in t.word_index.items(): \n",
    "            if index == result: # 만약 예측한 단어와 인덱스와 동일한 단어가 있다면\n",
    "                break # 해당 단어가 예측 단어이므로 break\n",
    "        current_word = current_word + ' ' + word # 현재 단어 + ' ' + 예측 단어를 현재 단어로 변경\n",
    "        sentence = sentence + ' ' + word # 예측 단어를 문장에 저장\n",
    "\n",
    "    sentence = init_word + sentence\n",
    "    return sentence"
   ]
  },
  {
   "cell_type": "code",
   "execution_count": 129,
   "metadata": {},
   "outputs": [
    {
     "name": "stdout",
     "output_type": "stream",
     "text": [
      "i defuse cyberattack travel the 500 summer in the opponents\n"
     ]
    }
   ],
   "source": [
    "print(sentence_generation(model, t, 'i', 9))\n",
    "# 임의의 단어 'i'에 대해서 10개의 단어를 추가 생성"
   ]
  },
  {
   "cell_type": "code",
   "execution_count": null,
   "metadata": {},
   "outputs": [],
   "source": []
  },
  {
   "cell_type": "code",
   "execution_count": null,
   "metadata": {},
   "outputs": [],
   "source": []
  },
  {
   "cell_type": "code",
   "execution_count": null,
   "metadata": {},
   "outputs": [],
   "source": []
  }
 ],
 "metadata": {
  "kernelspec": {
   "display_name": "Python 3",
   "language": "python",
   "name": "python3"
  },
  "language_info": {
   "codemirror_mode": {
    "name": "ipython",
    "version": 3
   },
   "file_extension": ".py",
   "mimetype": "text/x-python",
   "name": "python",
   "nbconvert_exporter": "python",
   "pygments_lexer": "ipython3",
   "version": "3.7.7"
  }
 },
 "nbformat": 4,
 "nbformat_minor": 4
}
