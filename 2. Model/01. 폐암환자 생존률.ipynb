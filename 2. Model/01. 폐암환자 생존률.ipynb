{
 "cells": [
  {
   "cell_type": "code",
   "execution_count": 6,
   "metadata": {},
   "outputs": [
    {
     "data": {
      "text/plain": [
       "'2.1.0'"
      ]
     },
     "execution_count": 6,
     "metadata": {},
     "output_type": "execute_result"
    }
   ],
   "source": [
    "# 필요한 라이브러리\n",
    "import numpy as np\n",
    "import tensorflow as tf\n",
    "tf.__version__"
   ]
  },
  {
   "cell_type": "code",
   "execution_count": 7,
   "metadata": {},
   "outputs": [],
   "source": [
    "from tensorflow.keras.models import Sequential\n",
    "from tensorflow.keras.layers import Dense\n",
    "\n"
   ]
  },
  {
   "cell_type": "code",
   "execution_count": 8,
   "metadata": {},
   "outputs": [],
   "source": [
    "# 실행할 때마다 같은 결과를 출력하기 위한 seed 값 설정\n",
    "seed = 0\n",
    "np.random.seed(seed)\n",
    "tf.random.set_seed(seed)"
   ]
  },
  {
   "cell_type": "code",
   "execution_count": 9,
   "metadata": {},
   "outputs": [
    {
     "data": {
      "text/plain": [
       "array([[293.  ,   1.  ,   3.8 , ...,   0.  ,  62.  ,   0.  ],\n",
       "       [  1.  ,   2.  ,   2.88, ...,   0.  ,  60.  ,   0.  ],\n",
       "       [  8.  ,   2.  ,   3.19, ...,   0.  ,  66.  ,   1.  ],\n",
       "       ...,\n",
       "       [406.  ,   6.  ,   5.36, ...,   0.  ,  62.  ,   0.  ],\n",
       "       [ 25.  ,   8.  ,   4.32, ...,   0.  ,  58.  ,   1.  ],\n",
       "       [447.  ,   8.  ,   5.2 , ...,   0.  ,  49.  ,   0.  ]])"
      ]
     },
     "execution_count": 9,
     "metadata": {},
     "output_type": "execute_result"
    }
   ],
   "source": [
    "# 준비된 수술 환자 데이터를 불러들임\n",
    "Data_set = np.loadtxt(\"../dataset/ThoraricSurgery.csv\", delimiter=\",\")\n",
    "Data_set"
   ]
  },
  {
   "cell_type": "code",
   "execution_count": 10,
   "metadata": {},
   "outputs": [
    {
     "data": {
      "text/plain": [
       "((470, 17), (470,))"
      ]
     },
     "execution_count": 10,
     "metadata": {},
     "output_type": "execute_result"
    }
   ],
   "source": [
    "# 환자의 기록과 수술 결과를 X와 Y로 구분하여 저장\n",
    "X = Data_set[:, 0:17]\n",
    "Y = Data_set[:, 17]\n",
    "X.shape, Y.shape"
   ]
  },
  {
   "cell_type": "code",
   "execution_count": 11,
   "metadata": {},
   "outputs": [],
   "source": [
    "from tensorflow.keras.models import Sequential\n",
    "from tensorflow.keras.layers import Dense"
   ]
  },
  {
   "cell_type": "code",
   "execution_count": 12,
   "metadata": {},
   "outputs": [
    {
     "name": "stdout",
     "output_type": "stream",
     "text": [
      "Model: \"sequential\"\n",
      "_________________________________________________________________\n",
      "Layer (type)                 Output Shape              Param #   \n",
      "=================================================================\n",
      "dense (Dense)                (None, 30)                540       \n",
      "_________________________________________________________________\n",
      "dense_1 (Dense)              (None, 1)                 31        \n",
      "=================================================================\n",
      "Total params: 571\n",
      "Trainable params: 571\n",
      "Non-trainable params: 0\n",
      "_________________________________________________________________\n"
     ]
    }
   ],
   "source": [
    "# 딥러닝 모델 설정\n",
    "\n",
    "model = Sequential([Dense(30, input_shape=(17, ), activation='relu'),\n",
    "                   Dense(1, activation = 'sigmoid')])\n",
    "\n",
    "model.summary()"
   ]
  },
  {
   "cell_type": "code",
   "execution_count": 13,
   "metadata": {},
   "outputs": [],
   "source": [
    "# 딥러닝 환경 설정 (오차함수, 최적화함수)\n",
    "model.compile(loss='binary_crossentropy', optimizer='adam', metrics=['accuracy'])"
   ]
  },
  {
   "cell_type": "code",
   "execution_count": 20,
   "metadata": {},
   "outputs": [],
   "source": [
    "from sklearn.model_selection import train_test_split\n",
    "\n",
    "x_train, x_test, y_train, y_test=train_test_split(X, Y, \\\n",
    "                                                  test_size=0.2, random_state=0)"
   ]
  },
  {
   "cell_type": "code",
   "execution_count": 23,
   "metadata": {},
   "outputs": [
    {
     "name": "stdout",
     "output_type": "stream",
     "text": [
      "Train on 300 samples, validate on 76 samples\n",
      "Epoch 1/20\n",
      "300/300 [==============================] - 0s 131us/sample - loss: 0.4893 - accuracy: 0.8100 - val_loss: 0.4649 - val_accuracy: 0.8421\n",
      "Epoch 2/20\n",
      "300/300 [==============================] - 0s 125us/sample - loss: 0.4890 - accuracy: 0.8167 - val_loss: 0.4451 - val_accuracy: 0.8421\n",
      "Epoch 3/20\n",
      "300/300 [==============================] - 0s 117us/sample - loss: 0.5230 - accuracy: 0.8000 - val_loss: 0.5746 - val_accuracy: 0.8421\n",
      "Epoch 4/20\n",
      "300/300 [==============================] - 0s 115us/sample - loss: 0.5863 - accuracy: 0.7633 - val_loss: 0.4454 - val_accuracy: 0.8421\n",
      "Epoch 5/20\n",
      "300/300 [==============================] - 0s 112us/sample - loss: 0.5442 - accuracy: 0.8200 - val_loss: 0.5826 - val_accuracy: 0.6974\n",
      "Epoch 6/20\n",
      "300/300 [==============================] - 0s 114us/sample - loss: 0.5277 - accuracy: 0.8100 - val_loss: 0.5013 - val_accuracy: 0.8289\n",
      "Epoch 7/20\n",
      "300/300 [==============================] - 0s 123us/sample - loss: 0.4959 - accuracy: 0.8200 - val_loss: 0.4702 - val_accuracy: 0.8289\n",
      "Epoch 8/20\n",
      "300/300 [==============================] - 0s 121us/sample - loss: 0.5116 - accuracy: 0.7967 - val_loss: 0.4686 - val_accuracy: 0.8421\n",
      "Epoch 9/20\n",
      "300/300 [==============================] - 0s 117us/sample - loss: 0.4688 - accuracy: 0.8200 - val_loss: 0.4498 - val_accuracy: 0.8289\n",
      "Epoch 10/20\n",
      "300/300 [==============================] - 0s 124us/sample - loss: 0.4759 - accuracy: 0.8200 - val_loss: 0.4448 - val_accuracy: 0.8421\n",
      "Epoch 11/20\n",
      "300/300 [==============================] - 0s 117us/sample - loss: 0.5208 - accuracy: 0.7800 - val_loss: 0.4661 - val_accuracy: 0.8421\n",
      "Epoch 12/20\n",
      "300/300 [==============================] - 0s 117us/sample - loss: 0.5862 - accuracy: 0.8067 - val_loss: 0.6183 - val_accuracy: 0.6711\n",
      "Epoch 13/20\n",
      "300/300 [==============================] - 0s 116us/sample - loss: 0.5569 - accuracy: 0.8000 - val_loss: 0.4520 - val_accuracy: 0.8421\n",
      "Epoch 14/20\n",
      "300/300 [==============================] - 0s 128us/sample - loss: 0.4672 - accuracy: 0.8100 - val_loss: 0.4416 - val_accuracy: 0.8421\n",
      "Epoch 15/20\n",
      "300/300 [==============================] - 0s 120us/sample - loss: 0.4580 - accuracy: 0.8133 - val_loss: 0.4773 - val_accuracy: 0.8421\n",
      "Epoch 16/20\n",
      "300/300 [==============================] - 0s 124us/sample - loss: 0.4754 - accuracy: 0.8233 - val_loss: 0.4716 - val_accuracy: 0.8158\n",
      "Epoch 17/20\n",
      "300/300 [==============================] - 0s 118us/sample - loss: 0.4631 - accuracy: 0.8267 - val_loss: 0.5719 - val_accuracy: 0.7237\n",
      "Epoch 18/20\n",
      "300/300 [==============================] - 0s 124us/sample - loss: 0.4887 - accuracy: 0.8233 - val_loss: 0.4489 - val_accuracy: 0.8421\n",
      "Epoch 19/20\n",
      "300/300 [==============================] - 0s 120us/sample - loss: 0.4477 - accuracy: 0.8300 - val_loss: 0.5148 - val_accuracy: 0.8421\n",
      "Epoch 20/20\n",
      "300/300 [==============================] - 0s 117us/sample - loss: 0.4988 - accuracy: 0.8133 - val_loss: 0.4696 - val_accuracy: 0.8158\n"
     ]
    },
    {
     "data": {
      "text/plain": [
       "<tensorflow.python.keras.callbacks.History at 0x243e60a5288>"
      ]
     },
     "execution_count": 23,
     "metadata": {},
     "output_type": "execute_result"
    }
   ],
   "source": [
    "# 딥러닝 실행\n",
    "model.fit(x_train, y_train, validation_split=0.2, epochs=20, batch_size=10)"
   ]
  },
  {
   "cell_type": "code",
   "execution_count": 24,
   "metadata": {},
   "outputs": [
    {
     "name": "stdout",
     "output_type": "stream",
     "text": [
      "94/94 - 0s - loss: 0.3449 - accuracy: 0.9255\n",
      "\n",
      " Accuracy: 0.9255\n"
     ]
    }
   ],
   "source": [
    "# 결과 출력\n",
    "# evaluate() returns the loss value & metrics values for the model \n",
    "print(\"\\n Accuracy: %.4f\" % (model.evaluate(x_test, y_test, verbose=2))[1])"
   ]
  },
  {
   "cell_type": "code",
   "execution_count": null,
   "metadata": {},
   "outputs": [],
   "source": []
  },
  {
   "cell_type": "code",
   "execution_count": null,
   "metadata": {},
   "outputs": [],
   "source": []
  }
 ],
 "metadata": {
  "kernelspec": {
   "display_name": "Python 3",
   "language": "python",
   "name": "python3"
  },
  "language_info": {
   "codemirror_mode": {
    "name": "ipython",
    "version": 3
   },
   "file_extension": ".py",
   "mimetype": "text/x-python",
   "name": "python",
   "nbconvert_exporter": "python",
   "pygments_lexer": "ipython3",
   "version": "3.7.7"
  }
 },
 "nbformat": 4,
 "nbformat_minor": 4
}
