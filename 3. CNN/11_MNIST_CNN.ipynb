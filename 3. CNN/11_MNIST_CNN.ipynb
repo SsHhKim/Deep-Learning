{
 "cells": [
  {
   "cell_type": "code",
   "execution_count": 1,
   "metadata": {},
   "outputs": [],
   "source": [
    "# 이미지 인식 - CNN\n",
    "## MNIST 사례"
   ]
  },
  {
   "cell_type": "code",
   "execution_count": 2,
   "metadata": {},
   "outputs": [
    {
     "name": "stderr",
     "output_type": "stream",
     "text": [
      "Using TensorFlow backend.\n"
     ]
    }
   ],
   "source": [
    "import numpy  as np\n",
    "import tensorflow as tf\n",
    "from tensorflow import keras\n",
    "from keras.datasets import mnist\n",
    "from keras.models import Sequential\n",
    "from keras.layers import Dense, Dropout, Flatten, Conv2D, MaxPooling2D\n",
    "from keras.callbacks import ModelCheckpoint, EarlyStopping\n",
    "\n",
    "import os\n",
    "import matplotlib.pyplot as plt\n",
    "%matplotlib inline"
   ]
  },
  {
   "cell_type": "code",
   "execution_count": 3,
   "metadata": {},
   "outputs": [],
   "source": [
    "# seed 값 설정\n",
    "seed = 0\n",
    "np.random.seed(seed)\n",
    "tf.random.set_seed(seed)"
   ]
  },
  {
   "cell_type": "code",
   "execution_count": 11,
   "metadata": {},
   "outputs": [],
   "source": [
    "# 데이터 불러오기\n",
    "(x_train, y_train), (x_test, y_test) = mnist.load_data()\n",
    "x_train = x_train.reshape(-1, 28, 28, 1).astype('float32') / 255\n",
    "x_test = x_test.reshape(-1, 28, 28, 1).astype('float32') / 255\n",
    "y_train = tf.keras.utils.to_categorical(y_train)\n",
    "y_test = tf.keras.utils.to_categorical(y_test)"
   ]
  },
  {
   "cell_type": "code",
   "execution_count": 12,
   "metadata": {},
   "outputs": [
    {
     "data": {
      "text/plain": [
       "(60000, 28, 28, 1)"
      ]
     },
     "execution_count": 12,
     "metadata": {},
     "output_type": "execute_result"
    }
   ],
   "source": [
    "x_train.shape"
   ]
  },
  {
   "cell_type": "code",
   "execution_count": 13,
   "metadata": {},
   "outputs": [
    {
     "data": {
      "text/plain": [
       "(60000, 10)"
      ]
     },
     "execution_count": 13,
     "metadata": {},
     "output_type": "execute_result"
    }
   ],
   "source": [
    "y_train.shape"
   ]
  },
  {
   "cell_type": "code",
   "execution_count": 20,
   "metadata": {},
   "outputs": [
    {
     "name": "stdout",
     "output_type": "stream",
     "text": [
      "Model: \"sequential_7\"\n",
      "_________________________________________________________________\n",
      "Layer (type)                 Output Shape              Param #   \n",
      "=================================================================\n",
      "conv2d_13 (Conv2D)           (None, 28, 28, 32)        64        \n",
      "_________________________________________________________________\n",
      "conv2d_14 (Conv2D)           (None, 26, 26, 64)        18496     \n",
      "_________________________________________________________________\n",
      "max_pooling2d_7 (MaxPooling2 (None, 13, 13, 64)        0         \n",
      "_________________________________________________________________\n",
      "dropout_13 (Dropout)         (None, 13, 13, 64)        0         \n",
      "_________________________________________________________________\n",
      "flatten_7 (Flatten)          (None, 10816)             0         \n",
      "_________________________________________________________________\n",
      "dense_13 (Dense)             (None, 128)               1384576   \n",
      "_________________________________________________________________\n",
      "dropout_14 (Dropout)         (None, 128)               0         \n",
      "_________________________________________________________________\n",
      "dense_14 (Dense)             (None, 10)                1290      \n",
      "=================================================================\n",
      "Total params: 1,404,426\n",
      "Trainable params: 1,404,426\n",
      "Non-trainable params: 0\n",
      "_________________________________________________________________\n"
     ]
    }
   ],
   "source": [
    "# 컨볼루션 신경망 설정\n",
    "\n",
    "model = Sequential([Conv2D(32, kernel_size=(1,1), input_shape=(28,28,1), activation='relu'),\n",
    "                   Conv2D(64, (3, 3), activation='relu'), MaxPooling2D(pool_size=2),\n",
    "                   Dropout(0.25), Flatten(), Dense(128, activation='relu'),\n",
    "                   Dropout(0.5), Dense(10, activation='softmax')])\n",
    "\n",
    "model.summary()"
   ]
  },
  {
   "cell_type": "code",
   "execution_count": 6,
   "metadata": {},
   "outputs": [],
   "source": [
    "model.compile(loss='categorical_crossentropy', optimizer='adam', metrics=['accuracy'])"
   ]
  },
  {
   "cell_type": "code",
   "execution_count": 7,
   "metadata": {},
   "outputs": [],
   "source": [
    "# 모델 최적화 설정\n",
    "MODEL_DIR = './model1/'\n",
    "if not os.path.exists(MODEL_DIR) :\n",
    "    os.mkdir(MODEL_DIR)"
   ]
  },
  {
   "cell_type": "code",
   "execution_count": 8,
   "metadata": {},
   "outputs": [],
   "source": [
    "modelpath = MODEL_DIR + \"mnist-cnn-{epoch:02d}-{val_loss:.4f}.hdf5\"\n",
    "checkpointer = ModelCheckpoint(filepath=modelpath, monitor='val_loss',\n",
    "                              verbose=1, save_best_only=True)\n",
    "early_stopping_callback = EarlyStopping(monitor='val_loss', patience=10)"
   ]
  },
  {
   "cell_type": "code",
   "execution_count": 9,
   "metadata": {},
   "outputs": [
    {
     "name": "stdout",
     "output_type": "stream",
     "text": [
      "Train on 60000 samples, validate on 10000 samples\n",
      "Epoch 1/30\n",
      "60000/60000 [==============================] - 44s 735us/step - loss: 0.2872 - accuracy: 0.9120 - val_loss: 0.0545 - val_accuracy: 0.9826\n",
      "\n",
      "Epoch 00001: val_loss improved from inf to 0.05450, saving model to ./model1/mnist-cnn-01-0.0545.hdf5\n",
      "Epoch 2/30\n",
      "60000/60000 [==============================] - 43s 723us/step - loss: 0.0893 - accuracy: 0.9739 - val_loss: 0.0424 - val_accuracy: 0.9865\n",
      "\n",
      "Epoch 00002: val_loss improved from 0.05450 to 0.04245, saving model to ./model1/mnist-cnn-02-0.0424.hdf5\n",
      "Epoch 3/30\n",
      "60000/60000 [==============================] - 44s 726us/step - loss: 0.0700 - accuracy: 0.9793 - val_loss: 0.0344 - val_accuracy: 0.9880\n",
      "\n",
      "Epoch 00003: val_loss improved from 0.04245 to 0.03444, saving model to ./model1/mnist-cnn-03-0.0344.hdf5\n",
      "Epoch 4/30\n",
      "60000/60000 [==============================] - 44s 730us/step - loss: 0.0546 - accuracy: 0.9834 - val_loss: 0.0403 - val_accuracy: 0.9873\n",
      "\n",
      "Epoch 00004: val_loss did not improve from 0.03444\n",
      "Epoch 5/30\n",
      "60000/60000 [==============================] - 43s 722us/step - loss: 0.0485 - accuracy: 0.9848 - val_loss: 0.0361 - val_accuracy: 0.9891\n",
      "\n",
      "Epoch 00005: val_loss did not improve from 0.03444\n",
      "Epoch 6/30\n",
      "60000/60000 [==============================] - 44s 726us/step - loss: 0.0413 - accuracy: 0.9866 - val_loss: 0.0291 - val_accuracy: 0.9909\n",
      "\n",
      "Epoch 00006: val_loss improved from 0.03444 to 0.02905, saving model to ./model1/mnist-cnn-06-0.0291.hdf5\n",
      "Epoch 7/30\n",
      "60000/60000 [==============================] - 44s 733us/step - loss: 0.0346 - accuracy: 0.9888 - val_loss: 0.0315 - val_accuracy: 0.9901\n",
      "\n",
      "Epoch 00007: val_loss did not improve from 0.02905\n",
      "Epoch 8/30\n",
      "60000/60000 [==============================] - 43s 724us/step - loss: 0.0323 - accuracy: 0.9897 - val_loss: 0.0318 - val_accuracy: 0.9911\n",
      "\n",
      "Epoch 00008: val_loss did not improve from 0.02905\n",
      "Epoch 9/30\n",
      "60000/60000 [==============================] - 43s 724us/step - loss: 0.0295 - accuracy: 0.9903 - val_loss: 0.0297 - val_accuracy: 0.9911\n",
      "\n",
      "Epoch 00009: val_loss did not improve from 0.02905\n",
      "Epoch 10/30\n",
      "60000/60000 [==============================] - 44s 727us/step - loss: 0.0255 - accuracy: 0.9916 - val_loss: 0.0299 - val_accuracy: 0.9910\n",
      "\n",
      "Epoch 00010: val_loss did not improve from 0.02905\n",
      "Epoch 11/30\n",
      "60000/60000 [==============================] - 44s 734us/step - loss: 0.0240 - accuracy: 0.9920 - val_loss: 0.0313 - val_accuracy: 0.9912\n",
      "\n",
      "Epoch 00011: val_loss did not improve from 0.02905\n",
      "Epoch 12/30\n",
      "60000/60000 [==============================] - 44s 731us/step - loss: 0.0218 - accuracy: 0.9928 - val_loss: 0.0300 - val_accuracy: 0.9918\n",
      "\n",
      "Epoch 00012: val_loss did not improve from 0.02905\n",
      "Epoch 13/30\n",
      "60000/60000 [==============================] - 43s 717us/step - loss: 0.0223 - accuracy: 0.9928 - val_loss: 0.0306 - val_accuracy: 0.9907\n",
      "\n",
      "Epoch 00013: val_loss did not improve from 0.02905\n",
      "Epoch 14/30\n",
      "60000/60000 [==============================] - 42s 704us/step - loss: 0.0194 - accuracy: 0.9935 - val_loss: 0.0311 - val_accuracy: 0.9913\n",
      "\n",
      "Epoch 00014: val_loss did not improve from 0.02905\n",
      "Epoch 15/30\n",
      "60000/60000 [==============================] - 42s 704us/step - loss: 0.0193 - accuracy: 0.9939 - val_loss: 0.0280 - val_accuracy: 0.9929\n",
      "\n",
      "Epoch 00015: val_loss improved from 0.02905 to 0.02796, saving model to ./model1/mnist-cnn-15-0.0280.hdf5\n",
      "Epoch 16/30\n",
      "60000/60000 [==============================] - 42s 707us/step - loss: 0.0180 - accuracy: 0.9940 - val_loss: 0.0271 - val_accuracy: 0.9930\n",
      "\n",
      "Epoch 00016: val_loss improved from 0.02796 to 0.02713, saving model to ./model1/mnist-cnn-16-0.0271.hdf5\n",
      "Epoch 17/30\n",
      "60000/60000 [==============================] - 43s 709us/step - loss: 0.0173 - accuracy: 0.9943 - val_loss: 0.0322 - val_accuracy: 0.9917\n",
      "\n",
      "Epoch 00017: val_loss did not improve from 0.02713\n",
      "Epoch 18/30\n",
      "60000/60000 [==============================] - 42s 702us/step - loss: 0.0146 - accuracy: 0.9947 - val_loss: 0.0292 - val_accuracy: 0.9932\n",
      "\n",
      "Epoch 00018: val_loss did not improve from 0.02713\n",
      "Epoch 19/30\n",
      "60000/60000 [==============================] - 42s 706us/step - loss: 0.0138 - accuracy: 0.9949 - val_loss: 0.0307 - val_accuracy: 0.9930\n",
      "\n",
      "Epoch 00019: val_loss did not improve from 0.02713\n",
      "Epoch 20/30\n",
      "60000/60000 [==============================] - 42s 702us/step - loss: 0.0159 - accuracy: 0.9949 - val_loss: 0.0306 - val_accuracy: 0.9928\n",
      "\n",
      "Epoch 00020: val_loss did not improve from 0.02713\n",
      "Epoch 21/30\n",
      "60000/60000 [==============================] - 42s 705us/step - loss: 0.0133 - accuracy: 0.9952 - val_loss: 0.0314 - val_accuracy: 0.9932\n",
      "\n",
      "Epoch 00021: val_loss did not improve from 0.02713\n",
      "Epoch 22/30\n",
      "60000/60000 [==============================] - 42s 706us/step - loss: 0.0134 - accuracy: 0.9953 - val_loss: 0.0310 - val_accuracy: 0.9933\n",
      "\n",
      "Epoch 00022: val_loss did not improve from 0.02713\n",
      "Epoch 23/30\n",
      "60000/60000 [==============================] - 42s 702us/step - loss: 0.0114 - accuracy: 0.9960 - val_loss: 0.0332 - val_accuracy: 0.9931\n",
      "\n",
      "Epoch 00023: val_loss did not improve from 0.02713\n",
      "Epoch 24/30\n",
      "60000/60000 [==============================] - 43s 712us/step - loss: 0.0117 - accuracy: 0.9958 - val_loss: 0.0311 - val_accuracy: 0.9928\n",
      "\n",
      "Epoch 00024: val_loss did not improve from 0.02713\n",
      "Epoch 25/30\n",
      "60000/60000 [==============================] - 42s 705us/step - loss: 0.0127 - accuracy: 0.9955 - val_loss: 0.0277 - val_accuracy: 0.9932\n",
      "\n",
      "Epoch 00025: val_loss did not improve from 0.02713\n",
      "Epoch 26/30\n",
      "60000/60000 [==============================] - 42s 708us/step - loss: 0.0106 - accuracy: 0.9964 - val_loss: 0.0308 - val_accuracy: 0.9933\n",
      "\n",
      "Epoch 00026: val_loss did not improve from 0.02713\n"
     ]
    }
   ],
   "source": [
    "# 모델의 실행\n",
    "history = model.fit(x_train, y_train, validation_data=(x_test, y_test), \n",
    "                    epochs=30, batch_size=200,\n",
    "                   callbacks=[early_stopping_callback, checkpointer])"
   ]
  },
  {
   "cell_type": "code",
   "execution_count": null,
   "metadata": {},
   "outputs": [],
   "source": [
    "from keras.models import load_model\n",
    "del model1\n",
    "model1 = load_model('model1/mnist-cnn-09-0.0295.hdf5')"
   ]
  },
  {
   "cell_type": "code",
   "execution_count": null,
   "metadata": {
    "scrolled": true
   },
   "outputs": [],
   "source": [
    "# 테스트 정확도 출력\n",
    "print(\"\\n Test Accuracy : %.4f\" % (model1.evaluate(x_test, y_test, verbose=0)[1]))"
   ]
  },
  {
   "cell_type": "code",
   "execution_count": null,
   "metadata": {},
   "outputs": [],
   "source": [
    "# 테스트셋의 오차\n",
    "y_vloss = history.history['val_loss']\n",
    "\n",
    "# 학습셋의 오차\n",
    "y_loss = history.history['loss']"
   ]
  },
  {
   "cell_type": "code",
   "execution_count": null,
   "metadata": {},
   "outputs": [],
   "source": [
    "# 그래프로 표현\n",
    "x_len = np.arange(1, len(y_loss)+1)\n",
    "plt.figure(figsize=(8,6))\n",
    "plt.plot(x_len, y_vloss, marker='.', c='red', label='Testset_loss')\n",
    "plt.plot(x_len, y_loss, marker='.', c='blue', label='Trainset_loss')\n",
    "\n",
    "# 그래프에 그리드를 주고 레이블을 표시\n",
    "plt.legend(loc='upper right')\n",
    "# plt.axie([0, 20, 0, 0.35])\n",
    "plt.grid()\n",
    "plt.xlabel('epoch')\n",
    "plt.ylabel('loss')\n",
    "plt.show()"
   ]
  },
  {
   "cell_type": "code",
   "execution_count": null,
   "metadata": {},
   "outputs": [],
   "source": []
  },
  {
   "cell_type": "code",
   "execution_count": null,
   "metadata": {},
   "outputs": [],
   "source": []
  },
  {
   "cell_type": "code",
   "execution_count": null,
   "metadata": {
    "scrolled": true
   },
   "outputs": [],
   "source": [
    "# 모델의 실행\n",
    "history = model.fit(x_train, y_train, validation_data=(x_test, y_test), \n",
    "                    epochs=50, batch_size=20,\n",
    "                   callbacks=[early_stopping_callback, checkpointer])"
   ]
  },
  {
   "cell_type": "code",
   "execution_count": null,
   "metadata": {},
   "outputs": [],
   "source": [
    "# 테스트 정확도 출력\n",
    "print(\"\\n Test Accuracy : %.4f\" % (model.evaluate(x_test, y_test, verbose=0)[1]))"
   ]
  },
  {
   "cell_type": "code",
   "execution_count": null,
   "metadata": {},
   "outputs": [],
   "source": []
  }
 ],
 "metadata": {
  "kernelspec": {
   "display_name": "Python 3",
   "language": "python",
   "name": "python3"
  },
  "language_info": {
   "codemirror_mode": {
    "name": "ipython",
    "version": 3
   },
   "file_extension": ".py",
   "mimetype": "text/x-python",
   "name": "python",
   "nbconvert_exporter": "python",
   "pygments_lexer": "ipython3",
   "version": "3.7.7"
  }
 },
 "nbformat": 4,
 "nbformat_minor": 4
}
